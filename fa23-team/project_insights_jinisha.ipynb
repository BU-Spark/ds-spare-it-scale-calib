{
 "cells": [
  {
   "cell_type": "markdown",
   "metadata": {},
   "source": [
    "# Spare-it DS701 Project"
   ]
  },
  {
   "cell_type": "code",
   "execution_count": 1,
   "metadata": {},
   "outputs": [],
   "source": [
    "import pandas as pd\n",
    "import matplotlib.pyplot as plt\n",
    "import seaborn as sns\n",
    "import warnings\n",
    "warnings.filterwarnings(\"ignore\")"
   ]
  },
  {
   "cell_type": "markdown",
   "metadata": {},
   "source": [
    "# 1. Client Overview and Problem Statement"
   ]
  },
  {
   "cell_type": "markdown",
   "metadata": {},
   "source": [
    "## 1.1 About Spare-it\n",
    "\n",
    "\n",
    "> **Spare-it: Pioneering Sustainable Waste Management with Cutting-Edge Technology**\n",
    "- Spare-it is a leading sustainable waste management company, harnessing technology and environmental stewardship to help businesses, universities, and office owners reduce their environmental impact, save costs, and enhance efficiency. Its core strategy involves a robust technological framework, combining advanced hardware and software, strategic office design, and gamification to develop comprehensive waste management programs. These initiatives not only boost recycling but also aim to significantly cut waste production.\n",
    "- The company’s mission centers on being a sustainability catalyst, driven by the belief that environmental awareness and behavior change require solid data intelligence. Spare-it provides real-time data on various waste management aspects, including general waste, recycling, and resource utilization like energy and water. This approach empowers organizations to make informed decisions and adopt effective waste reduction strategies.\n",
    "- Spare-it's innovative approach, particularly through gamification, fosters a culture of environmental responsibility among employees and students, making waste management an engaging and meaningful endeavor. Ultimately, Spare-it positions itself as more than a waste management company; it's a collaborative partner in shaping a sustainable future, one step at a time."
   ]
  },
  {
   "cell_type": "markdown",
   "metadata": {},
   "source": [
    "## 1.2 Problem Statement"
   ]
  },
  {
   "cell_type": "markdown",
   "metadata": {},
   "source": [
    "### **Task 1 :** Comparative Analysis of Manual (Fullness) Versus Scale Weight Measurements\n",
    "\n",
    "> **Overview:** This detailed comparative analysis aims to meticulously examine the differences between manual weight measurements conducted by students and the measurements obtained from scales, as recorded in our dataset. The objective is to identify and analyze any notable discrepancies between these two methods. Additionally, this analysis will explore the potential causes of these variances, providing insights into the reliability and accuracy of manual versus scale measurements. This investigation is crucial for understanding the effectiveness of manual weight estimation techniques and the precision of scale measurements, ultimately contributing to the enhancement of data collection methods in weight measurement studies."
   ]
  },
  {
   "cell_type": "markdown",
   "metadata": {},
   "source": [
    "### **Task 2:** Bin Weight Anomaly Detection\n",
    "> **Overview:** This task involves a comprehensive analysis of the noise and signal ratios in weight measurements from our extensive dataset of 1000+ scales. The primary focus is on understanding the reliability and accuracy of these scales by distinguishing between the actual weight signal and the noise in the data. This process is crucial for enhancing the precision of weight measurements in sustainable waste management practices"
   ]
  },
  {
   "cell_type": "markdown",
   "metadata": {},
   "source": []
  },
  {
   "cell_type": "markdown",
   "metadata": {},
   "source": [
    "# 2. Initial Exploratory Data Analysis"
   ]
  },
  {
   "cell_type": "markdown",
   "metadata": {},
   "source": [
    "## 2.1 Data Overview\n",
    "\n",
    "> We have two datasets:\n",
    "- scale_records: This dataset comprises automated scale measurements of waste bins. It includes the weight data along with error codes and other metadata\n",
    "- fullness_assessments: This dataset represents manual assessments of waste bin fullness. Each record includes details about the bin, its location, and the assessment specifics"
   ]
  },
  {
   "cell_type": "code",
   "execution_count": 2,
   "metadata": {},
   "outputs": [
    {
     "name": "stdout",
     "output_type": "stream",
     "text": [
      "                                       wca  \\\n",
      "0     f2fc625f-7ddf-4b7d-8021-667bc38a20d1   \n",
      "1     f2fc625f-7ddf-4b7d-8021-667bc38a20d1   \n",
      "2     f2fc625f-7ddf-4b7d-8021-667bc38a20d1   \n",
      "3     b9d45518-733f-4488-a58c-5341727c9677   \n",
      "4     b9d45518-733f-4488-a58c-5341727c9677   \n",
      "...                                    ...   \n",
      "2642  c8f4b93d-1e8d-4bf3-b206-1211161fa4a8   \n",
      "2643  c8f4b93d-1e8d-4bf3-b206-1211161fa4a8   \n",
      "2644  c8f4b93d-1e8d-4bf3-b206-1211161fa4a8   \n",
      "2645  7cd42ab2-07d7-48f9-bf30-04394bd05db1   \n",
      "2646  7cd42ab2-07d7-48f9-bf30-04394bd05db1   \n",
      "\n",
      "                                       bin                       date  \\\n",
      "0     5069cf4f-5953-411e-a764-0fad4e7b5354  2023-09-13 15:35:37-04:00   \n",
      "1     594843cf-7be5-4a8f-b6c6-c1dc1f1ee956  2023-09-13 15:35:37-04:00   \n",
      "2     65fdffd5-af50-4157-adfa-582251a1b27d  2023-09-13 15:35:37-04:00   \n",
      "3     a8af7a97-eb80-4b93-93b7-b517b153e133  2023-09-13 15:18:31-04:00   \n",
      "4     684d7454-1c8f-48cf-832f-e4823b4edfe3  2023-09-13 15:18:31-04:00   \n",
      "...                                    ...                        ...   \n",
      "2642  3bc5fa70-c46e-4217-a5e3-5515d1441637  2023-11-17 14:21:28-05:00   \n",
      "2643  ca14a0ac-1256-47c9-b499-4b6ebf8de84f  2023-11-17 14:21:28-05:00   \n",
      "2644  e3a6f465-d716-4c49-84f7-8e1bd868053c  2023-11-17 14:21:28-05:00   \n",
      "2645  94b963f7-2593-4106-8f16-cc78a348fdf8  2023-11-17 14:08:06-05:00   \n",
      "2646  dd434df1-b43b-4716-9960-5524238960dc  2023-11-17 14:08:06-05:00   \n",
      "\n",
      "             creator  account                              building  \\\n",
      "0     Bermina Cherry  BU CCDS  Center for Computing & Data Sciences   \n",
      "1     Bermina Cherry  BU CCDS  Center for Computing & Data Sciences   \n",
      "2     Bermina Cherry  BU CCDS  Center for Computing & Data Sciences   \n",
      "3     Bermina Cherry  BU CCDS  Center for Computing & Data Sciences   \n",
      "4     Bermina Cherry  BU CCDS  Center for Computing & Data Sciences   \n",
      "...              ...      ...                                   ...   \n",
      "2642   Tess Shotland  BU CCDS  Center for Computing & Data Sciences   \n",
      "2643   Tess Shotland  BU CCDS  Center for Computing & Data Sciences   \n",
      "2644   Tess Shotland  BU CCDS  Center for Computing & Data Sciences   \n",
      "2645   Tess Shotland  BU CCDS  Center for Computing & Data Sciences   \n",
      "2646   Tess Shotland  BU CCDS  Center for Computing & Data Sciences   \n",
      "\n",
      "               floor stationName   binName         category assessment  \\\n",
      "0     00 Lower Level     CCBU00B  CCBU00BC          Compost  Undefined   \n",
      "1     00 Lower Level     CCBU00B  CCBU00BR  Mixed Recycling  Undefined   \n",
      "2     00 Lower Level     CCBU00B  CCBU00BT            Trash  Undefined   \n",
      "3                 01     CCBU01B  CCBU01BC          Compost  Undefined   \n",
      "4                 01     CCBU01B  CCBU01BR  Mixed Recycling  Undefined   \n",
      "...              ...         ...       ...              ...        ...   \n",
      "2642              16     CCBU16D  CCBU16DC          Compost  Undefined   \n",
      "2643              16     CCBU16D  CCBU16DR  Mixed Recycling  Undefined   \n",
      "2644              16     CCBU16D  CCBU16DT            Trash  Undefined   \n",
      "2645              17     CCBU17B  CCBU17BC          Compost  Undefined   \n",
      "2646              17     CCBU17B  CCBU17BR  Mixed Recycling  Undefined   \n",
      "\n",
      "      fullness  \n",
      "0           10  \n",
      "1           20  \n",
      "2           10  \n",
      "3           10  \n",
      "4           50  \n",
      "...        ...  \n",
      "2642        10  \n",
      "2643        10  \n",
      "2644        90  \n",
      "2645        10  \n",
      "2646        40  \n",
      "\n",
      "[2647 rows x 12 columns]\n"
     ]
    }
   ],
   "source": [
    "excel_file_path = \"/Users/jinishakande/Desktop/BUSPARK/Fullness.xlsx\"\n",
    "df = pd.read_excel(excel_file_path,parse_dates=['date'])\n",
    "print(df)"
   ]
  },
  {
   "cell_type": "code",
   "execution_count": 3,
   "metadata": {},
   "outputs": [],
   "source": [
    "fullness_assessments = pd.read_excel(\"/Users/jinishakande/Desktop/BUSPARK/Fullness.xlsx\",parse_dates=['date'])\n",
    "scale_records = pd.read_csv(\"/Users/jinishakande/Desktop/BUSPARK/Spare.csv\",parse_dates=['createdat','updatedat'])"
   ]
  },
  {
   "cell_type": "code",
   "execution_count": 5,
   "metadata": {},
   "outputs": [
    {
     "name": "stdout",
     "output_type": "stream",
     "text": [
      "(2647, 12)\n",
      "wca            object\n",
      "bin            object\n",
      "date           object\n",
      "creator        object\n",
      "account        object\n",
      "building       object\n",
      "floor          object\n",
      "stationName    object\n",
      "binName        object\n",
      "category       object\n",
      "assessment     object\n",
      "fullness        int64\n",
      "dtype: object\n"
     ]
    },
    {
     "data": {
      "text/html": [
       "<div>\n",
       "<style scoped>\n",
       "    .dataframe tbody tr th:only-of-type {\n",
       "        vertical-align: middle;\n",
       "    }\n",
       "\n",
       "    .dataframe tbody tr th {\n",
       "        vertical-align: top;\n",
       "    }\n",
       "\n",
       "    .dataframe thead th {\n",
       "        text-align: right;\n",
       "    }\n",
       "</style>\n",
       "<table border=\"1\" class=\"dataframe\">\n",
       "  <thead>\n",
       "    <tr style=\"text-align: right;\">\n",
       "      <th></th>\n",
       "      <th>wca</th>\n",
       "      <th>bin</th>\n",
       "      <th>date</th>\n",
       "      <th>creator</th>\n",
       "      <th>account</th>\n",
       "      <th>building</th>\n",
       "      <th>floor</th>\n",
       "      <th>stationName</th>\n",
       "      <th>binName</th>\n",
       "      <th>category</th>\n",
       "      <th>assessment</th>\n",
       "      <th>fullness</th>\n",
       "    </tr>\n",
       "  </thead>\n",
       "  <tbody>\n",
       "    <tr>\n",
       "      <th>0</th>\n",
       "      <td>f2fc625f-7ddf-4b7d-8021-667bc38a20d1</td>\n",
       "      <td>5069cf4f-5953-411e-a764-0fad4e7b5354</td>\n",
       "      <td>2023-09-13 15:35:37-04:00</td>\n",
       "      <td>Bermina Cherry</td>\n",
       "      <td>BU CCDS</td>\n",
       "      <td>Center for Computing &amp; Data Sciences</td>\n",
       "      <td>00 Lower Level</td>\n",
       "      <td>CCBU00B</td>\n",
       "      <td>CCBU00BC</td>\n",
       "      <td>Compost</td>\n",
       "      <td>Undefined</td>\n",
       "      <td>10</td>\n",
       "    </tr>\n",
       "    <tr>\n",
       "      <th>1</th>\n",
       "      <td>f2fc625f-7ddf-4b7d-8021-667bc38a20d1</td>\n",
       "      <td>594843cf-7be5-4a8f-b6c6-c1dc1f1ee956</td>\n",
       "      <td>2023-09-13 15:35:37-04:00</td>\n",
       "      <td>Bermina Cherry</td>\n",
       "      <td>BU CCDS</td>\n",
       "      <td>Center for Computing &amp; Data Sciences</td>\n",
       "      <td>00 Lower Level</td>\n",
       "      <td>CCBU00B</td>\n",
       "      <td>CCBU00BR</td>\n",
       "      <td>Mixed Recycling</td>\n",
       "      <td>Undefined</td>\n",
       "      <td>20</td>\n",
       "    </tr>\n",
       "    <tr>\n",
       "      <th>2</th>\n",
       "      <td>f2fc625f-7ddf-4b7d-8021-667bc38a20d1</td>\n",
       "      <td>65fdffd5-af50-4157-adfa-582251a1b27d</td>\n",
       "      <td>2023-09-13 15:35:37-04:00</td>\n",
       "      <td>Bermina Cherry</td>\n",
       "      <td>BU CCDS</td>\n",
       "      <td>Center for Computing &amp; Data Sciences</td>\n",
       "      <td>00 Lower Level</td>\n",
       "      <td>CCBU00B</td>\n",
       "      <td>CCBU00BT</td>\n",
       "      <td>Trash</td>\n",
       "      <td>Undefined</td>\n",
       "      <td>10</td>\n",
       "    </tr>\n",
       "    <tr>\n",
       "      <th>3</th>\n",
       "      <td>b9d45518-733f-4488-a58c-5341727c9677</td>\n",
       "      <td>a8af7a97-eb80-4b93-93b7-b517b153e133</td>\n",
       "      <td>2023-09-13 15:18:31-04:00</td>\n",
       "      <td>Bermina Cherry</td>\n",
       "      <td>BU CCDS</td>\n",
       "      <td>Center for Computing &amp; Data Sciences</td>\n",
       "      <td>01</td>\n",
       "      <td>CCBU01B</td>\n",
       "      <td>CCBU01BC</td>\n",
       "      <td>Compost</td>\n",
       "      <td>Undefined</td>\n",
       "      <td>10</td>\n",
       "    </tr>\n",
       "    <tr>\n",
       "      <th>4</th>\n",
       "      <td>b9d45518-733f-4488-a58c-5341727c9677</td>\n",
       "      <td>684d7454-1c8f-48cf-832f-e4823b4edfe3</td>\n",
       "      <td>2023-09-13 15:18:31-04:00</td>\n",
       "      <td>Bermina Cherry</td>\n",
       "      <td>BU CCDS</td>\n",
       "      <td>Center for Computing &amp; Data Sciences</td>\n",
       "      <td>01</td>\n",
       "      <td>CCBU01B</td>\n",
       "      <td>CCBU01BR</td>\n",
       "      <td>Mixed Recycling</td>\n",
       "      <td>Undefined</td>\n",
       "      <td>50</td>\n",
       "    </tr>\n",
       "  </tbody>\n",
       "</table>\n",
       "</div>"
      ],
      "text/plain": [
       "                                    wca                                   bin  \\\n",
       "0  f2fc625f-7ddf-4b7d-8021-667bc38a20d1  5069cf4f-5953-411e-a764-0fad4e7b5354   \n",
       "1  f2fc625f-7ddf-4b7d-8021-667bc38a20d1  594843cf-7be5-4a8f-b6c6-c1dc1f1ee956   \n",
       "2  f2fc625f-7ddf-4b7d-8021-667bc38a20d1  65fdffd5-af50-4157-adfa-582251a1b27d   \n",
       "3  b9d45518-733f-4488-a58c-5341727c9677  a8af7a97-eb80-4b93-93b7-b517b153e133   \n",
       "4  b9d45518-733f-4488-a58c-5341727c9677  684d7454-1c8f-48cf-832f-e4823b4edfe3   \n",
       "\n",
       "                        date         creator  account  \\\n",
       "0  2023-09-13 15:35:37-04:00  Bermina Cherry  BU CCDS   \n",
       "1  2023-09-13 15:35:37-04:00  Bermina Cherry  BU CCDS   \n",
       "2  2023-09-13 15:35:37-04:00  Bermina Cherry  BU CCDS   \n",
       "3  2023-09-13 15:18:31-04:00  Bermina Cherry  BU CCDS   \n",
       "4  2023-09-13 15:18:31-04:00  Bermina Cherry  BU CCDS   \n",
       "\n",
       "                               building           floor stationName   binName  \\\n",
       "0  Center for Computing & Data Sciences  00 Lower Level     CCBU00B  CCBU00BC   \n",
       "1  Center for Computing & Data Sciences  00 Lower Level     CCBU00B  CCBU00BR   \n",
       "2  Center for Computing & Data Sciences  00 Lower Level     CCBU00B  CCBU00BT   \n",
       "3  Center for Computing & Data Sciences              01     CCBU01B  CCBU01BC   \n",
       "4  Center for Computing & Data Sciences              01     CCBU01B  CCBU01BR   \n",
       "\n",
       "          category assessment  fullness  \n",
       "0          Compost  Undefined        10  \n",
       "1  Mixed Recycling  Undefined        20  \n",
       "2            Trash  Undefined        10  \n",
       "3          Compost  Undefined        10  \n",
       "4  Mixed Recycling  Undefined        50  "
      ]
     },
     "execution_count": 5,
     "metadata": {},
     "output_type": "execute_result"
    }
   ],
   "source": [
    "print(fullness_assessments.shape)\n",
    "print(fullness_assessments.dtypes)\n",
    "fullness_assessments.head(5)"
   ]
  },
  {
   "cell_type": "code",
   "execution_count": 6,
   "metadata": {},
   "outputs": [
    {
     "name": "stdout",
     "output_type": "stream",
     "text": [
      "(17562111, 12)\n",
      "createdat     datetime64[ns]\n",
      "iotid                 object\n",
      "hide                    bool\n",
      "bin                   object\n",
      "errorcode             object\n",
      "weight               float64\n",
      "battery              float64\n",
      "updatedat     datetime64[ns]\n",
      "weightdiff           float64\n",
      "year                   int64\n",
      "month                  int64\n",
      "day                    int64\n",
      "dtype: object\n"
     ]
    },
    {
     "data": {
      "text/html": [
       "<div>\n",
       "<style scoped>\n",
       "    .dataframe tbody tr th:only-of-type {\n",
       "        vertical-align: middle;\n",
       "    }\n",
       "\n",
       "    .dataframe tbody tr th {\n",
       "        vertical-align: top;\n",
       "    }\n",
       "\n",
       "    .dataframe thead th {\n",
       "        text-align: right;\n",
       "    }\n",
       "</style>\n",
       "<table border=\"1\" class=\"dataframe\">\n",
       "  <thead>\n",
       "    <tr style=\"text-align: right;\">\n",
       "      <th></th>\n",
       "      <th>createdat</th>\n",
       "      <th>iotid</th>\n",
       "      <th>hide</th>\n",
       "      <th>bin</th>\n",
       "      <th>errorcode</th>\n",
       "      <th>weight</th>\n",
       "      <th>battery</th>\n",
       "      <th>updatedat</th>\n",
       "      <th>weightdiff</th>\n",
       "      <th>year</th>\n",
       "      <th>month</th>\n",
       "      <th>day</th>\n",
       "    </tr>\n",
       "  </thead>\n",
       "  <tbody>\n",
       "    <tr>\n",
       "      <th>0</th>\n",
       "      <td>2023-01-07 05:21:00</td>\n",
       "      <td>lora-000060</td>\n",
       "      <td>False</td>\n",
       "      <td>95171614-b019-4eb9-b726-0af6674a9451</td>\n",
       "      <td>NO_ERROR</td>\n",
       "      <td>19850.461585</td>\n",
       "      <td>2536.354620</td>\n",
       "      <td>2023-01-07 05:21:00</td>\n",
       "      <td>NaN</td>\n",
       "      <td>2023</td>\n",
       "      <td>1</td>\n",
       "      <td>7</td>\n",
       "    </tr>\n",
       "    <tr>\n",
       "      <th>1</th>\n",
       "      <td>2023-01-07 06:06:00</td>\n",
       "      <td>lora-000060</td>\n",
       "      <td>False</td>\n",
       "      <td>95171614-b019-4eb9-b726-0af6674a9451</td>\n",
       "      <td>NO_ERROR</td>\n",
       "      <td>19847.409781</td>\n",
       "      <td>2536.049439</td>\n",
       "      <td>2023-01-07 06:06:00</td>\n",
       "      <td>NaN</td>\n",
       "      <td>2023</td>\n",
       "      <td>1</td>\n",
       "      <td>7</td>\n",
       "    </tr>\n",
       "    <tr>\n",
       "      <th>2</th>\n",
       "      <td>2023-01-07 06:12:00</td>\n",
       "      <td>lora-000060</td>\n",
       "      <td>False</td>\n",
       "      <td>95171614-b019-4eb9-b726-0af6674a9451</td>\n",
       "      <td>NO_ERROR</td>\n",
       "      <td>19847.409781</td>\n",
       "      <td>2534.981308</td>\n",
       "      <td>2023-01-07 06:12:00</td>\n",
       "      <td>NaN</td>\n",
       "      <td>2023</td>\n",
       "      <td>1</td>\n",
       "      <td>7</td>\n",
       "    </tr>\n",
       "    <tr>\n",
       "      <th>3</th>\n",
       "      <td>2023-01-07 06:19:00</td>\n",
       "      <td>lora-000060</td>\n",
       "      <td>False</td>\n",
       "      <td>95171614-b019-4eb9-b726-0af6674a9451</td>\n",
       "      <td>NO_ERROR</td>\n",
       "      <td>19844.357977</td>\n",
       "      <td>2534.828717</td>\n",
       "      <td>2023-01-07 06:19:00</td>\n",
       "      <td>NaN</td>\n",
       "      <td>2023</td>\n",
       "      <td>1</td>\n",
       "      <td>7</td>\n",
       "    </tr>\n",
       "    <tr>\n",
       "      <th>4</th>\n",
       "      <td>2023-01-07 06:24:00</td>\n",
       "      <td>lora-000060</td>\n",
       "      <td>False</td>\n",
       "      <td>95171614-b019-4eb9-b726-0af6674a9451</td>\n",
       "      <td>NO_ERROR</td>\n",
       "      <td>19847.409781</td>\n",
       "      <td>2535.439078</td>\n",
       "      <td>2023-01-07 06:24:00</td>\n",
       "      <td>NaN</td>\n",
       "      <td>2023</td>\n",
       "      <td>1</td>\n",
       "      <td>7</td>\n",
       "    </tr>\n",
       "  </tbody>\n",
       "</table>\n",
       "</div>"
      ],
      "text/plain": [
       "            createdat        iotid   hide  \\\n",
       "0 2023-01-07 05:21:00  lora-000060  False   \n",
       "1 2023-01-07 06:06:00  lora-000060  False   \n",
       "2 2023-01-07 06:12:00  lora-000060  False   \n",
       "3 2023-01-07 06:19:00  lora-000060  False   \n",
       "4 2023-01-07 06:24:00  lora-000060  False   \n",
       "\n",
       "                                    bin errorcode        weight      battery  \\\n",
       "0  95171614-b019-4eb9-b726-0af6674a9451  NO_ERROR  19850.461585  2536.354620   \n",
       "1  95171614-b019-4eb9-b726-0af6674a9451  NO_ERROR  19847.409781  2536.049439   \n",
       "2  95171614-b019-4eb9-b726-0af6674a9451  NO_ERROR  19847.409781  2534.981308   \n",
       "3  95171614-b019-4eb9-b726-0af6674a9451  NO_ERROR  19844.357977  2534.828717   \n",
       "4  95171614-b019-4eb9-b726-0af6674a9451  NO_ERROR  19847.409781  2535.439078   \n",
       "\n",
       "            updatedat  weightdiff  year  month  day  \n",
       "0 2023-01-07 05:21:00         NaN  2023      1    7  \n",
       "1 2023-01-07 06:06:00         NaN  2023      1    7  \n",
       "2 2023-01-07 06:12:00         NaN  2023      1    7  \n",
       "3 2023-01-07 06:19:00         NaN  2023      1    7  \n",
       "4 2023-01-07 06:24:00         NaN  2023      1    7  "
      ]
     },
     "execution_count": 6,
     "metadata": {},
     "output_type": "execute_result"
    }
   ],
   "source": [
    "print(scale_records.shape)\n",
    "print(scale_records.dtypes)\n",
    "scale_records.head(5)"
   ]
  },
  {
   "cell_type": "markdown",
   "metadata": {},
   "source": [
    "## 2.2 Data Cleaning"
   ]
  },
  {
   "cell_type": "markdown",
   "metadata": {},
   "source": [
    "### 2.2.1 Missing Values"
   ]
  },
  {
   "cell_type": "code",
   "execution_count": 7,
   "metadata": {},
   "outputs": [
    {
     "name": "stdout",
     "output_type": "stream",
     "text": [
      "wca            0\n",
      "bin            0\n",
      "date           0\n",
      "creator        0\n",
      "account        0\n",
      "building       0\n",
      "floor          0\n",
      "stationName    0\n",
      "binName        0\n",
      "category       0\n",
      "assessment     0\n",
      "fullness       0\n",
      "dtype: int64\n",
      "************************\n",
      "createdat            0\n",
      "iotid                0\n",
      "hide                 0\n",
      "bin                  0\n",
      "errorcode            0\n",
      "weight               0\n",
      "battery              0\n",
      "updatedat            0\n",
      "weightdiff    17562111\n",
      "year                 0\n",
      "month                0\n",
      "day                  0\n",
      "dtype: int64\n"
     ]
    }
   ],
   "source": [
    "print(fullness_assessments.isna().sum())\n",
    "print(\"************************\")\n",
    "print(scale_records.isna().sum())"
   ]
  },
  {
   "cell_type": "code",
   "execution_count": 8,
   "metadata": {},
   "outputs": [
    {
     "data": {
      "text/html": [
       "<div>\n",
       "<style scoped>\n",
       "    .dataframe tbody tr th:only-of-type {\n",
       "        vertical-align: middle;\n",
       "    }\n",
       "\n",
       "    .dataframe tbody tr th {\n",
       "        vertical-align: top;\n",
       "    }\n",
       "\n",
       "    .dataframe thead th {\n",
       "        text-align: right;\n",
       "    }\n",
       "</style>\n",
       "<table border=\"1\" class=\"dataframe\">\n",
       "  <thead>\n",
       "    <tr style=\"text-align: right;\">\n",
       "      <th></th>\n",
       "      <th>createdat</th>\n",
       "      <th>iotid</th>\n",
       "      <th>hide</th>\n",
       "      <th>bin</th>\n",
       "      <th>errorcode</th>\n",
       "      <th>weight</th>\n",
       "      <th>battery</th>\n",
       "      <th>updatedat</th>\n",
       "      <th>weightdiff</th>\n",
       "      <th>year</th>\n",
       "      <th>month</th>\n",
       "      <th>day</th>\n",
       "    </tr>\n",
       "  </thead>\n",
       "  <tbody>\n",
       "    <tr>\n",
       "      <th>0</th>\n",
       "      <td>2023-01-07 05:21:00</td>\n",
       "      <td>lora-000060</td>\n",
       "      <td>False</td>\n",
       "      <td>95171614-b019-4eb9-b726-0af6674a9451</td>\n",
       "      <td>NO_ERROR</td>\n",
       "      <td>19850.461585</td>\n",
       "      <td>2536.354620</td>\n",
       "      <td>2023-01-07 05:21:00</td>\n",
       "      <td>NaN</td>\n",
       "      <td>2023</td>\n",
       "      <td>1</td>\n",
       "      <td>7</td>\n",
       "    </tr>\n",
       "    <tr>\n",
       "      <th>1</th>\n",
       "      <td>2023-01-07 06:06:00</td>\n",
       "      <td>lora-000060</td>\n",
       "      <td>False</td>\n",
       "      <td>95171614-b019-4eb9-b726-0af6674a9451</td>\n",
       "      <td>NO_ERROR</td>\n",
       "      <td>19847.409781</td>\n",
       "      <td>2536.049439</td>\n",
       "      <td>2023-01-07 06:06:00</td>\n",
       "      <td>NaN</td>\n",
       "      <td>2023</td>\n",
       "      <td>1</td>\n",
       "      <td>7</td>\n",
       "    </tr>\n",
       "    <tr>\n",
       "      <th>2</th>\n",
       "      <td>2023-01-07 06:12:00</td>\n",
       "      <td>lora-000060</td>\n",
       "      <td>False</td>\n",
       "      <td>95171614-b019-4eb9-b726-0af6674a9451</td>\n",
       "      <td>NO_ERROR</td>\n",
       "      <td>19847.409781</td>\n",
       "      <td>2534.981308</td>\n",
       "      <td>2023-01-07 06:12:00</td>\n",
       "      <td>NaN</td>\n",
       "      <td>2023</td>\n",
       "      <td>1</td>\n",
       "      <td>7</td>\n",
       "    </tr>\n",
       "    <tr>\n",
       "      <th>3</th>\n",
       "      <td>2023-01-07 06:19:00</td>\n",
       "      <td>lora-000060</td>\n",
       "      <td>False</td>\n",
       "      <td>95171614-b019-4eb9-b726-0af6674a9451</td>\n",
       "      <td>NO_ERROR</td>\n",
       "      <td>19844.357977</td>\n",
       "      <td>2534.828717</td>\n",
       "      <td>2023-01-07 06:19:00</td>\n",
       "      <td>NaN</td>\n",
       "      <td>2023</td>\n",
       "      <td>1</td>\n",
       "      <td>7</td>\n",
       "    </tr>\n",
       "    <tr>\n",
       "      <th>4</th>\n",
       "      <td>2023-01-07 06:24:00</td>\n",
       "      <td>lora-000060</td>\n",
       "      <td>False</td>\n",
       "      <td>95171614-b019-4eb9-b726-0af6674a9451</td>\n",
       "      <td>NO_ERROR</td>\n",
       "      <td>19847.409781</td>\n",
       "      <td>2535.439078</td>\n",
       "      <td>2023-01-07 06:24:00</td>\n",
       "      <td>NaN</td>\n",
       "      <td>2023</td>\n",
       "      <td>1</td>\n",
       "      <td>7</td>\n",
       "    </tr>\n",
       "    <tr>\n",
       "      <th>5</th>\n",
       "      <td>2023-01-07 06:30:00</td>\n",
       "      <td>lora-000060</td>\n",
       "      <td>False</td>\n",
       "      <td>95171614-b019-4eb9-b726-0af6674a9451</td>\n",
       "      <td>NO_ERROR</td>\n",
       "      <td>19847.409781</td>\n",
       "      <td>2535.744259</td>\n",
       "      <td>2023-01-07 06:30:00</td>\n",
       "      <td>NaN</td>\n",
       "      <td>2023</td>\n",
       "      <td>1</td>\n",
       "      <td>7</td>\n",
       "    </tr>\n",
       "    <tr>\n",
       "      <th>6</th>\n",
       "      <td>2023-01-07 06:35:00</td>\n",
       "      <td>lora-000060</td>\n",
       "      <td>False</td>\n",
       "      <td>95171614-b019-4eb9-b726-0af6674a9451</td>\n",
       "      <td>NO_ERROR</td>\n",
       "      <td>19844.357977</td>\n",
       "      <td>2535.896849</td>\n",
       "      <td>2023-01-07 06:35:00</td>\n",
       "      <td>NaN</td>\n",
       "      <td>2023</td>\n",
       "      <td>1</td>\n",
       "      <td>7</td>\n",
       "    </tr>\n",
       "    <tr>\n",
       "      <th>7</th>\n",
       "      <td>2023-01-07 06:40:00</td>\n",
       "      <td>lora-000060</td>\n",
       "      <td>False</td>\n",
       "      <td>95171614-b019-4eb9-b726-0af6674a9451</td>\n",
       "      <td>NO_ERROR</td>\n",
       "      <td>19844.357977</td>\n",
       "      <td>2535.439078</td>\n",
       "      <td>2023-01-07 06:40:00</td>\n",
       "      <td>NaN</td>\n",
       "      <td>2023</td>\n",
       "      <td>1</td>\n",
       "      <td>7</td>\n",
       "    </tr>\n",
       "    <tr>\n",
       "      <th>8</th>\n",
       "      <td>2023-01-07 06:46:00</td>\n",
       "      <td>lora-000060</td>\n",
       "      <td>False</td>\n",
       "      <td>95171614-b019-4eb9-b726-0af6674a9451</td>\n",
       "      <td>NO_ERROR</td>\n",
       "      <td>19844.357977</td>\n",
       "      <td>2535.286488</td>\n",
       "      <td>2023-01-07 06:46:00</td>\n",
       "      <td>NaN</td>\n",
       "      <td>2023</td>\n",
       "      <td>1</td>\n",
       "      <td>7</td>\n",
       "    </tr>\n",
       "    <tr>\n",
       "      <th>9</th>\n",
       "      <td>2023-01-07 06:53:00</td>\n",
       "      <td>lora-000060</td>\n",
       "      <td>False</td>\n",
       "      <td>95171614-b019-4eb9-b726-0af6674a9451</td>\n",
       "      <td>NO_ERROR</td>\n",
       "      <td>18312.352178</td>\n",
       "      <td>2533.455406</td>\n",
       "      <td>2023-01-07 06:53:00</td>\n",
       "      <td>NaN</td>\n",
       "      <td>2023</td>\n",
       "      <td>1</td>\n",
       "      <td>7</td>\n",
       "    </tr>\n",
       "  </tbody>\n",
       "</table>\n",
       "</div>"
      ],
      "text/plain": [
       "            createdat        iotid   hide  \\\n",
       "0 2023-01-07 05:21:00  lora-000060  False   \n",
       "1 2023-01-07 06:06:00  lora-000060  False   \n",
       "2 2023-01-07 06:12:00  lora-000060  False   \n",
       "3 2023-01-07 06:19:00  lora-000060  False   \n",
       "4 2023-01-07 06:24:00  lora-000060  False   \n",
       "5 2023-01-07 06:30:00  lora-000060  False   \n",
       "6 2023-01-07 06:35:00  lora-000060  False   \n",
       "7 2023-01-07 06:40:00  lora-000060  False   \n",
       "8 2023-01-07 06:46:00  lora-000060  False   \n",
       "9 2023-01-07 06:53:00  lora-000060  False   \n",
       "\n",
       "                                    bin errorcode        weight      battery  \\\n",
       "0  95171614-b019-4eb9-b726-0af6674a9451  NO_ERROR  19850.461585  2536.354620   \n",
       "1  95171614-b019-4eb9-b726-0af6674a9451  NO_ERROR  19847.409781  2536.049439   \n",
       "2  95171614-b019-4eb9-b726-0af6674a9451  NO_ERROR  19847.409781  2534.981308   \n",
       "3  95171614-b019-4eb9-b726-0af6674a9451  NO_ERROR  19844.357977  2534.828717   \n",
       "4  95171614-b019-4eb9-b726-0af6674a9451  NO_ERROR  19847.409781  2535.439078   \n",
       "5  95171614-b019-4eb9-b726-0af6674a9451  NO_ERROR  19847.409781  2535.744259   \n",
       "6  95171614-b019-4eb9-b726-0af6674a9451  NO_ERROR  19844.357977  2535.896849   \n",
       "7  95171614-b019-4eb9-b726-0af6674a9451  NO_ERROR  19844.357977  2535.439078   \n",
       "8  95171614-b019-4eb9-b726-0af6674a9451  NO_ERROR  19844.357977  2535.286488   \n",
       "9  95171614-b019-4eb9-b726-0af6674a9451  NO_ERROR  18312.352178  2533.455406   \n",
       "\n",
       "            updatedat  weightdiff  year  month  day  \n",
       "0 2023-01-07 05:21:00         NaN  2023      1    7  \n",
       "1 2023-01-07 06:06:00         NaN  2023      1    7  \n",
       "2 2023-01-07 06:12:00         NaN  2023      1    7  \n",
       "3 2023-01-07 06:19:00         NaN  2023      1    7  \n",
       "4 2023-01-07 06:24:00         NaN  2023      1    7  \n",
       "5 2023-01-07 06:30:00         NaN  2023      1    7  \n",
       "6 2023-01-07 06:35:00         NaN  2023      1    7  \n",
       "7 2023-01-07 06:40:00         NaN  2023      1    7  \n",
       "8 2023-01-07 06:46:00         NaN  2023      1    7  \n",
       "9 2023-01-07 06:53:00         NaN  2023      1    7  "
      ]
     },
     "execution_count": 8,
     "metadata": {},
     "output_type": "execute_result"
    }
   ],
   "source": [
    "scale_records[scale_records['weightdiff'].isna()].head(10)"
   ]
  },
  {
   "cell_type": "markdown",
   "metadata": {},
   "source": [
    "There are no missing values in both files. weightdiff column in the scale_records file has missing values, but this is due to the records having the same weight as seen above."
   ]
  },
  {
   "cell_type": "markdown",
   "metadata": {},
   "source": [
    "### 2.2.2 Duplicate records"
   ]
  },
  {
   "cell_type": "code",
   "execution_count": 9,
   "metadata": {},
   "outputs": [
    {
     "data": {
      "text/plain": [
       "(0, 12)"
      ]
     },
     "execution_count": 9,
     "metadata": {},
     "output_type": "execute_result"
    }
   ],
   "source": [
    "duplicates = scale_records[scale_records.duplicated()]\n",
    "duplicates.shape # 11.6M Duplicates"
   ]
  },
  {
   "cell_type": "code",
   "execution_count": 10,
   "metadata": {},
   "outputs": [],
   "source": [
    "scale_records_clean = scale_records.drop_duplicates()\n",
    "scale_records_clean = scale_records_clean.copy()"
   ]
  },
  {
   "cell_type": "code",
   "execution_count": 11,
   "metadata": {},
   "outputs": [
    {
     "data": {
      "text/plain": [
       "(17562111, 12)"
      ]
     },
     "execution_count": 11,
     "metadata": {},
     "output_type": "execute_result"
    }
   ],
   "source": [
    "scale_records_clean.shape"
   ]
  },
  {
   "cell_type": "markdown",
   "metadata": {},
   "source": [
    "### 2.2.3 Converting Dates to Datetime"
   ]
  },
  {
   "cell_type": "code",
   "execution_count": 12,
   "metadata": {},
   "outputs": [
    {
     "name": "stdout",
     "output_type": "stream",
     "text": [
      "object\n",
      "datetime64[ns]\n"
     ]
    }
   ],
   "source": [
    "print(fullness_assessments['date'].dtype)\n",
    "print(scale_records_clean['createdat'].dtype)"
   ]
  },
  {
   "cell_type": "code",
   "execution_count": 13,
   "metadata": {},
   "outputs": [
    {
     "data": {
      "text/html": [
       "<div>\n",
       "<style scoped>\n",
       "    .dataframe tbody tr th:only-of-type {\n",
       "        vertical-align: middle;\n",
       "    }\n",
       "\n",
       "    .dataframe tbody tr th {\n",
       "        vertical-align: top;\n",
       "    }\n",
       "\n",
       "    .dataframe thead th {\n",
       "        text-align: right;\n",
       "    }\n",
       "</style>\n",
       "<table border=\"1\" class=\"dataframe\">\n",
       "  <thead>\n",
       "    <tr style=\"text-align: right;\">\n",
       "      <th></th>\n",
       "      <th>wca</th>\n",
       "      <th>bin</th>\n",
       "      <th>date</th>\n",
       "      <th>creator</th>\n",
       "      <th>account</th>\n",
       "      <th>building</th>\n",
       "      <th>floor</th>\n",
       "      <th>stationName</th>\n",
       "      <th>binName</th>\n",
       "      <th>category</th>\n",
       "      <th>assessment</th>\n",
       "      <th>fullness</th>\n",
       "    </tr>\n",
       "  </thead>\n",
       "  <tbody>\n",
       "    <tr>\n",
       "      <th>0</th>\n",
       "      <td>f2fc625f-7ddf-4b7d-8021-667bc38a20d1</td>\n",
       "      <td>5069cf4f-5953-411e-a764-0fad4e7b5354</td>\n",
       "      <td>2023-09-13 15:35:37-04:00</td>\n",
       "      <td>Bermina Cherry</td>\n",
       "      <td>BU CCDS</td>\n",
       "      <td>Center for Computing &amp; Data Sciences</td>\n",
       "      <td>00 Lower Level</td>\n",
       "      <td>CCBU00B</td>\n",
       "      <td>CCBU00BC</td>\n",
       "      <td>Compost</td>\n",
       "      <td>Undefined</td>\n",
       "      <td>10</td>\n",
       "    </tr>\n",
       "    <tr>\n",
       "      <th>1</th>\n",
       "      <td>f2fc625f-7ddf-4b7d-8021-667bc38a20d1</td>\n",
       "      <td>594843cf-7be5-4a8f-b6c6-c1dc1f1ee956</td>\n",
       "      <td>2023-09-13 15:35:37-04:00</td>\n",
       "      <td>Bermina Cherry</td>\n",
       "      <td>BU CCDS</td>\n",
       "      <td>Center for Computing &amp; Data Sciences</td>\n",
       "      <td>00 Lower Level</td>\n",
       "      <td>CCBU00B</td>\n",
       "      <td>CCBU00BR</td>\n",
       "      <td>Mixed Recycling</td>\n",
       "      <td>Undefined</td>\n",
       "      <td>20</td>\n",
       "    </tr>\n",
       "  </tbody>\n",
       "</table>\n",
       "</div>"
      ],
      "text/plain": [
       "                                    wca                                   bin  \\\n",
       "0  f2fc625f-7ddf-4b7d-8021-667bc38a20d1  5069cf4f-5953-411e-a764-0fad4e7b5354   \n",
       "1  f2fc625f-7ddf-4b7d-8021-667bc38a20d1  594843cf-7be5-4a8f-b6c6-c1dc1f1ee956   \n",
       "\n",
       "                        date         creator  account  \\\n",
       "0  2023-09-13 15:35:37-04:00  Bermina Cherry  BU CCDS   \n",
       "1  2023-09-13 15:35:37-04:00  Bermina Cherry  BU CCDS   \n",
       "\n",
       "                               building           floor stationName   binName  \\\n",
       "0  Center for Computing & Data Sciences  00 Lower Level     CCBU00B  CCBU00BC   \n",
       "1  Center for Computing & Data Sciences  00 Lower Level     CCBU00B  CCBU00BR   \n",
       "\n",
       "          category assessment  fullness  \n",
       "0          Compost  Undefined        10  \n",
       "1  Mixed Recycling  Undefined        20  "
      ]
     },
     "execution_count": 13,
     "metadata": {},
     "output_type": "execute_result"
    }
   ],
   "source": [
    "fullness_assessments.head(2)"
   ]
  },
  {
   "cell_type": "code",
   "execution_count": 14,
   "metadata": {},
   "outputs": [],
   "source": [
    "# Convert date columns to datetime format\n",
    "fullness_assessments['date'] = pd.to_datetime(fullness_assessments['date'], utc=True).dt.tz_convert(None).dt.floor('T')\n",
    "\n",
    "# Convert 'updatedat' in scale_records_clean to datetime (if it's not already) and truncate to minute\n",
    "scale_records_clean['updatedat'] = pd.to_datetime(scale_records_clean['updatedat']).dt.floor('T')"
   ]
  },
  {
   "cell_type": "markdown",
   "metadata": {},
   "source": [
    "## 2.3 Bin Profiling\n",
    "- There are 1,188 unique bins on 17 Floors in CDS building\n",
    "- Categories of bins in a station are Trash, Mixed Recycling, Compost\n",
    "- Scales can have upto 6 bins under its realm "
   ]
  },
  {
   "cell_type": "code",
   "execution_count": 15,
   "metadata": {},
   "outputs": [
    {
     "name": "stdout",
     "output_type": "stream",
     "text": [
      "There are 1218 unique scales.\n",
      "There are 1298 unique bins.\n"
     ]
    }
   ],
   "source": [
    "unique_bins_count = scale_records_clean['iotid'].nunique()\n",
    "print(f\"There are {unique_bins_count} unique scales.\")\n",
    "\n",
    "unique_bins_count = scale_records_clean['bin'].nunique()\n",
    "print(f\"There are {unique_bins_count} unique bins.\")"
   ]
  },
  {
   "cell_type": "code",
   "execution_count": 16,
   "metadata": {},
   "outputs": [
    {
     "name": "stdout",
     "output_type": "stream",
     "text": [
      "1298\n",
      "Value counts for wca:\n",
      "\n",
      "f2fc625f-7ddf-4b7d-8021-667bc38a20d1    3\n",
      "d878b8ed-201e-42ac-91d6-40c827f53e0f    3\n",
      "9480af1d-f02f-4558-81c9-8a5dc8097bf0    3\n",
      "c7891168-788d-455c-81ea-ad68888e8357    3\n",
      "f760264f-11de-43f9-9f6d-da2cf3818ebd    3\n",
      "                                       ..\n",
      "fa7bbe54-db43-4c14-a04f-2dbbfdf533ef    1\n",
      "860d77c4-e6ab-488e-8205-723eb2bd2666    1\n",
      "40a98763-0ff4-4c5e-a169-512465b85fbf    1\n",
      "48395909-a5b0-41d2-8316-7cd7ad48ada3    1\n",
      "e478c05a-9967-4611-ad68-8debb961e900    1\n",
      "Name: wca, Length: 1317, dtype: int64\n",
      "\n",
      "==================================================\n",
      "\n",
      "Value counts for bin:\n",
      "\n",
      "8be0c432-00b4-41ff-976b-5adf1e7670d7    28\n",
      "d65ef7bf-3f7c-4540-b7d0-9d29d6462d93    28\n",
      "71ed9899-2c2a-4ed2-8463-2143e4cb99d5    25\n",
      "8bae2c55-986a-486e-a869-baa128651d95    25\n",
      "c77d993f-cc97-4091-abd7-377aa5650772    24\n",
      "                                        ..\n",
      "b66147b1-c78c-4951-9795-0de008ff9b6b     1\n",
      "a00a991c-858d-4765-806e-a97a9003e57d     1\n",
      "8ee255fd-edb7-4071-90d8-a506f18bac7e     1\n",
      "6909b79a-21f1-4463-a866-c25d803402ea     1\n",
      "0c48f73e-287c-4dca-83a9-f7951cbb21f2     1\n",
      "Name: bin, Length: 228, dtype: int64\n",
      "\n",
      "==================================================\n",
      "\n",
      "Value counts for date:\n",
      "\n",
      "2023-10-04 17:42:00    9\n",
      "2023-10-20 19:47:00    6\n",
      "2023-10-27 23:56:00    6\n",
      "2023-10-06 19:29:00    6\n",
      "2023-10-04 17:34:00    6\n",
      "                      ..\n",
      "2023-10-30 21:20:00    1\n",
      "2023-10-05 18:00:00    1\n",
      "2023-10-19 18:56:00    1\n",
      "2023-10-24 00:03:00    1\n",
      "2023-10-02 20:21:00    1\n",
      "Name: date, Length: 1171, dtype: int64\n",
      "\n",
      "==================================================\n",
      "\n",
      "Value counts for creator:\n",
      "\n",
      "Tess Shotland       1374\n",
      "Cece Lagomarsino     582\n",
      "Nina Palmer          491\n",
      "Bermina Cherry       162\n",
      "Lizzie Allen          38\n",
      "Name: creator, dtype: int64\n",
      "\n",
      "==================================================\n",
      "\n",
      "Value counts for account:\n",
      "\n",
      "BU CCDS    2647\n",
      "Name: account, dtype: int64\n",
      "\n",
      "==================================================\n",
      "\n",
      "Value counts for building:\n",
      "\n",
      "Center for Computing & Data Sciences    2647\n",
      "Name: building, dtype: int64\n",
      "\n",
      "==================================================\n",
      "\n",
      "Value counts for floor:\n",
      "\n",
      "01                338\n",
      "05                271\n",
      "02                203\n",
      "03                203\n",
      "16                162\n",
      "04                160\n",
      "07                145\n",
      "11                132\n",
      "08                122\n",
      "10                122\n",
      "09                121\n",
      "06                121\n",
      "13                117\n",
      "15                107\n",
      "12                100\n",
      "14                 93\n",
      "17                 69\n",
      "00 Lower Level     61\n",
      "Name: floor, dtype: int64\n",
      "\n",
      "==================================================\n",
      "\n",
      "Value counts for stationName:\n",
      "\n",
      "CCBU16A    75\n",
      "CCBU01C    63\n",
      "CCBU01A    62\n",
      "CCBU01B    62\n",
      "CCBU01E    59\n",
      "           ..\n",
      "CCBU02E     7\n",
      "CCBU00E     6\n",
      "CCBU02B     5\n",
      "CCBU00C     4\n",
      "CCBU00A     3\n",
      "Name: stationName, Length: 78, dtype: int64\n",
      "\n",
      "==================================================\n",
      "\n",
      "Value counts for binName:\n",
      "\n",
      "CCBU16AT    28\n",
      "CCBU16AR    28\n",
      "CCBU13AT    25\n",
      "CCBU15AT    25\n",
      "CCBU01CR    24\n",
      "            ..\n",
      "CCBU00AC     1\n",
      "CCBU00ER     1\n",
      "CCBU02DR     1\n",
      "CCBU08BC     1\n",
      "CCBU00AR     1\n",
      "Name: binName, Length: 228, dtype: int64\n",
      "\n",
      "==================================================\n",
      "\n",
      "Value counts for category:\n",
      "\n",
      "Trash              1240\n",
      "Mixed Recycling     891\n",
      "Compost             516\n",
      "Name: category, dtype: int64\n",
      "\n",
      "==================================================\n",
      "\n",
      "Value counts for assessment:\n",
      "\n",
      "Undefined    2647\n",
      "Name: assessment, dtype: int64\n",
      "\n",
      "==================================================\n",
      "\n",
      "Value counts for fullness:\n",
      "\n",
      "10     613\n",
      "20     516\n",
      "30     363\n",
      "40     258\n",
      "50     247\n",
      "70     185\n",
      "60     182\n",
      "80     115\n",
      "90     106\n",
      "100     41\n",
      "0       21\n",
      "Name: fullness, dtype: int64\n",
      "\n",
      "==================================================\n",
      "\n",
      "Unique counts for wca:\n",
      "\n",
      "1317\n",
      "\n",
      "==================================================\n",
      "\n",
      "Unique counts for bin:\n",
      "\n",
      "228\n",
      "\n",
      "==================================================\n",
      "\n",
      "Unique counts for date:\n",
      "\n",
      "1171\n",
      "\n",
      "==================================================\n",
      "\n",
      "Unique counts for creator:\n",
      "\n",
      "5\n",
      "\n",
      "==================================================\n",
      "\n",
      "Unique counts for account:\n",
      "\n",
      "1\n",
      "\n",
      "==================================================\n",
      "\n",
      "Unique counts for building:\n",
      "\n",
      "1\n",
      "\n",
      "==================================================\n",
      "\n",
      "Unique counts for floor:\n",
      "\n",
      "18\n",
      "\n",
      "==================================================\n",
      "\n",
      "Unique counts for stationName:\n",
      "\n",
      "78\n",
      "\n",
      "==================================================\n",
      "\n",
      "Unique counts for binName:\n",
      "\n",
      "228\n",
      "\n",
      "==================================================\n",
      "\n",
      "Unique counts for category:\n",
      "\n",
      "3\n",
      "\n",
      "==================================================\n",
      "\n",
      "Unique counts for assessment:\n",
      "\n",
      "1\n",
      "\n",
      "==================================================\n",
      "\n",
      "Unique counts for fullness:\n",
      "\n",
      "11\n",
      "\n",
      "==================================================\n",
      "\n"
     ]
    }
   ],
   "source": [
    "# Unique bins in scale_records\n",
    "print(scale_records_clean['bin'].nunique())\n",
    "\n",
    "# Find total counts for columns\n",
    "for col in fullness_assessments.columns:\n",
    "    print(f\"Value counts for {col}:\\n\")\n",
    "    print(fullness_assessments[col].value_counts())\n",
    "    print(\"\\n\" + \"=\"*50 + \"\\n\")  # Separator for better readability\n",
    "\n",
    "# Find unique counts for columns\n",
    "for col in fullness_assessments.columns:\n",
    "    print(f\"Unique counts for {col}:\\n\")\n",
    "    print(fullness_assessments[col].nunique())\n",
    "    print(\"\\n\" + \"=\"*50 + \"\\n\")  # Separator for better readability"
   ]
  },
  {
   "cell_type": "code",
   "execution_count": 17,
   "metadata": {},
   "outputs": [
    {
     "name": "stdout",
     "output_type": "stream",
     "text": [
      "iotid\n",
      "lora-001610    6\n",
      "lora-000067    5\n",
      "lora-000732    4\n",
      "lora-000152    4\n",
      "lora-000734    4\n",
      "              ..\n",
      "lora-000522    1\n",
      "lora-000523    1\n",
      "lora-000524    1\n",
      "lora-000526    1\n",
      "lora-001866    1\n",
      "Name: bin, Length: 1218, dtype: int64\n"
     ]
    }
   ],
   "source": [
    "# Group by 'iotid' and count unique 'bin' values for each 'iotid'\n",
    "unique_bins_per_iotid = scale_records_clean.groupby('iotid')['bin'].nunique()\n",
    "\n",
    "# Check if each 'iotid' has only one unique 'bin' associated with it\n",
    "is_one_to_one_mapping = all(unique_bins_per_iotid == 1)\n",
    "\n",
    "print(unique_bins_per_iotid.sort_values(ascending=False))"
   ]
  },
  {
   "cell_type": "code",
   "execution_count": 18,
   "metadata": {},
   "outputs": [
    {
     "name": "stdout",
     "output_type": "stream",
     "text": [
      "There are 128 bins with multiple scales.\n"
     ]
    }
   ],
   "source": [
    "# Multiple scales to one bin\n",
    "\n",
    "bin_iotid_counts = scale_records_clean.groupby('bin')['iotid'].nunique()\n",
    "bins_with_multiple_iotids = bin_iotid_counts[bin_iotid_counts > 1]\n",
    "num_bins_with_multiple_iotids = bins_with_multiple_iotids.count()\n",
    "\n",
    "print(f\"There are {num_bins_with_multiple_iotids} bins with multiple scales.\")"
   ]
  },
  {
   "cell_type": "markdown",
   "metadata": {},
   "source": [
    "## 2.4 Error codes\n",
    "- 99.27% of measurements have no error\n",
    "-  0.68% of measurements are out of range\n",
    "- 0.05% of measurements are unstable"
   ]
  },
  {
   "cell_type": "code",
   "execution_count": 19,
   "metadata": {},
   "outputs": [
    {
     "name": "stdout",
     "output_type": "stream",
     "text": [
      "['NO_ERROR' 'OUT_OF_RANGE' 'UNSTABLE']\n"
     ]
    }
   ],
   "source": [
    "# Check unique error codes\n",
    "print(scale_records_clean['errorcode'].unique())"
   ]
  },
  {
   "cell_type": "code",
   "execution_count": 20,
   "metadata": {},
   "outputs": [
    {
     "name": "stdout",
     "output_type": "stream",
     "text": [
      "NO_ERROR        17446900\n",
      "OUT_OF_RANGE      106526\n",
      "UNSTABLE            8685\n",
      "Name: errorcode, dtype: int64\n",
      "************************************************************************************************************************\n",
      "NO_ERROR        99.343980\n",
      "OUT_OF_RANGE     0.606567\n",
      "UNSTABLE         0.049453\n",
      "Name: errorcode, dtype: float64\n"
     ]
    }
   ],
   "source": [
    "print(scale_records_clean['errorcode'].value_counts())\n",
    "percentage_errors = scale_records_clean['errorcode'].value_counts(normalize=True) * 100\n",
    "print(\"************************************************************************************************************************\")\n",
    "print(percentage_errors)"
   ]
  },
  {
   "cell_type": "code",
   "execution_count": 21,
   "metadata": {},
   "outputs": [
    {
     "name": "stdout",
     "output_type": "stream",
     "text": [
      "False    17446771\n",
      "True       115340\n",
      "Name: hide, dtype: int64\n"
     ]
    }
   ],
   "source": [
    "print(scale_records['hide'].value_counts())"
   ]
  },
  {
   "cell_type": "code",
   "execution_count": 22,
   "metadata": {},
   "outputs": [
    {
     "name": "stdout",
     "output_type": "stream",
     "text": [
      "************************************************************************************************************************\n",
      "False    99.343245\n",
      "True      0.656755\n",
      "Name: hide, dtype: float64\n"
     ]
    }
   ],
   "source": [
    "percentage_errors = scale_records_clean['hide'].value_counts(normalize=True) * 100\n",
    "print(\"************************************************************************************************************************\")\n",
    "print(percentage_errors)"
   ]
  },
  {
   "cell_type": "code",
   "execution_count": null,
   "metadata": {},
   "outputs": [],
   "source": []
  },
  {
   "cell_type": "markdown",
   "metadata": {},
   "source": [
    "## 2.5 Plotting one week weight for a sample bin "
   ]
  },
  {
   "cell_type": "code",
   "execution_count": 23,
   "metadata": {},
   "outputs": [
    {
     "data": {
      "image/png": "[encoded data removed]",
      "text/plain": [
       "<Figure size 1080x360 with 1 Axes>"
      ]
     },
     "metadata": {
      "needs_background": "light"
     },
     "output_type": "display_data"
    }
   ],
   "source": [
    "import pandas as pd\n",
    "import matplotlib.pyplot as plt\n",
    "import matplotlib.dates as mdates\n",
    "\n",
    "\n",
    "# Select a random bin \n",
    "random_bin = scale_records_clean['bin'].iloc[10]\n",
    "\n",
    "# Define a function to filter and resample records for a given date\n",
    "def get_daily_records(date):\n",
    "    next_day = date + pd.Timedelta(days=1)\n",
    "    one_day_records = scale_records_clean[(scale_records_clean['bin'] == random_bin) & \n",
    "                                (scale_records_clean['createdat'] >= date) & \n",
    "                                (scale_records_clean['createdat'] < next_day)]\n",
    "    columns_to_include = ['weight']\n",
    "    half_hour_intervals = one_day_records.set_index('createdat')[columns_to_include].resample('30T').mean()\n",
    "    return half_hour_intervals\n",
    "\n",
    "# Set the start date\n",
    "start_date = pd.Timestamp('2023-01-03')\n",
    "all_records = pd.concat([get_daily_records(start_date + pd.Timedelta(days=i)) for i in range(7)])\n",
    "\n",
    "# Plotting\n",
    "plt.figure(figsize=(15,5))\n",
    "\n",
    "colors = ['r', 'g', 'b', 'y', 'm', 'c', 'k']\n",
    "\n",
    "# Loop through each day and plot separately with different color\n",
    "for i in range(7):\n",
    "    daily_records = get_daily_records(start_date + pd.Timedelta(days=i))\n",
    "    plt.plot(daily_records.index, daily_records['weight'], marker='o', linestyle='-', markersize=4, linewidth=0.5, label=f'Day {i+1}', color=colors[i])\n",
    "\n",
    "plt.title(f\"Hourly Weight Trend for Bin: {random_bin} for 7 Days Starting {start_date.date()}\")\n",
    "plt.xlabel('Time')\n",
    "plt.ylabel('Weight')\n",
    "\n",
    "# Formatting for x-axis\n",
    "plt.gca().xaxis.set_major_formatter(mdates.DateFormatter('%Y-%m-%d %H:%M'))\n",
    "plt.xticks(rotation=45, ha='right')  # 'ha' adjusts the alignment of the datetime values\n",
    "\n",
    "plt.legend()\n",
    "plt.tight_layout()\n",
    "plt.grid(True)\n",
    "plt.show()\n"
   ]
  },
  {
   "cell_type": "markdown",
   "metadata": {},
   "source": [
    "# 3. Comparative analysis of manual fullness and scale weight measurements"
   ]
  },
  {
   "cell_type": "markdown",
   "metadata": {},
   "source": [
    "## 3.1 Exploratory Data Analysis for fullness measures"
   ]
  },
  {
   "cell_type": "code",
   "execution_count": 24,
   "metadata": {},
   "outputs": [
    {
     "data": {
      "text/html": [
       "<div>\n",
       "<style scoped>\n",
       "    .dataframe tbody tr th:only-of-type {\n",
       "        vertical-align: middle;\n",
       "    }\n",
       "\n",
       "    .dataframe tbody tr th {\n",
       "        vertical-align: top;\n",
       "    }\n",
       "\n",
       "    .dataframe thead th {\n",
       "        text-align: right;\n",
       "    }\n",
       "</style>\n",
       "<table border=\"1\" class=\"dataframe\">\n",
       "  <thead>\n",
       "    <tr style=\"text-align: right;\">\n",
       "      <th></th>\n",
       "      <th>wca</th>\n",
       "      <th>bin</th>\n",
       "      <th>date</th>\n",
       "      <th>creator</th>\n",
       "      <th>account</th>\n",
       "      <th>building</th>\n",
       "      <th>floor</th>\n",
       "      <th>stationName</th>\n",
       "      <th>binName</th>\n",
       "      <th>category</th>\n",
       "      <th>assessment</th>\n",
       "      <th>fullness</th>\n",
       "    </tr>\n",
       "  </thead>\n",
       "  <tbody>\n",
       "    <tr>\n",
       "      <th>0</th>\n",
       "      <td>f2fc625f-7ddf-4b7d-8021-667bc38a20d1</td>\n",
       "      <td>5069cf4f-5953-411e-a764-0fad4e7b5354</td>\n",
       "      <td>2023-09-13 19:35:00</td>\n",
       "      <td>Bermina Cherry</td>\n",
       "      <td>BU CCDS</td>\n",
       "      <td>Center for Computing &amp; Data Sciences</td>\n",
       "      <td>00 Lower Level</td>\n",
       "      <td>CCBU00B</td>\n",
       "      <td>CCBU00BC</td>\n",
       "      <td>Compost</td>\n",
       "      <td>Undefined</td>\n",
       "      <td>10</td>\n",
       "    </tr>\n",
       "    <tr>\n",
       "      <th>1</th>\n",
       "      <td>f2fc625f-7ddf-4b7d-8021-667bc38a20d1</td>\n",
       "      <td>594843cf-7be5-4a8f-b6c6-c1dc1f1ee956</td>\n",
       "      <td>2023-09-13 19:35:00</td>\n",
       "      <td>Bermina Cherry</td>\n",
       "      <td>BU CCDS</td>\n",
       "      <td>Center for Computing &amp; Data Sciences</td>\n",
       "      <td>00 Lower Level</td>\n",
       "      <td>CCBU00B</td>\n",
       "      <td>CCBU00BR</td>\n",
       "      <td>Mixed Recycling</td>\n",
       "      <td>Undefined</td>\n",
       "      <td>20</td>\n",
       "    </tr>\n",
       "    <tr>\n",
       "      <th>2</th>\n",
       "      <td>f2fc625f-7ddf-4b7d-8021-667bc38a20d1</td>\n",
       "      <td>65fdffd5-af50-4157-adfa-582251a1b27d</td>\n",
       "      <td>2023-09-13 19:35:00</td>\n",
       "      <td>Bermina Cherry</td>\n",
       "      <td>BU CCDS</td>\n",
       "      <td>Center for Computing &amp; Data Sciences</td>\n",
       "      <td>00 Lower Level</td>\n",
       "      <td>CCBU00B</td>\n",
       "      <td>CCBU00BT</td>\n",
       "      <td>Trash</td>\n",
       "      <td>Undefined</td>\n",
       "      <td>10</td>\n",
       "    </tr>\n",
       "    <tr>\n",
       "      <th>3</th>\n",
       "      <td>b9d45518-733f-4488-a58c-5341727c9677</td>\n",
       "      <td>a8af7a97-eb80-4b93-93b7-b517b153e133</td>\n",
       "      <td>2023-09-13 19:18:00</td>\n",
       "      <td>Bermina Cherry</td>\n",
       "      <td>BU CCDS</td>\n",
       "      <td>Center for Computing &amp; Data Sciences</td>\n",
       "      <td>01</td>\n",
       "      <td>CCBU01B</td>\n",
       "      <td>CCBU01BC</td>\n",
       "      <td>Compost</td>\n",
       "      <td>Undefined</td>\n",
       "      <td>10</td>\n",
       "    </tr>\n",
       "    <tr>\n",
       "      <th>4</th>\n",
       "      <td>b9d45518-733f-4488-a58c-5341727c9677</td>\n",
       "      <td>684d7454-1c8f-48cf-832f-e4823b4edfe3</td>\n",
       "      <td>2023-09-13 19:18:00</td>\n",
       "      <td>Bermina Cherry</td>\n",
       "      <td>BU CCDS</td>\n",
       "      <td>Center for Computing &amp; Data Sciences</td>\n",
       "      <td>01</td>\n",
       "      <td>CCBU01B</td>\n",
       "      <td>CCBU01BR</td>\n",
       "      <td>Mixed Recycling</td>\n",
       "      <td>Undefined</td>\n",
       "      <td>50</td>\n",
       "    </tr>\n",
       "  </tbody>\n",
       "</table>\n",
       "</div>"
      ],
      "text/plain": [
       "                                    wca                                   bin  \\\n",
       "0  f2fc625f-7ddf-4b7d-8021-667bc38a20d1  5069cf4f-5953-411e-a764-0fad4e7b5354   \n",
       "1  f2fc625f-7ddf-4b7d-8021-667bc38a20d1  594843cf-7be5-4a8f-b6c6-c1dc1f1ee956   \n",
       "2  f2fc625f-7ddf-4b7d-8021-667bc38a20d1  65fdffd5-af50-4157-adfa-582251a1b27d   \n",
       "3  b9d45518-733f-4488-a58c-5341727c9677  a8af7a97-eb80-4b93-93b7-b517b153e133   \n",
       "4  b9d45518-733f-4488-a58c-5341727c9677  684d7454-1c8f-48cf-832f-e4823b4edfe3   \n",
       "\n",
       "                 date         creator  account  \\\n",
       "0 2023-09-13 19:35:00  Bermina Cherry  BU CCDS   \n",
       "1 2023-09-13 19:35:00  Bermina Cherry  BU CCDS   \n",
       "2 2023-09-13 19:35:00  Bermina Cherry  BU CCDS   \n",
       "3 2023-09-13 19:18:00  Bermina Cherry  BU CCDS   \n",
       "4 2023-09-13 19:18:00  Bermina Cherry  BU CCDS   \n",
       "\n",
       "                               building           floor stationName   binName  \\\n",
       "0  Center for Computing & Data Sciences  00 Lower Level     CCBU00B  CCBU00BC   \n",
       "1  Center for Computing & Data Sciences  00 Lower Level     CCBU00B  CCBU00BR   \n",
       "2  Center for Computing & Data Sciences  00 Lower Level     CCBU00B  CCBU00BT   \n",
       "3  Center for Computing & Data Sciences              01     CCBU01B  CCBU01BC   \n",
       "4  Center for Computing & Data Sciences              01     CCBU01B  CCBU01BR   \n",
       "\n",
       "          category assessment  fullness  \n",
       "0          Compost  Undefined        10  \n",
       "1  Mixed Recycling  Undefined        20  \n",
       "2            Trash  Undefined        10  \n",
       "3          Compost  Undefined        10  \n",
       "4  Mixed Recycling  Undefined        50  "
      ]
     },
     "execution_count": 24,
     "metadata": {},
     "output_type": "execute_result"
    }
   ],
   "source": [
    "fullness_assessments.head(5)"
   ]
  },
  {
   "cell_type": "code",
   "execution_count": 25,
   "metadata": {},
   "outputs": [
    {
     "data": {
      "text/html": [
       "<div>\n",
       "<style scoped>\n",
       "    .dataframe tbody tr th:only-of-type {\n",
       "        vertical-align: middle;\n",
       "    }\n",
       "\n",
       "    .dataframe tbody tr th {\n",
       "        vertical-align: top;\n",
       "    }\n",
       "\n",
       "    .dataframe thead th {\n",
       "        text-align: right;\n",
       "    }\n",
       "</style>\n",
       "<table border=\"1\" class=\"dataframe\">\n",
       "  <thead>\n",
       "    <tr style=\"text-align: right;\">\n",
       "      <th></th>\n",
       "      <th>createdat</th>\n",
       "      <th>iotid</th>\n",
       "      <th>hide</th>\n",
       "      <th>bin</th>\n",
       "      <th>errorcode</th>\n",
       "      <th>weight</th>\n",
       "      <th>battery</th>\n",
       "      <th>updatedat</th>\n",
       "      <th>weightdiff</th>\n",
       "      <th>year</th>\n",
       "      <th>month</th>\n",
       "      <th>day</th>\n",
       "    </tr>\n",
       "  </thead>\n",
       "  <tbody>\n",
       "    <tr>\n",
       "      <th>0</th>\n",
       "      <td>2023-01-07 05:21:00</td>\n",
       "      <td>lora-000060</td>\n",
       "      <td>False</td>\n",
       "      <td>95171614-b019-4eb9-b726-0af6674a9451</td>\n",
       "      <td>NO_ERROR</td>\n",
       "      <td>19850.461585</td>\n",
       "      <td>2536.354620</td>\n",
       "      <td>2023-01-07 05:21:00</td>\n",
       "      <td>NaN</td>\n",
       "      <td>2023</td>\n",
       "      <td>1</td>\n",
       "      <td>7</td>\n",
       "    </tr>\n",
       "    <tr>\n",
       "      <th>1</th>\n",
       "      <td>2023-01-07 06:06:00</td>\n",
       "      <td>lora-000060</td>\n",
       "      <td>False</td>\n",
       "      <td>95171614-b019-4eb9-b726-0af6674a9451</td>\n",
       "      <td>NO_ERROR</td>\n",
       "      <td>19847.409781</td>\n",
       "      <td>2536.049439</td>\n",
       "      <td>2023-01-07 06:06:00</td>\n",
       "      <td>NaN</td>\n",
       "      <td>2023</td>\n",
       "      <td>1</td>\n",
       "      <td>7</td>\n",
       "    </tr>\n",
       "    <tr>\n",
       "      <th>2</th>\n",
       "      <td>2023-01-07 06:12:00</td>\n",
       "      <td>lora-000060</td>\n",
       "      <td>False</td>\n",
       "      <td>95171614-b019-4eb9-b726-0af6674a9451</td>\n",
       "      <td>NO_ERROR</td>\n",
       "      <td>19847.409781</td>\n",
       "      <td>2534.981308</td>\n",
       "      <td>2023-01-07 06:12:00</td>\n",
       "      <td>NaN</td>\n",
       "      <td>2023</td>\n",
       "      <td>1</td>\n",
       "      <td>7</td>\n",
       "    </tr>\n",
       "    <tr>\n",
       "      <th>3</th>\n",
       "      <td>2023-01-07 06:19:00</td>\n",
       "      <td>lora-000060</td>\n",
       "      <td>False</td>\n",
       "      <td>95171614-b019-4eb9-b726-0af6674a9451</td>\n",
       "      <td>NO_ERROR</td>\n",
       "      <td>19844.357977</td>\n",
       "      <td>2534.828717</td>\n",
       "      <td>2023-01-07 06:19:00</td>\n",
       "      <td>NaN</td>\n",
       "      <td>2023</td>\n",
       "      <td>1</td>\n",
       "      <td>7</td>\n",
       "    </tr>\n",
       "    <tr>\n",
       "      <th>4</th>\n",
       "      <td>2023-01-07 06:24:00</td>\n",
       "      <td>lora-000060</td>\n",
       "      <td>False</td>\n",
       "      <td>95171614-b019-4eb9-b726-0af6674a9451</td>\n",
       "      <td>NO_ERROR</td>\n",
       "      <td>19847.409781</td>\n",
       "      <td>2535.439078</td>\n",
       "      <td>2023-01-07 06:24:00</td>\n",
       "      <td>NaN</td>\n",
       "      <td>2023</td>\n",
       "      <td>1</td>\n",
       "      <td>7</td>\n",
       "    </tr>\n",
       "  </tbody>\n",
       "</table>\n",
       "</div>"
      ],
      "text/plain": [
       "            createdat        iotid   hide  \\\n",
       "0 2023-01-07 05:21:00  lora-000060  False   \n",
       "1 2023-01-07 06:06:00  lora-000060  False   \n",
       "2 2023-01-07 06:12:00  lora-000060  False   \n",
       "3 2023-01-07 06:19:00  lora-000060  False   \n",
       "4 2023-01-07 06:24:00  lora-000060  False   \n",
       "\n",
       "                                    bin errorcode        weight      battery  \\\n",
       "0  95171614-b019-4eb9-b726-0af6674a9451  NO_ERROR  19850.461585  2536.354620   \n",
       "1  95171614-b019-4eb9-b726-0af6674a9451  NO_ERROR  19847.409781  2536.049439   \n",
       "2  95171614-b019-4eb9-b726-0af6674a9451  NO_ERROR  19847.409781  2534.981308   \n",
       "3  95171614-b019-4eb9-b726-0af6674a9451  NO_ERROR  19844.357977  2534.828717   \n",
       "4  95171614-b019-4eb9-b726-0af6674a9451  NO_ERROR  19847.409781  2535.439078   \n",
       "\n",
       "            updatedat  weightdiff  year  month  day  \n",
       "0 2023-01-07 05:21:00         NaN  2023      1    7  \n",
       "1 2023-01-07 06:06:00         NaN  2023      1    7  \n",
       "2 2023-01-07 06:12:00         NaN  2023      1    7  \n",
       "3 2023-01-07 06:19:00         NaN  2023      1    7  \n",
       "4 2023-01-07 06:24:00         NaN  2023      1    7  "
      ]
     },
     "execution_count": 25,
     "metadata": {},
     "output_type": "execute_result"
    }
   ],
   "source": [
    "scale_records_clean.head()"
   ]
  },
  {
   "cell_type": "code",
   "execution_count": 26,
   "metadata": {},
   "outputs": [
    {
     "name": "stdout",
     "output_type": "stream",
     "text": [
      "(2647, 12)\n",
      "(17562111, 12)\n"
     ]
    }
   ],
   "source": [
    "print(fullness_assessments.shape)\n",
    "print(scale_records_clean.shape)"
   ]
  },
  {
   "cell_type": "markdown",
   "metadata": {},
   "source": [
    "### Checking if all the bins in fullness assessments are in scale_records"
   ]
  },
  {
   "cell_type": "code",
   "execution_count": 27,
   "metadata": {},
   "outputs": [
    {
     "name": "stdout",
     "output_type": "stream",
     "text": [
      "There are 228 bins in 'fullness_assessments' that are also present in 'scale_records'.\n"
     ]
    }
   ],
   "source": [
    "# Get unique bins from fullness_assessments\n",
    "unique_bins_fullness = set(fullness_assessments['bin'].unique())\n",
    "\n",
    "# Get unique bins from scale_records_clean\n",
    "unique_bins_scale_records = set(scale_records_clean['bin'].unique())\n",
    "\n",
    "# Find the intersection of both sets\n",
    "common_bins = unique_bins_fullness.intersection(unique_bins_scale_records)\n",
    "\n",
    "# Count the number of common bins\n",
    "common_bins_count = len(common_bins)\n",
    "\n",
    "print(f\"There are {common_bins_count} bins in 'fullness_assessments' that are also present in 'scale_records'.\")"
   ]
  },
  {
   "cell_type": "markdown",
   "metadata": {},
   "source": [
    "### Merging fullness dataset with scale_records"
   ]
  },
  {
   "cell_type": "code",
   "execution_count": 28,
   "metadata": {},
   "outputs": [],
   "source": [
    "# Sort the DataFrames by the date column\n",
    "fullness_assessments.sort_values(by='date', inplace=True)\n",
    "scale_records_clean.sort_values(by='createdat', inplace=True)\n",
    "\n",
    "# Perform a nearest merge\n",
    "merged_data = pd.merge_asof(\n",
    "    scale_records_clean,\n",
    "    fullness_assessments[['bin', 'date', 'fullness']],\n",
    "    left_on='createdat',\n",
    "    right_on='date',\n",
    "    by='bin',\n",
    "    direction='nearest',\n",
    "    tolerance=pd.Timedelta(minutes=15)\n",
    ")\n",
    "\n",
    "# Reset index if needed and inspect the merged data\n",
    "merged_data.reset_index(drop=True, inplace=True)"
   ]
  },
  {
   "cell_type": "code",
   "execution_count": 29,
   "metadata": {},
   "outputs": [
    {
     "data": {
      "text/plain": [
       "(17562111, 14)"
      ]
     },
     "execution_count": 29,
     "metadata": {},
     "output_type": "execute_result"
    }
   ],
   "source": [
    "merged_data.shape"
   ]
  },
  {
   "cell_type": "code",
   "execution_count": 30,
   "metadata": {},
   "outputs": [
    {
     "data": {
      "text/html": [
       "<div>\n",
       "<style scoped>\n",
       "    .dataframe tbody tr th:only-of-type {\n",
       "        vertical-align: middle;\n",
       "    }\n",
       "\n",
       "    .dataframe tbody tr th {\n",
       "        vertical-align: top;\n",
       "    }\n",
       "\n",
       "    .dataframe thead th {\n",
       "        text-align: right;\n",
       "    }\n",
       "</style>\n",
       "<table border=\"1\" class=\"dataframe\">\n",
       "  <thead>\n",
       "    <tr style=\"text-align: right;\">\n",
       "      <th></th>\n",
       "      <th>createdat</th>\n",
       "      <th>iotid</th>\n",
       "      <th>hide</th>\n",
       "      <th>bin</th>\n",
       "      <th>errorcode</th>\n",
       "      <th>weight</th>\n",
       "      <th>battery</th>\n",
       "      <th>updatedat</th>\n",
       "      <th>weightdiff</th>\n",
       "      <th>year</th>\n",
       "      <th>month</th>\n",
       "      <th>day</th>\n",
       "      <th>date</th>\n",
       "      <th>fullness</th>\n",
       "    </tr>\n",
       "  </thead>\n",
       "  <tbody>\n",
       "    <tr>\n",
       "      <th>0</th>\n",
       "      <td>2023-01-01 00:01:00</td>\n",
       "      <td>lora-000248</td>\n",
       "      <td>False</td>\n",
       "      <td>09b1ece7-5aaa-4c66-a89a-ac6a99bae6ed</td>\n",
       "      <td>NO_ERROR</td>\n",
       "      <td>2754.253452</td>\n",
       "      <td>2633.096818</td>\n",
       "      <td>2023-01-01 00:01:00</td>\n",
       "      <td>NaN</td>\n",
       "      <td>2023</td>\n",
       "      <td>1</td>\n",
       "      <td>1</td>\n",
       "      <td>NaT</td>\n",
       "      <td>NaN</td>\n",
       "    </tr>\n",
       "    <tr>\n",
       "      <th>1</th>\n",
       "      <td>2023-01-01 00:01:00</td>\n",
       "      <td>lora-000555</td>\n",
       "      <td>False</td>\n",
       "      <td>f607dcde-923c-4015-ba87-755fd806009d</td>\n",
       "      <td>NO_ERROR</td>\n",
       "      <td>3276.112001</td>\n",
       "      <td>3000.534066</td>\n",
       "      <td>2023-01-01 00:01:00</td>\n",
       "      <td>NaN</td>\n",
       "      <td>2023</td>\n",
       "      <td>1</td>\n",
       "      <td>1</td>\n",
       "      <td>NaT</td>\n",
       "      <td>NaN</td>\n",
       "    </tr>\n",
       "    <tr>\n",
       "      <th>2</th>\n",
       "      <td>2023-01-01 00:01:00</td>\n",
       "      <td>lora-000060</td>\n",
       "      <td>False</td>\n",
       "      <td>95171614-b019-4eb9-b726-0af6674a9451</td>\n",
       "      <td>NO_ERROR</td>\n",
       "      <td>14097.810330</td>\n",
       "      <td>2615.091173</td>\n",
       "      <td>2023-01-01 00:01:00</td>\n",
       "      <td>NaN</td>\n",
       "      <td>2023</td>\n",
       "      <td>1</td>\n",
       "      <td>1</td>\n",
       "      <td>NaT</td>\n",
       "      <td>NaN</td>\n",
       "    </tr>\n",
       "    <tr>\n",
       "      <th>3</th>\n",
       "      <td>2023-01-01 00:01:00</td>\n",
       "      <td>lora-000067</td>\n",
       "      <td>False</td>\n",
       "      <td>ac35373c-9cc0-4223-95a4-e64285725cbf</td>\n",
       "      <td>NO_ERROR</td>\n",
       "      <td>18229.953460</td>\n",
       "      <td>2648.050660</td>\n",
       "      <td>2023-01-01 00:01:00</td>\n",
       "      <td>NaN</td>\n",
       "      <td>2023</td>\n",
       "      <td>1</td>\n",
       "      <td>1</td>\n",
       "      <td>NaT</td>\n",
       "      <td>NaN</td>\n",
       "    </tr>\n",
       "    <tr>\n",
       "      <th>4</th>\n",
       "      <td>2023-01-01 00:01:00</td>\n",
       "      <td>lora-000249</td>\n",
       "      <td>False</td>\n",
       "      <td>a3096695-a191-49ac-a87c-4339f0016114</td>\n",
       "      <td>NO_ERROR</td>\n",
       "      <td>4789.806973</td>\n",
       "      <td>3017.166400</td>\n",
       "      <td>2023-01-01 00:01:00</td>\n",
       "      <td>NaN</td>\n",
       "      <td>2023</td>\n",
       "      <td>1</td>\n",
       "      <td>1</td>\n",
       "      <td>NaT</td>\n",
       "      <td>NaN</td>\n",
       "    </tr>\n",
       "  </tbody>\n",
       "</table>\n",
       "</div>"
      ],
      "text/plain": [
       "            createdat        iotid   hide  \\\n",
       "0 2023-01-01 00:01:00  lora-000248  False   \n",
       "1 2023-01-01 00:01:00  lora-000555  False   \n",
       "2 2023-01-01 00:01:00  lora-000060  False   \n",
       "3 2023-01-01 00:01:00  lora-000067  False   \n",
       "4 2023-01-01 00:01:00  lora-000249  False   \n",
       "\n",
       "                                    bin errorcode        weight      battery  \\\n",
       "0  09b1ece7-5aaa-4c66-a89a-ac6a99bae6ed  NO_ERROR   2754.253452  2633.096818   \n",
       "1  f607dcde-923c-4015-ba87-755fd806009d  NO_ERROR   3276.112001  3000.534066   \n",
       "2  95171614-b019-4eb9-b726-0af6674a9451  NO_ERROR  14097.810330  2615.091173   \n",
       "3  ac35373c-9cc0-4223-95a4-e64285725cbf  NO_ERROR  18229.953460  2648.050660   \n",
       "4  a3096695-a191-49ac-a87c-4339f0016114  NO_ERROR   4789.806973  3017.166400   \n",
       "\n",
       "            updatedat  weightdiff  year  month  day date  fullness  \n",
       "0 2023-01-01 00:01:00         NaN  2023      1    1  NaT       NaN  \n",
       "1 2023-01-01 00:01:00         NaN  2023      1    1  NaT       NaN  \n",
       "2 2023-01-01 00:01:00         NaN  2023      1    1  NaT       NaN  \n",
       "3 2023-01-01 00:01:00         NaN  2023      1    1  NaT       NaN  \n",
       "4 2023-01-01 00:01:00         NaN  2023      1    1  NaT       NaN  "
      ]
     },
     "execution_count": 30,
     "metadata": {},
     "output_type": "execute_result"
    }
   ],
   "source": [
    "merged_data.head(5)"
   ]
  },
  {
   "cell_type": "code",
   "execution_count": 31,
   "metadata": {},
   "outputs": [],
   "source": [
    "# Get bin information\n",
    "\n",
    "# Reduce fullness_assessments to only have one row per 'bin'\n",
    "unique_fullness_assessments = fullness_assessments.groupby('bin').first().reset_index()\n",
    "\n",
    "# Perform the left join\n",
    "merged_data_bins = pd.merge(\n",
    "    left=merged_data,\n",
    "    right=unique_fullness_assessments[['building', 'floor', 'stationName', 'binName', 'category', 'bin']],\n",
    "    how='left',  # Perform a left join\n",
    "    on='bin'  # Join on 'bin'\n",
    ")"
   ]
  },
  {
   "cell_type": "code",
   "execution_count": 32,
   "metadata": {},
   "outputs": [],
   "source": [
    "merged_data = merged_data_bins.copy()"
   ]
  },
  {
   "cell_type": "code",
   "execution_count": 33,
   "metadata": {},
   "outputs": [
    {
     "data": {
      "text/plain": [
       "(17562111, 19)"
      ]
     },
     "execution_count": 33,
     "metadata": {},
     "output_type": "execute_result"
    }
   ],
   "source": [
    "merged_data.shape"
   ]
  },
  {
   "cell_type": "markdown",
   "metadata": {},
   "source": [
    "# JINISHA"
   ]
  },
  {
   "cell_type": "code",
   "execution_count": 34,
   "metadata": {},
   "outputs": [],
   "source": [
    "Trash = merged_data[merged_data['category'] == 'Trash']\n",
    "Compost = merged_data[merged_data['category'] == 'Compost']\n",
    "Mixed_Recycling = merged_data[merged_data['category'] == 'Mixed Recycling']"
   ]
  },
  {
   "cell_type": "code",
   "execution_count": 35,
   "metadata": {},
   "outputs": [
    {
     "data": {
      "text/plain": [
       "(1139107, 19)"
      ]
     },
     "execution_count": 35,
     "metadata": {},
     "output_type": "execute_result"
    }
   ],
   "source": [
    "Trash.shape"
   ]
  },
  {
   "cell_type": "code",
   "execution_count": 36,
   "metadata": {},
   "outputs": [
    {
     "data": {
      "text/plain": [
       "(1051306, 19)"
      ]
     },
     "execution_count": 36,
     "metadata": {},
     "output_type": "execute_result"
    }
   ],
   "source": [
    "Compost.shape"
   ]
  },
  {
   "cell_type": "code",
   "execution_count": 37,
   "metadata": {},
   "outputs": [
    {
     "data": {
      "text/plain": [
       "(1143472, 19)"
      ]
     },
     "execution_count": 37,
     "metadata": {},
     "output_type": "execute_result"
    }
   ],
   "source": [
    "Mixed_Recycling.shape"
   ]
  },
  {
   "cell_type": "code",
   "execution_count": 38,
   "metadata": {},
   "outputs": [
    {
     "data": {
      "text/plain": [
       "14228226"
      ]
     },
     "execution_count": 38,
     "metadata": {},
     "output_type": "execute_result"
    }
   ],
   "source": [
    "nan_count = merged_data['category'].isna().sum()\n",
    "nan_count"
   ]
  },
  {
   "cell_type": "code",
   "execution_count": 39,
   "metadata": {},
   "outputs": [
    {
     "name": "stdout",
     "output_type": "stream",
     "text": [
      "Number of bins with non-null fullness in Trash dataset: 78\n"
     ]
    }
   ],
   "source": [
    "bins_with_not_null_fullness_trash = Trash[Trash['fullness'].notnull()]['bin'].unique()\n",
    "num_bins_with_not_null_fullness_trash = len(bins_with_not_null_fullness_trash)\n",
    "print(\"Number of bins with non-null fullness in Trash dataset:\", num_bins_with_not_null_fullness_trash)"
   ]
  },
  {
   "cell_type": "code",
   "execution_count": 40,
   "metadata": {},
   "outputs": [
    {
     "name": "stdout",
     "output_type": "stream",
     "text": [
      "Number of bins with non-null fullness in Trash dataset: 72\n"
     ]
    }
   ],
   "source": [
    "bins_with_not_null_fullness_compost = Compost[Compost['fullness'].notnull()]['bin'].unique()\n",
    "num_bins_with_not_null_fullness_compost = len(bins_with_not_null_fullness_compost)\n",
    "print(\"Number of bins with non-null fullness in Trash dataset:\", num_bins_with_not_null_fullness_compost)"
   ]
  },
  {
   "cell_type": "code",
   "execution_count": 41,
   "metadata": {},
   "outputs": [
    {
     "name": "stdout",
     "output_type": "stream",
     "text": [
      "Number of bins with non-null fullness in Mixed Recycling dataset: 78\n"
     ]
    }
   ],
   "source": [
    "bins_with_not_null_fullness_Mixed_R = Mixed_Recycling[Mixed_Recycling['fullness'].notnull()]['bin'].unique()\n",
    "num_bins_with_not_null_fullness_Mixed_R = len(bins_with_not_null_fullness_Mixed_R)\n",
    "print(\"Number of bins with non-null fullness in Mixed Recycling dataset:\", num_bins_with_not_null_fullness_Mixed_R)"
   ]
  },
  {
   "cell_type": "code",
   "execution_count": 42,
   "metadata": {},
   "outputs": [
    {
     "data": {
      "text/plain": [
       "(1139107, 19)"
      ]
     },
     "execution_count": 42,
     "metadata": {},
     "output_type": "execute_result"
    }
   ],
   "source": [
    "Trash_filt = Trash[Trash['bin'].isin(bins_with_not_null_fullness_trash)]\n",
    "Trash_filt.shape"
   ]
  },
  {
   "cell_type": "code",
   "execution_count": 43,
   "metadata": {},
   "outputs": [
    {
     "data": {
      "text/plain": [
       "(1051306, 19)"
      ]
     },
     "execution_count": 43,
     "metadata": {},
     "output_type": "execute_result"
    }
   ],
   "source": [
    "Compost_filt = Compost[Compost['bin'].isin(bins_with_not_null_fullness_compost)]\n",
    "Compost_filt.shape"
   ]
  },
  {
   "cell_type": "code",
   "execution_count": 44,
   "metadata": {},
   "outputs": [
    {
     "data": {
      "text/plain": [
       "(1143472, 19)"
      ]
     },
     "execution_count": 44,
     "metadata": {},
     "output_type": "execute_result"
    }
   ],
   "source": [
    "Mixed_Recycling_filt = Mixed_Recycling[Mixed_Recycling['bin'].isin(bins_with_not_null_fullness_Mixed_R)]\n",
    "Mixed_Recycling_filt.shape"
   ]
  },
  {
   "cell_type": "code",
   "execution_count": 45,
   "metadata": {},
   "outputs": [],
   "source": [
    "import peakutils\n",
    "\n",
    "# Sort the DataFrame by date\n",
    "Trash_filt.sort_values(by='createdat', inplace=True)\n",
    "\n",
    "# Initialize a column for the rolling baseline\n",
    "Trash_filt['baseline_rolling'] = None\n",
    "\n",
    "# Loop through each unique bin\n",
    "for bin_id in Trash_filt['bin'].unique():\n",
    "    # Filter data for the current bin\n",
    "    bin_data = Trash_filt[Trash_filt['bin'] == bin_id]\n",
    "\n",
    "    # Calculate the baseline for the bin's weight data using peakutils\n",
    "    baseline_values = peakutils.baseline(bin_data['weight'].values, deg=3)\n",
    "\n",
    "    # Create a temporary DataFrame with dates and baseline values\n",
    "    temp_df = pd.DataFrame({'createdat': bin_data['createdat'], 'baseline_peakutils': baseline_values})\n",
    "    temp_df.set_index('createdat', inplace=True)\n",
    "\n",
    "    # Calculate the rolling mean over a 30-day window on the baseline values\n",
    "    temp_df['baseline_rolling'] = temp_df['baseline_peakutils'].rolling('15D').mean()\n",
    "\n",
    "    # Update the main DataFrame\n",
    "    Trash_filt.loc[Trash_filt['bin'] == bin_id, 'baseline_rolling'] = temp_df['baseline_rolling'].values"
   ]
  },
  {
   "cell_type": "code",
   "execution_count": 46,
   "metadata": {},
   "outputs": [
    {
     "data": {
      "image/png": "[encoded data removed]",
      "text/plain": [
       "<Figure size 864x432 with 1 Axes>"
      ]
     },
     "metadata": {
      "needs_background": "light"
     },
     "output_type": "display_data"
    }
   ],
   "source": [
    "# Replace 'your_bin_id' with the actual ID of the bin you want to plot\n",
    "your_bin_id = '8be0c432-00b4-41ff-976b-5adf1e7670d7'\n",
    "\n",
    "# Filter the DataFrame for the specific bin\n",
    "specific_bin_data = Trash_filt[Trash_filt['bin'] == your_bin_id]\n",
    "\n",
    "# Convert 'createdat' to datetime and filter for September and October\n",
    "specific_bin_data['createdat'] = pd.to_datetime(specific_bin_data['createdat'])\n",
    "specific_bin_data = specific_bin_data.set_index('createdat')\n",
    "specific_bin_data = specific_bin_data['2023-09':'2023-10'].reset_index()\n",
    "\n",
    "# Check if the bin has data to plot\n",
    "if not specific_bin_data.empty:\n",
    "    plt.figure(figsize=(12, 6))\n",
    "\n",
    "    # Plotting weight\n",
    "    plt.plot(specific_bin_data['createdat'], specific_bin_data['weight'], label='Weight', color='blue')\n",
    "\n",
    "    # Plotting baseline\n",
    "    plt.plot(specific_bin_data['createdat'], specific_bin_data['baseline_rolling'], label='Baseline', color='red')\n",
    "\n",
    "    # Marking only non-null fullness values\n",
    "    for index, row in specific_bin_data.iterrows():\n",
    "        if not pd.isna(row['fullness']):\n",
    "            plt.scatter(row['createdat'], row['weight'], color='green')  # Marking fullness on the weight plot\n",
    "            plt.text(row['createdat'], row['weight'], f'{row[\"fullness\"]}%', horizontalalignment='left', size='xx-small', color='black')\n",
    "\n",
    "    # Adding title and labels\n",
    "    plt.title(f'Weight, Baseline, and Fullness for Bin {your_bin_id} (Sept-Oct)')\n",
    "    plt.xlabel('Date')\n",
    "    plt.ylabel('Weight')\n",
    "    plt.legend()\n",
    "\n",
    "    plt.show()\n",
    "else:\n",
    "    print(f\"No data available for bin {your_bin_id}\")"
   ]
  },
  {
   "cell_type": "code",
   "execution_count": 47,
   "metadata": {},
   "outputs": [],
   "source": [
    "Compost_filt.sort_values(by='createdat', inplace=True)\n",
    "\n",
    "# Initialize a column for the rolling baseline\n",
    "Compost_filt['baseline_rolling'] = None\n",
    "\n",
    "# Loop through each unique bin\n",
    "for bin_id in Compost_filt['bin'].unique():\n",
    "    # Filter data for the current bin\n",
    "    bin_data = Compost_filt[Compost_filt['bin'] == bin_id]\n",
    "\n",
    "    # Calculate the baseline for the bin's weight data using peakutils\n",
    "    baseline_values = peakutils.baseline(bin_data['weight'].values, deg=3)\n",
    "\n",
    "    # Create a temporary DataFrame with dates and baseline values\n",
    "    temp_df = pd.DataFrame({'createdat': bin_data['createdat'], 'baseline_peakutils': baseline_values})\n",
    "    temp_df.set_index('createdat', inplace=True)\n",
    "\n",
    "    # Calculate the rolling mean over a 30-day window on the baseline values\n",
    "    temp_df['baseline_rolling'] = temp_df['baseline_peakutils'].rolling('15D').mean()\n",
    "\n",
    "    # Update the main DataFrame\n",
    "    Compost_filt.loc[Compost_filt['bin'] == bin_id, 'baseline_rolling'] = temp_df['baseline_rolling'].values"
   ]
  },
  {
   "cell_type": "code",
   "execution_count": 48,
   "metadata": {},
   "outputs": [
    {
     "data": {
      "image/png": "[encoded data removed]",
      "text/plain": [
       "<Figure size 864x432 with 1 Axes>"
      ]
     },
     "metadata": {
      "needs_background": "light"
     },
     "output_type": "display_data"
    }
   ],
   "source": [
    "# Replace 'your_bin_id' with the actual ID of the bin you want to plot\n",
    "your_bin_id = 'a6241564-5843-4d99-87d5-d7e90127ff1d'\n",
    "\n",
    "# Filter the DataFrame for the specific bin\n",
    "specific_bin_data = Compost_filt[Compost_filt['bin'] == your_bin_id]\n",
    "\n",
    "# Convert 'createdat' to datetime and filter for September and October\n",
    "specific_bin_data['createdat'] = pd.to_datetime(specific_bin_data['createdat'])\n",
    "specific_bin_data = specific_bin_data.set_index('createdat')\n",
    "specific_bin_data = specific_bin_data['2023-09':'2023-10'].reset_index()\n",
    "\n",
    "# Check if the bin has data to plot\n",
    "if not specific_bin_data.empty:\n",
    "    plt.figure(figsize=(12, 6))\n",
    "\n",
    "    # Plotting weight\n",
    "    plt.plot(specific_bin_data['createdat'], specific_bin_data['weight'], label='Weight', color='blue')\n",
    "\n",
    "    # Plotting baseline\n",
    "    plt.plot(specific_bin_data['createdat'], specific_bin_data['baseline_rolling'], label='Baseline', color='red')\n",
    "\n",
    "    # Marking only non-null fullness values\n",
    "    for index, row in specific_bin_data.iterrows():\n",
    "        if not pd.isna(row['fullness']):\n",
    "            plt.scatter(row['createdat'], row['weight'], color='green')  # Marking fullness on the weight plot\n",
    "            plt.text(row['createdat'], row['weight'], f'{row[\"fullness\"]}%', horizontalalignment='left', size='xx-small', color='black')\n",
    "\n",
    "    # Adding title and labels\n",
    "    plt.title(f'Weight, Baseline, and Fullness for Bin {your_bin_id} (Sept-Oct)')\n",
    "    plt.xlabel('Date')\n",
    "    plt.ylabel('Weight')\n",
    "    plt.legend()\n",
    "\n",
    "    plt.show()\n",
    "else:\n",
    "    print(f\"No data available for bin {your_bin_id}\")"
   ]
  },
  {
   "cell_type": "code",
   "execution_count": 49,
   "metadata": {},
   "outputs": [],
   "source": [
    "Mixed_Recycling_filt.sort_values(by='createdat', inplace=True)\n",
    "\n",
    "# Initialize a column for the rolling baseline\n",
    "Mixed_Recycling_filt['baseline_rolling'] = None\n",
    "\n",
    "# Loop through each unique bin\n",
    "for bin_id in Mixed_Recycling_filt['bin'].unique():\n",
    "    # Filter data for the current bin\n",
    "    bin_data = Mixed_Recycling_filt[Mixed_Recycling_filt['bin'] == bin_id]\n",
    "\n",
    "    # Calculate the baseline for the bin's weight data using peakutils\n",
    "    baseline_values = peakutils.baseline(bin_data['weight'].values, deg=3)\n",
    "\n",
    "    # Create a temporary DataFrame with dates and baseline values\n",
    "    temp_df = pd.DataFrame({'createdat': bin_data['createdat'], 'baseline_peakutils': baseline_values})\n",
    "    temp_df.set_index('createdat', inplace=True)\n",
    "\n",
    "    # Calculate the rolling mean over a 30-day window on the baseline values\n",
    "    temp_df['baseline_rolling'] = temp_df['baseline_peakutils'].rolling('15D').mean()\n",
    "\n",
    "    # Update the main DataFrame\n",
    "    Mixed_Recycling_filt.loc[Mixed_Recycling_filt['bin'] == bin_id, 'baseline_rolling'] = temp_df['baseline_rolling'].values"
   ]
  },
  {
   "cell_type": "code",
   "execution_count": 50,
   "metadata": {},
   "outputs": [
    {
     "data": {
      "image/png": "[encoded data removed]",
      "text/plain": [
       "<Figure size 864x432 with 1 Axes>"
      ]
     },
     "metadata": {
      "needs_background": "light"
     },
     "output_type": "display_data"
    }
   ],
   "source": [
    "import matplotlib.pyplot as plt\n",
    "import pandas as pd\n",
    "\n",
    "# Replace 'your_bin_id' with the actual ID of the bin you want to plot\n",
    "your_bin_id = 'd65ef7bf-3f7c-4540-b7d0-9d29d6462d93'\n",
    "\n",
    "# Filter the DataFrame for the specific bin\n",
    "specific_bin_data = Mixed_Recycling_filt[Mixed_Recycling_filt['bin'] == your_bin_id]\n",
    "\n",
    "# Convert 'createdat' to datetime and filter for September and October\n",
    "specific_bin_data['createdat'] = pd.to_datetime(specific_bin_data['createdat'])\n",
    "specific_bin_data = specific_bin_data.set_index('createdat')\n",
    "specific_bin_data = specific_bin_data['2023-09':'2023-10'].reset_index()\n",
    "\n",
    "# Check if the bin has data to plot\n",
    "if not specific_bin_data.empty:\n",
    "    plt.figure(figsize=(12, 6))\n",
    "\n",
    "    # Plotting weight\n",
    "    plt.plot(specific_bin_data['createdat'], specific_bin_data['weight'], label='Weight', color='blue')\n",
    "\n",
    "    # Plotting baseline\n",
    "    plt.plot(specific_bin_data['createdat'], specific_bin_data['baseline_rolling'], label='Baseline', color='red')\n",
    "\n",
    "    # Marking only non-null fullness values\n",
    "    for index, row in specific_bin_data.iterrows():\n",
    "        if not pd.isna(row['fullness']):\n",
    "            plt.scatter(row['createdat'], row['weight'], color='green')  # Marking fullness on the weight plot\n",
    "            plt.text(row['createdat'], row['weight'], f'{row[\"fullness\"]}%', horizontalalignment='left', size='xx-small', color='black')\n",
    "\n",
    "    # Adding title and labels\n",
    "    plt.title(f'Weight, Baseline, and Fullness for Bin {your_bin_id} (Sept-Oct)')\n",
    "    plt.xlabel('Date')\n",
    "    plt.ylabel('Weight')\n",
    "    plt.legend()\n",
    "\n",
    "    plt.show()\n",
    "else:\n",
    "    print(f\"No data available for bin {your_bin_id}\")"
   ]
  },
  {
   "cell_type": "code",
   "execution_count": 51,
   "metadata": {},
   "outputs": [
    {
     "data": {
      "text/plain": [
       "(1268, 20)"
      ]
     },
     "execution_count": 51,
     "metadata": {},
     "output_type": "execute_result"
    }
   ],
   "source": [
    "Trash = Trash_filt.dropna(subset=['fullness'])\n",
    "Trash.shape"
   ]
  },
  {
   "cell_type": "code",
   "execution_count": 52,
   "metadata": {},
   "outputs": [
    {
     "data": {
      "text/plain": [
       "(523, 20)"
      ]
     },
     "execution_count": 52,
     "metadata": {},
     "output_type": "execute_result"
    }
   ],
   "source": [
    "Compost = Compost_filt.dropna(subset=['fullness'])\n",
    "Compost.shape"
   ]
  },
  {
   "cell_type": "code",
   "execution_count": 53,
   "metadata": {},
   "outputs": [
    {
     "data": {
      "text/plain": [
       "(903, 20)"
      ]
     },
     "execution_count": 53,
     "metadata": {},
     "output_type": "execute_result"
    }
   ],
   "source": [
    "Mixed_Recycling = Mixed_Recycling_filt.dropna(subset=['fullness'])\n",
    "Mixed_Recycling.shape"
   ]
  },
  {
   "cell_type": "code",
   "execution_count": 54,
   "metadata": {},
   "outputs": [],
   "source": [
    "Trash['weight_minus_baseline'] = Trash['weight'] - Trash['baseline_rolling']"
   ]
  },
  {
   "cell_type": "code",
   "execution_count": 55,
   "metadata": {},
   "outputs": [
    {
     "data": {
      "text/plain": [
       "createdat                datetime64[ns]\n",
       "iotid                            object\n",
       "hide                               bool\n",
       "bin                              object\n",
       "errorcode                        object\n",
       "weight                          float64\n",
       "battery                         float64\n",
       "updatedat                datetime64[ns]\n",
       "weightdiff                      float64\n",
       "year                              int64\n",
       "month                             int64\n",
       "day                               int64\n",
       "date                     datetime64[ns]\n",
       "fullness                        float64\n",
       "building                         object\n",
       "floor                            object\n",
       "stationName                      object\n",
       "binName                          object\n",
       "category                         object\n",
       "baseline_rolling                 object\n",
       "weight_minus_baseline            object\n",
       "dtype: object"
      ]
     },
     "execution_count": 55,
     "metadata": {},
     "output_type": "execute_result"
    }
   ],
   "source": [
    "Trash.dtypes"
   ]
  },
  {
   "cell_type": "code",
   "execution_count": 69,
   "metadata": {},
   "outputs": [],
   "source": [
    "Trash['weight_minus_baseline'] = Trash['weight_minus_baseline'].astype(float)"
   ]
  },
  {
   "cell_type": "code",
   "execution_count": 70,
   "metadata": {},
   "outputs": [
    {
     "name": "stdout",
     "output_type": "stream",
     "text": [
      "Correlation coefficient: 0.00345955968637319\n"
     ]
    }
   ],
   "source": [
    "correlation = Trash['weight_minus_baseline'].corr(Trash['fullness'])\n",
    "print(\"Correlation coefficient:\", correlation)"
   ]
  },
  {
   "cell_type": "code",
   "execution_count": 73,
   "metadata": {},
   "outputs": [],
   "source": [
    "Compost['weight_minus_baseline'] = Compost['weight'] - Compost['baseline_rolling']"
   ]
  },
  {
   "cell_type": "code",
   "execution_count": 74,
   "metadata": {},
   "outputs": [],
   "source": [
    "Compost['weight_minus_baseline'] = Compost['weight_minus_baseline'].astype(float)"
   ]
  },
  {
   "cell_type": "code",
   "execution_count": 75,
   "metadata": {},
   "outputs": [
    {
     "name": "stdout",
     "output_type": "stream",
     "text": [
      "Correlation coefficient: 0.10703194565505489\n"
     ]
    }
   ],
   "source": [
    "correlation = Compost['weight_minus_baseline'].corr(Compost['fullness'])\n",
    "print(\"Correlation coefficient:\", correlation)"
   ]
  },
  {
   "cell_type": "code",
   "execution_count": 77,
   "metadata": {},
   "outputs": [],
   "source": [
    "Mixed_Recycling['weight_minus_baseline'] = Mixed_Recycling['weight'] - Mixed_Recycling['baseline_rolling']"
   ]
  },
  {
   "cell_type": "code",
   "execution_count": 78,
   "metadata": {},
   "outputs": [],
   "source": [
    "Mixed_Recycling['weight_minus_baseline'] = Mixed_Recycling['weight_minus_baseline'].astype(float)"
   ]
  },
  {
   "cell_type": "code",
   "execution_count": 79,
   "metadata": {},
   "outputs": [
    {
     "name": "stdout",
     "output_type": "stream",
     "text": [
      "Correlation coefficient: 0.15975207764672572\n"
     ]
    }
   ],
   "source": [
    "correlation = Mixed_Recycling['weight_minus_baseline'].corr(Mixed_Recycling['fullness'])\n",
    "print(\"Correlation coefficient:\", correlation)"
   ]
  },
  {
   "cell_type": "markdown",
   "metadata": {},
   "source": [
    "### Checking example bin : 5069cf4f-5953-411e-a764-0fad4e7b5354\n",
    "\n",
    "Here we are checking if the merge was accurate and we can see that **2023-09-13 19:34:00** was correctly matched to **2023-09-13 19:35:00**. "
   ]
  },
  {
   "cell_type": "code",
   "execution_count": 57,
   "metadata": {},
   "outputs": [
    {
     "data": {
      "text/html": [
       "<div>\n",
       "<style scoped>\n",
       "    .dataframe tbody tr th:only-of-type {\n",
       "        vertical-align: middle;\n",
       "    }\n",
       "\n",
       "    .dataframe tbody tr th {\n",
       "        vertical-align: top;\n",
       "    }\n",
       "\n",
       "    .dataframe thead th {\n",
       "        text-align: right;\n",
       "    }\n",
       "</style>\n",
       "<table border=\"1\" class=\"dataframe\">\n",
       "  <thead>\n",
       "    <tr style=\"text-align: right;\">\n",
       "      <th></th>\n",
       "      <th>createdat</th>\n",
       "      <th>iotid</th>\n",
       "      <th>hide</th>\n",
       "      <th>bin</th>\n",
       "      <th>errorcode</th>\n",
       "      <th>weight</th>\n",
       "      <th>battery</th>\n",
       "      <th>updatedat</th>\n",
       "      <th>weightdiff</th>\n",
       "      <th>year</th>\n",
       "      <th>month</th>\n",
       "      <th>day</th>\n",
       "      <th>date</th>\n",
       "      <th>fullness</th>\n",
       "      <th>building</th>\n",
       "      <th>floor</th>\n",
       "      <th>stationName</th>\n",
       "      <th>binName</th>\n",
       "      <th>category</th>\n",
       "    </tr>\n",
       "  </thead>\n",
       "  <tbody>\n",
       "    <tr>\n",
       "      <th>13301531</th>\n",
       "      <td>2023-09-13 19:34:00</td>\n",
       "      <td>lora-000274</td>\n",
       "      <td>False</td>\n",
       "      <td>5069cf4f-5953-411e-a764-0fad4e7b5354</td>\n",
       "      <td>NO_ERROR</td>\n",
       "      <td>7286.182956</td>\n",
       "      <td>2880.750744</td>\n",
       "      <td>2023-09-13 19:34:00</td>\n",
       "      <td>NaN</td>\n",
       "      <td>2023</td>\n",
       "      <td>9</td>\n",
       "      <td>13</td>\n",
       "      <td>2023-09-13 19:35:00</td>\n",
       "      <td>10.0</td>\n",
       "      <td>Center for Computing &amp; Data Sciences</td>\n",
       "      <td>00 Lower Level</td>\n",
       "      <td>CCBU00B</td>\n",
       "      <td>CCBU00BC</td>\n",
       "      <td>Compost</td>\n",
       "    </tr>\n",
       "    <tr>\n",
       "      <th>14264405</th>\n",
       "      <td>2023-09-29 18:30:00</td>\n",
       "      <td>lora-000274</td>\n",
       "      <td>False</td>\n",
       "      <td>5069cf4f-5953-411e-a764-0fad4e7b5354</td>\n",
       "      <td>NO_ERROR</td>\n",
       "      <td>7420.462348</td>\n",
       "      <td>2877.393759</td>\n",
       "      <td>2023-09-29 18:30:00</td>\n",
       "      <td>NaN</td>\n",
       "      <td>2023</td>\n",
       "      <td>9</td>\n",
       "      <td>29</td>\n",
       "      <td>2023-09-29 18:40:00</td>\n",
       "      <td>30.0</td>\n",
       "      <td>Center for Computing &amp; Data Sciences</td>\n",
       "      <td>00 Lower Level</td>\n",
       "      <td>CCBU00B</td>\n",
       "      <td>CCBU00BC</td>\n",
       "      <td>Compost</td>\n",
       "    </tr>\n",
       "    <tr>\n",
       "      <th>14621028</th>\n",
       "      <td>2023-10-05 17:21:00</td>\n",
       "      <td>lora-000274</td>\n",
       "      <td>False</td>\n",
       "      <td>5069cf4f-5953-411e-a764-0fad4e7b5354</td>\n",
       "      <td>NO_ERROR</td>\n",
       "      <td>7234.302281</td>\n",
       "      <td>2875.410086</td>\n",
       "      <td>2023-10-05 17:21:00</td>\n",
       "      <td>NaN</td>\n",
       "      <td>2023</td>\n",
       "      <td>10</td>\n",
       "      <td>5</td>\n",
       "      <td>2023-10-05 17:21:00</td>\n",
       "      <td>30.0</td>\n",
       "      <td>Center for Computing &amp; Data Sciences</td>\n",
       "      <td>00 Lower Level</td>\n",
       "      <td>CCBU00B</td>\n",
       "      <td>CCBU00BC</td>\n",
       "      <td>Compost</td>\n",
       "    </tr>\n",
       "    <tr>\n",
       "      <th>15050001</th>\n",
       "      <td>2023-10-12 18:16:00</td>\n",
       "      <td>lora-000274</td>\n",
       "      <td>False</td>\n",
       "      <td>5069cf4f-5953-411e-a764-0fad4e7b5354</td>\n",
       "      <td>NO_ERROR</td>\n",
       "      <td>7679.865721</td>\n",
       "      <td>2871.595331</td>\n",
       "      <td>2023-10-12 18:16:00</td>\n",
       "      <td>NaN</td>\n",
       "      <td>2023</td>\n",
       "      <td>10</td>\n",
       "      <td>12</td>\n",
       "      <td>2023-10-12 18:19:00</td>\n",
       "      <td>10.0</td>\n",
       "      <td>Center for Computing &amp; Data Sciences</td>\n",
       "      <td>00 Lower Level</td>\n",
       "      <td>CCBU00B</td>\n",
       "      <td>CCBU00BC</td>\n",
       "      <td>Compost</td>\n",
       "    </tr>\n",
       "    <tr>\n",
       "      <th>15111912</th>\n",
       "      <td>2023-10-13 18:19:00</td>\n",
       "      <td>lora-000274</td>\n",
       "      <td>False</td>\n",
       "      <td>5069cf4f-5953-411e-a764-0fad4e7b5354</td>\n",
       "      <td>NO_ERROR</td>\n",
       "      <td>7438.773175</td>\n",
       "      <td>2869.306477</td>\n",
       "      <td>2023-10-13 18:19:00</td>\n",
       "      <td>NaN</td>\n",
       "      <td>2023</td>\n",
       "      <td>10</td>\n",
       "      <td>13</td>\n",
       "      <td>2023-10-13 18:23:00</td>\n",
       "      <td>10.0</td>\n",
       "      <td>Center for Computing &amp; Data Sciences</td>\n",
       "      <td>00 Lower Level</td>\n",
       "      <td>CCBU00B</td>\n",
       "      <td>CCBU00BC</td>\n",
       "      <td>Compost</td>\n",
       "    </tr>\n",
       "    <tr>\n",
       "      <th>15484653</th>\n",
       "      <td>2023-10-19 18:41:00</td>\n",
       "      <td>lora-000274</td>\n",
       "      <td>False</td>\n",
       "      <td>5069cf4f-5953-411e-a764-0fad4e7b5354</td>\n",
       "      <td>NO_ERROR</td>\n",
       "      <td>7374.685283</td>\n",
       "      <td>2868.848707</td>\n",
       "      <td>2023-10-19 18:41:00</td>\n",
       "      <td>NaN</td>\n",
       "      <td>2023</td>\n",
       "      <td>10</td>\n",
       "      <td>19</td>\n",
       "      <td>2023-10-19 18:53:00</td>\n",
       "      <td>20.0</td>\n",
       "      <td>Center for Computing &amp; Data Sciences</td>\n",
       "      <td>00 Lower Level</td>\n",
       "      <td>CCBU00B</td>\n",
       "      <td>CCBU00BC</td>\n",
       "      <td>Compost</td>\n",
       "    </tr>\n",
       "    <tr>\n",
       "      <th>15947057</th>\n",
       "      <td>2023-10-26 19:35:00</td>\n",
       "      <td>lora-000274</td>\n",
       "      <td>False</td>\n",
       "      <td>5069cf4f-5953-411e-a764-0fad4e7b5354</td>\n",
       "      <td>NO_ERROR</td>\n",
       "      <td>7481.498436</td>\n",
       "      <td>2868.848707</td>\n",
       "      <td>2023-10-26 19:35:00</td>\n",
       "      <td>NaN</td>\n",
       "      <td>2023</td>\n",
       "      <td>10</td>\n",
       "      <td>26</td>\n",
       "      <td>2023-10-26 19:24:00</td>\n",
       "      <td>50.0</td>\n",
       "      <td>Center for Computing &amp; Data Sciences</td>\n",
       "      <td>00 Lower Level</td>\n",
       "      <td>CCBU00B</td>\n",
       "      <td>CCBU00BC</td>\n",
       "      <td>Compost</td>\n",
       "    </tr>\n",
       "  </tbody>\n",
       "</table>\n",
       "</div>"
      ],
      "text/plain": [
       "                   createdat        iotid   hide  \\\n",
       "13301531 2023-09-13 19:34:00  lora-000274  False   \n",
       "14264405 2023-09-29 18:30:00  lora-000274  False   \n",
       "14621028 2023-10-05 17:21:00  lora-000274  False   \n",
       "15050001 2023-10-12 18:16:00  lora-000274  False   \n",
       "15111912 2023-10-13 18:19:00  lora-000274  False   \n",
       "15484653 2023-10-19 18:41:00  lora-000274  False   \n",
       "15947057 2023-10-26 19:35:00  lora-000274  False   \n",
       "\n",
       "                                           bin errorcode       weight  \\\n",
       "13301531  5069cf4f-5953-411e-a764-0fad4e7b5354  NO_ERROR  7286.182956   \n",
       "14264405  5069cf4f-5953-411e-a764-0fad4e7b5354  NO_ERROR  7420.462348   \n",
       "14621028  5069cf4f-5953-411e-a764-0fad4e7b5354  NO_ERROR  7234.302281   \n",
       "15050001  5069cf4f-5953-411e-a764-0fad4e7b5354  NO_ERROR  7679.865721   \n",
       "15111912  5069cf4f-5953-411e-a764-0fad4e7b5354  NO_ERROR  7438.773175   \n",
       "15484653  5069cf4f-5953-411e-a764-0fad4e7b5354  NO_ERROR  7374.685283   \n",
       "15947057  5069cf4f-5953-411e-a764-0fad4e7b5354  NO_ERROR  7481.498436   \n",
       "\n",
       "              battery           updatedat  weightdiff  year  month  day  \\\n",
       "13301531  2880.750744 2023-09-13 19:34:00         NaN  2023      9   13   \n",
       "14264405  2877.393759 2023-09-29 18:30:00         NaN  2023      9   29   \n",
       "14621028  2875.410086 2023-10-05 17:21:00         NaN  2023     10    5   \n",
       "15050001  2871.595331 2023-10-12 18:16:00         NaN  2023     10   12   \n",
       "15111912  2869.306477 2023-10-13 18:19:00         NaN  2023     10   13   \n",
       "15484653  2868.848707 2023-10-19 18:41:00         NaN  2023     10   19   \n",
       "15947057  2868.848707 2023-10-26 19:35:00         NaN  2023     10   26   \n",
       "\n",
       "                        date  fullness                              building  \\\n",
       "13301531 2023-09-13 19:35:00      10.0  Center for Computing & Data Sciences   \n",
       "14264405 2023-09-29 18:40:00      30.0  Center for Computing & Data Sciences   \n",
       "14621028 2023-10-05 17:21:00      30.0  Center for Computing & Data Sciences   \n",
       "15050001 2023-10-12 18:19:00      10.0  Center for Computing & Data Sciences   \n",
       "15111912 2023-10-13 18:23:00      10.0  Center for Computing & Data Sciences   \n",
       "15484653 2023-10-19 18:53:00      20.0  Center for Computing & Data Sciences   \n",
       "15947057 2023-10-26 19:24:00      50.0  Center for Computing & Data Sciences   \n",
       "\n",
       "                   floor stationName   binName category  \n",
       "13301531  00 Lower Level     CCBU00B  CCBU00BC  Compost  \n",
       "14264405  00 Lower Level     CCBU00B  CCBU00BC  Compost  \n",
       "14621028  00 Lower Level     CCBU00B  CCBU00BC  Compost  \n",
       "15050001  00 Lower Level     CCBU00B  CCBU00BC  Compost  \n",
       "15111912  00 Lower Level     CCBU00B  CCBU00BC  Compost  \n",
       "15484653  00 Lower Level     CCBU00B  CCBU00BC  Compost  \n",
       "15947057  00 Lower Level     CCBU00B  CCBU00BC  Compost  "
      ]
     },
     "execution_count": 57,
     "metadata": {},
     "output_type": "execute_result"
    }
   ],
   "source": [
    "merged_data[(merged_data['bin']=='5069cf4f-5953-411e-a764-0fad4e7b5354') & (merged_data['fullness'].notnull())]"
   ]
  },
  {
   "cell_type": "markdown",
   "metadata": {},
   "source": [
    "### Filtering out the bins that have fullness values"
   ]
  },
  {
   "cell_type": "code",
   "execution_count": 58,
   "metadata": {},
   "outputs": [
    {
     "data": {
      "text/plain": [
       "(228,)"
      ]
     },
     "execution_count": 58,
     "metadata": {},
     "output_type": "execute_result"
    }
   ],
   "source": [
    "bins_with_non_null_fullness = merged_data[merged_data['fullness'].notnull()]['bin'].unique()\n",
    "bins_with_non_null_fullness.shape"
   ]
  },
  {
   "cell_type": "code",
   "execution_count": 59,
   "metadata": {},
   "outputs": [
    {
     "data": {
      "text/plain": [
       "(3333885, 19)"
      ]
     },
     "execution_count": 59,
     "metadata": {},
     "output_type": "execute_result"
    }
   ],
   "source": [
    "merged_data_filt = merged_data[merged_data['bin'].isin(bins_with_non_null_fullness)]\n",
    "merged_data_filt.shape"
   ]
  },
  {
   "cell_type": "markdown",
   "metadata": {},
   "source": [
    "## 3.2 Computing the baseline for these bins"
   ]
  },
  {
   "cell_type": "code",
   "execution_count": 60,
   "metadata": {},
   "outputs": [],
   "source": [
    "import peakutils\n",
    "\n",
    "# Sort the DataFrame by date\n",
    "merged_data_filt.sort_values(by='createdat', inplace=True)\n",
    "\n",
    "# Initialize a column for the rolling baseline\n",
    "merged_data_filt['baseline_rolling'] = None\n",
    "\n",
    "# Loop through each unique bin\n",
    "for bin_id in merged_data_filt['bin'].unique():\n",
    "    # Filter data for the current bin\n",
    "    bin_data = merged_data_filt[merged_data_filt['bin'] == bin_id]\n",
    "\n",
    "    # Calculate the baseline for the bin's weight data using peakutils\n",
    "    baseline_values = peakutils.baseline(bin_data['weight'].values, deg=3)\n",
    "\n",
    "    # Create a temporary DataFrame with dates and baseline values\n",
    "    temp_df = pd.DataFrame({'createdat': bin_data['createdat'], 'baseline_peakutils': baseline_values})\n",
    "    temp_df.set_index('createdat', inplace=True)\n",
    "\n",
    "    # Calculate the rolling mean over a 30-day window on the baseline values\n",
    "    temp_df['baseline_rolling'] = temp_df['baseline_peakutils'].rolling('15D').mean()\n",
    "\n",
    "    # Update the main DataFrame\n",
    "    merged_data_filt.loc[merged_data_filt['bin'] == bin_id, 'baseline_rolling'] = temp_df['baseline_rolling'].values"
   ]
  },
  {
   "cell_type": "code",
   "execution_count": 61,
   "metadata": {},
   "outputs": [
    {
     "data": {
      "text/html": [
       "<div>\n",
       "<style scoped>\n",
       "    .dataframe tbody tr th:only-of-type {\n",
       "        vertical-align: middle;\n",
       "    }\n",
       "\n",
       "    .dataframe tbody tr th {\n",
       "        vertical-align: top;\n",
       "    }\n",
       "\n",
       "    .dataframe thead th {\n",
       "        text-align: right;\n",
       "    }\n",
       "</style>\n",
       "<table border=\"1\" class=\"dataframe\">\n",
       "  <thead>\n",
       "    <tr style=\"text-align: right;\">\n",
       "      <th></th>\n",
       "      <th>createdat</th>\n",
       "      <th>iotid</th>\n",
       "      <th>hide</th>\n",
       "      <th>bin</th>\n",
       "      <th>errorcode</th>\n",
       "      <th>weight</th>\n",
       "      <th>battery</th>\n",
       "      <th>updatedat</th>\n",
       "      <th>weightdiff</th>\n",
       "      <th>year</th>\n",
       "      <th>month</th>\n",
       "      <th>day</th>\n",
       "      <th>date</th>\n",
       "      <th>fullness</th>\n",
       "      <th>building</th>\n",
       "      <th>floor</th>\n",
       "      <th>stationName</th>\n",
       "      <th>binName</th>\n",
       "      <th>category</th>\n",
       "      <th>baseline_rolling</th>\n",
       "    </tr>\n",
       "  </thead>\n",
       "  <tbody>\n",
       "    <tr>\n",
       "      <th>498404</th>\n",
       "      <td>2023-01-18 14:59:00</td>\n",
       "      <td>lora-000633</td>\n",
       "      <td>False</td>\n",
       "      <td>8be0c432-00b4-41ff-976b-5adf1e7670d7</td>\n",
       "      <td>NO_ERROR</td>\n",
       "      <td>2049.286641</td>\n",
       "      <td>3161.516747</td>\n",
       "      <td>2023-01-18 14:59:00</td>\n",
       "      <td>NaN</td>\n",
       "      <td>2023</td>\n",
       "      <td>1</td>\n",
       "      <td>18</td>\n",
       "      <td>NaT</td>\n",
       "      <td>NaN</td>\n",
       "      <td>Center for Computing &amp; Data Sciences</td>\n",
       "      <td>16</td>\n",
       "      <td>CCBU16A</td>\n",
       "      <td>CCBU16AT</td>\n",
       "      <td>Trash</td>\n",
       "      <td>1788.813417</td>\n",
       "    </tr>\n",
       "    <tr>\n",
       "      <th>498458</th>\n",
       "      <td>2023-01-18 15:00:00</td>\n",
       "      <td>lora-000633</td>\n",
       "      <td>False</td>\n",
       "      <td>8be0c432-00b4-41ff-976b-5adf1e7670d7</td>\n",
       "      <td>NO_ERROR</td>\n",
       "      <td>2046.234836</td>\n",
       "      <td>3159.685664</td>\n",
       "      <td>2023-01-18 15:00:00</td>\n",
       "      <td>NaN</td>\n",
       "      <td>2023</td>\n",
       "      <td>1</td>\n",
       "      <td>18</td>\n",
       "      <td>NaT</td>\n",
       "      <td>NaN</td>\n",
       "      <td>Center for Computing &amp; Data Sciences</td>\n",
       "      <td>16</td>\n",
       "      <td>CCBU16A</td>\n",
       "      <td>CCBU16AT</td>\n",
       "      <td>Trash</td>\n",
       "      <td>1788.811045</td>\n",
       "    </tr>\n",
       "    <tr>\n",
       "      <th>498465</th>\n",
       "      <td>2023-01-18 15:00:00</td>\n",
       "      <td>lora-000602</td>\n",
       "      <td>False</td>\n",
       "      <td>d65ef7bf-3f7c-4540-b7d0-9d29d6462d93</td>\n",
       "      <td>NO_ERROR</td>\n",
       "      <td>2012.664988</td>\n",
       "      <td>3176.775769</td>\n",
       "      <td>2023-01-18 15:00:00</td>\n",
       "      <td>NaN</td>\n",
       "      <td>2023</td>\n",
       "      <td>1</td>\n",
       "      <td>18</td>\n",
       "      <td>NaT</td>\n",
       "      <td>NaN</td>\n",
       "      <td>Center for Computing &amp; Data Sciences</td>\n",
       "      <td>16</td>\n",
       "      <td>CCBU16A</td>\n",
       "      <td>CCBU16AR</td>\n",
       "      <td>Mixed Recycling</td>\n",
       "      <td>1806.134137</td>\n",
       "    </tr>\n",
       "    <tr>\n",
       "      <th>498469</th>\n",
       "      <td>2023-01-18 15:00:00</td>\n",
       "      <td>lora-000344</td>\n",
       "      <td>False</td>\n",
       "      <td>a6241564-5843-4d99-87d5-d7e90127ff1d</td>\n",
       "      <td>NO_ERROR</td>\n",
       "      <td>1826.504921</td>\n",
       "      <td>3157.701991</td>\n",
       "      <td>2023-01-18 15:00:00</td>\n",
       "      <td>NaN</td>\n",
       "      <td>2023</td>\n",
       "      <td>1</td>\n",
       "      <td>18</td>\n",
       "      <td>NaT</td>\n",
       "      <td>NaN</td>\n",
       "      <td>Center for Computing &amp; Data Sciences</td>\n",
       "      <td>16</td>\n",
       "      <td>CCBU16A</td>\n",
       "      <td>CCBU16AC</td>\n",
       "      <td>Compost</td>\n",
       "      <td>1842.355503</td>\n",
       "    </tr>\n",
       "    <tr>\n",
       "      <th>498486</th>\n",
       "      <td>2023-01-18 15:01:00</td>\n",
       "      <td>lora-000602</td>\n",
       "      <td>False</td>\n",
       "      <td>d65ef7bf-3f7c-4540-b7d0-9d29d6462d93</td>\n",
       "      <td>NO_ERROR</td>\n",
       "      <td>2012.664988</td>\n",
       "      <td>3176.165408</td>\n",
       "      <td>2023-01-18 15:01:00</td>\n",
       "      <td>NaN</td>\n",
       "      <td>2023</td>\n",
       "      <td>1</td>\n",
       "      <td>18</td>\n",
       "      <td>NaT</td>\n",
       "      <td>NaN</td>\n",
       "      <td>Center for Computing &amp; Data Sciences</td>\n",
       "      <td>16</td>\n",
       "      <td>CCBU16A</td>\n",
       "      <td>CCBU16AR</td>\n",
       "      <td>Mixed Recycling</td>\n",
       "      <td>1806.12688</td>\n",
       "    </tr>\n",
       "  </tbody>\n",
       "</table>\n",
       "</div>"
      ],
      "text/plain": [
       "                 createdat        iotid   hide  \\\n",
       "498404 2023-01-18 14:59:00  lora-000633  False   \n",
       "498458 2023-01-18 15:00:00  lora-000633  False   \n",
       "498465 2023-01-18 15:00:00  lora-000602  False   \n",
       "498469 2023-01-18 15:00:00  lora-000344  False   \n",
       "498486 2023-01-18 15:01:00  lora-000602  False   \n",
       "\n",
       "                                         bin errorcode       weight  \\\n",
       "498404  8be0c432-00b4-41ff-976b-5adf1e7670d7  NO_ERROR  2049.286641   \n",
       "498458  8be0c432-00b4-41ff-976b-5adf1e7670d7  NO_ERROR  2046.234836   \n",
       "498465  d65ef7bf-3f7c-4540-b7d0-9d29d6462d93  NO_ERROR  2012.664988   \n",
       "498469  a6241564-5843-4d99-87d5-d7e90127ff1d  NO_ERROR  1826.504921   \n",
       "498486  d65ef7bf-3f7c-4540-b7d0-9d29d6462d93  NO_ERROR  2012.664988   \n",
       "\n",
       "            battery           updatedat  weightdiff  year  month  day date  \\\n",
       "498404  3161.516747 2023-01-18 14:59:00         NaN  2023      1   18  NaT   \n",
       "498458  3159.685664 2023-01-18 15:00:00         NaN  2023      1   18  NaT   \n",
       "498465  3176.775769 2023-01-18 15:00:00         NaN  2023      1   18  NaT   \n",
       "498469  3157.701991 2023-01-18 15:00:00         NaN  2023      1   18  NaT   \n",
       "498486  3176.165408 2023-01-18 15:01:00         NaN  2023      1   18  NaT   \n",
       "\n",
       "        fullness                              building floor stationName  \\\n",
       "498404       NaN  Center for Computing & Data Sciences    16     CCBU16A   \n",
       "498458       NaN  Center for Computing & Data Sciences    16     CCBU16A   \n",
       "498465       NaN  Center for Computing & Data Sciences    16     CCBU16A   \n",
       "498469       NaN  Center for Computing & Data Sciences    16     CCBU16A   \n",
       "498486       NaN  Center for Computing & Data Sciences    16     CCBU16A   \n",
       "\n",
       "         binName         category baseline_rolling  \n",
       "498404  CCBU16AT            Trash      1788.813417  \n",
       "498458  CCBU16AT            Trash      1788.811045  \n",
       "498465  CCBU16AR  Mixed Recycling      1806.134137  \n",
       "498469  CCBU16AC          Compost      1842.355503  \n",
       "498486  CCBU16AR  Mixed Recycling       1806.12688  "
      ]
     },
     "execution_count": 61,
     "metadata": {},
     "output_type": "execute_result"
    }
   ],
   "source": [
    "merged_data_filt.head(5)"
   ]
  },
  {
   "cell_type": "code",
   "execution_count": 62,
   "metadata": {},
   "outputs": [
    {
     "data": {
      "text/plain": [
       "createdat           datetime64[ns]\n",
       "iotid                       object\n",
       "hide                          bool\n",
       "bin                         object\n",
       "errorcode                   object\n",
       "weight                     float64\n",
       "battery                    float64\n",
       "updatedat           datetime64[ns]\n",
       "weightdiff                 float64\n",
       "year                         int64\n",
       "month                        int64\n",
       "day                          int64\n",
       "date                datetime64[ns]\n",
       "fullness                   float64\n",
       "building                    object\n",
       "floor                       object\n",
       "stationName                 object\n",
       "binName                     object\n",
       "category                    object\n",
       "baseline_rolling            object\n",
       "dtype: object"
      ]
     },
     "execution_count": 62,
     "metadata": {},
     "output_type": "execute_result"
    }
   ],
   "source": [
    "merged_data_filt.dtypes"
   ]
  },
  {
   "cell_type": "markdown",
   "metadata": {},
   "source": [
    "## 3.3 Example Bin Plot for normal bin (with Fullness)"
   ]
  },
  {
   "cell_type": "code",
   "execution_count": 63,
   "metadata": {},
   "outputs": [
    {
     "data": {
      "image/png": "[encoded data removed]",
      "text/plain": [
       "<Figure size 864x432 with 1 Axes>"
      ]
     },
     "metadata": {
      "needs_background": "light"
     },
     "output_type": "display_data"
    }
   ],
   "source": [
    "import matplotlib.pyplot as plt\n",
    "import pandas as pd\n",
    "\n",
    "# Replace 'your_bin_id' with the actual ID of the bin you want to plot\n",
    "your_bin_id = '8be0c432-00b4-41ff-976b-5adf1e7670d7'\n",
    "\n",
    "# Filter the DataFrame for the specific bin\n",
    "specific_bin_data = merged_data_filt[merged_data_filt['bin'] == your_bin_id]\n",
    "\n",
    "# Convert 'createdat' to datetime and filter for September and October\n",
    "specific_bin_data['createdat'] = pd.to_datetime(specific_bin_data['createdat'])\n",
    "specific_bin_data = specific_bin_data.set_index('createdat')\n",
    "specific_bin_data = specific_bin_data['2023-09':'2023-10'].reset_index()\n",
    "\n",
    "# Check if the bin has data to plot\n",
    "if not specific_bin_data.empty:\n",
    "    plt.figure(figsize=(12, 6))\n",
    "\n",
    "    # Plotting weight\n",
    "    plt.plot(specific_bin_data['createdat'], specific_bin_data['weight'], label='Weight', color='blue')\n",
    "\n",
    "    # Plotting baseline\n",
    "    plt.plot(specific_bin_data['createdat'], specific_bin_data['baseline_rolling'], label='Baseline', color='red')\n",
    "\n",
    "    # Marking only non-null fullness values\n",
    "    for index, row in specific_bin_data.iterrows():\n",
    "        if not pd.isna(row['fullness']):\n",
    "            plt.scatter(row['createdat'], row['weight'], color='green')  # Marking fullness on the weight plot\n",
    "            plt.text(row['createdat'], row['weight'], f'{row[\"fullness\"]}%', horizontalalignment='left', size='xx-small', color='black')\n",
    "\n",
    "    # Adding title and labels\n",
    "    plt.title(f'Weight, Baseline, and Fullness for Bin {your_bin_id} (Sept-Oct)')\n",
    "    plt.xlabel('Date')\n",
    "    plt.ylabel('Weight')\n",
    "    plt.legend()\n",
    "\n",
    "    plt.show()\n",
    "else:\n",
    "    print(f\"No data available for bin {your_bin_id}\")\n"
   ]
  },
  {
   "cell_type": "markdown",
   "metadata": {},
   "source": [
    "### Tabular Representation of Example Bin - 1"
   ]
  },
  {
   "cell_type": "code",
   "execution_count": 64,
   "metadata": {},
   "outputs": [
    {
     "data": {
      "text/html": [
       "<div>\n",
       "<style scoped>\n",
       "    .dataframe tbody tr th:only-of-type {\n",
       "        vertical-align: middle;\n",
       "    }\n",
       "\n",
       "    .dataframe tbody tr th {\n",
       "        vertical-align: top;\n",
       "    }\n",
       "\n",
       "    .dataframe thead th {\n",
       "        text-align: right;\n",
       "    }\n",
       "</style>\n",
       "<table border=\"1\" class=\"dataframe\">\n",
       "  <thead>\n",
       "    <tr style=\"text-align: right;\">\n",
       "      <th></th>\n",
       "      <th>date</th>\n",
       "      <th>fullness</th>\n",
       "    </tr>\n",
       "  </thead>\n",
       "  <tbody>\n",
       "    <tr>\n",
       "      <th>118</th>\n",
       "      <td>2023-09-13 18:17:00</td>\n",
       "      <td>40</td>\n",
       "    </tr>\n",
       "    <tr>\n",
       "      <th>190</th>\n",
       "      <td>2023-09-25 18:07:00</td>\n",
       "      <td>60</td>\n",
       "    </tr>\n",
       "    <tr>\n",
       "      <th>405</th>\n",
       "      <td>2023-09-28 18:06:00</td>\n",
       "      <td>10</td>\n",
       "    </tr>\n",
       "    <tr>\n",
       "      <th>460</th>\n",
       "      <td>2023-10-02 17:20:00</td>\n",
       "      <td>50</td>\n",
       "    </tr>\n",
       "    <tr>\n",
       "      <th>462</th>\n",
       "      <td>2023-10-03 17:55:00</td>\n",
       "      <td>60</td>\n",
       "    </tr>\n",
       "    <tr>\n",
       "      <th>607</th>\n",
       "      <td>2023-10-05 16:32:00</td>\n",
       "      <td>30</td>\n",
       "    </tr>\n",
       "    <tr>\n",
       "      <th>873</th>\n",
       "      <td>2023-10-06 17:24:00</td>\n",
       "      <td>90</td>\n",
       "    </tr>\n",
       "    <tr>\n",
       "      <th>883</th>\n",
       "      <td>2023-10-11 17:28:00</td>\n",
       "      <td>70</td>\n",
       "    </tr>\n",
       "    <tr>\n",
       "      <th>1133</th>\n",
       "      <td>2023-10-12 18:05:00</td>\n",
       "      <td>100</td>\n",
       "    </tr>\n",
       "    <tr>\n",
       "      <th>1136</th>\n",
       "      <td>2023-10-13 18:49:00</td>\n",
       "      <td>70</td>\n",
       "    </tr>\n",
       "    <tr>\n",
       "      <th>1139</th>\n",
       "      <td>2023-10-16 17:58:00</td>\n",
       "      <td>80</td>\n",
       "    </tr>\n",
       "    <tr>\n",
       "      <th>1190</th>\n",
       "      <td>2023-10-18 16:13:00</td>\n",
       "      <td>60</td>\n",
       "    </tr>\n",
       "    <tr>\n",
       "      <th>1397</th>\n",
       "      <td>2023-10-19 16:42:00</td>\n",
       "      <td>70</td>\n",
       "    </tr>\n",
       "    <tr>\n",
       "      <th>1399</th>\n",
       "      <td>2023-10-20 16:49:00</td>\n",
       "      <td>70</td>\n",
       "    </tr>\n",
       "    <tr>\n",
       "      <th>1479</th>\n",
       "      <td>2023-10-23 23:58:00</td>\n",
       "      <td>80</td>\n",
       "    </tr>\n",
       "    <tr>\n",
       "      <th>2137</th>\n",
       "      <td>2023-10-25 16:36:00</td>\n",
       "      <td>60</td>\n",
       "    </tr>\n",
       "    <tr>\n",
       "      <th>2140</th>\n",
       "      <td>2023-10-26 16:37:00</td>\n",
       "      <td>70</td>\n",
       "    </tr>\n",
       "    <tr>\n",
       "      <th>2143</th>\n",
       "      <td>2023-10-27 16:48:00</td>\n",
       "      <td>80</td>\n",
       "    </tr>\n",
       "    <tr>\n",
       "      <th>2145</th>\n",
       "      <td>2023-10-30 19:25:00</td>\n",
       "      <td>40</td>\n",
       "    </tr>\n",
       "    <tr>\n",
       "      <th>2148</th>\n",
       "      <td>2023-11-02 16:40:00</td>\n",
       "      <td>90</td>\n",
       "    </tr>\n",
       "    <tr>\n",
       "      <th>2151</th>\n",
       "      <td>2023-11-03 16:49:00</td>\n",
       "      <td>100</td>\n",
       "    </tr>\n",
       "    <tr>\n",
       "      <th>2153</th>\n",
       "      <td>2023-11-06 18:23:00</td>\n",
       "      <td>90</td>\n",
       "    </tr>\n",
       "    <tr>\n",
       "      <th>2156</th>\n",
       "      <td>2023-11-09 19:49:00</td>\n",
       "      <td>60</td>\n",
       "    </tr>\n",
       "    <tr>\n",
       "      <th>2433</th>\n",
       "      <td>2023-11-10 19:59:00</td>\n",
       "      <td>50</td>\n",
       "    </tr>\n",
       "    <tr>\n",
       "      <th>2435</th>\n",
       "      <td>2023-11-13 21:41:00</td>\n",
       "      <td>90</td>\n",
       "    </tr>\n",
       "    <tr>\n",
       "      <th>2453</th>\n",
       "      <td>2023-11-15 17:43:00</td>\n",
       "      <td>70</td>\n",
       "    </tr>\n",
       "    <tr>\n",
       "      <th>2633</th>\n",
       "      <td>2023-11-16 19:06:00</td>\n",
       "      <td>90</td>\n",
       "    </tr>\n",
       "    <tr>\n",
       "      <th>2636</th>\n",
       "      <td>2023-11-17 19:18:00</td>\n",
       "      <td>70</td>\n",
       "    </tr>\n",
       "  </tbody>\n",
       "</table>\n",
       "</div>"
      ],
      "text/plain": [
       "                    date  fullness\n",
       "118  2023-09-13 18:17:00        40\n",
       "190  2023-09-25 18:07:00        60\n",
       "405  2023-09-28 18:06:00        10\n",
       "460  2023-10-02 17:20:00        50\n",
       "462  2023-10-03 17:55:00        60\n",
       "607  2023-10-05 16:32:00        30\n",
       "873  2023-10-06 17:24:00        90\n",
       "883  2023-10-11 17:28:00        70\n",
       "1133 2023-10-12 18:05:00       100\n",
       "1136 2023-10-13 18:49:00        70\n",
       "1139 2023-10-16 17:58:00        80\n",
       "1190 2023-10-18 16:13:00        60\n",
       "1397 2023-10-19 16:42:00        70\n",
       "1399 2023-10-20 16:49:00        70\n",
       "1479 2023-10-23 23:58:00        80\n",
       "2137 2023-10-25 16:36:00        60\n",
       "2140 2023-10-26 16:37:00        70\n",
       "2143 2023-10-27 16:48:00        80\n",
       "2145 2023-10-30 19:25:00        40\n",
       "2148 2023-11-02 16:40:00        90\n",
       "2151 2023-11-03 16:49:00       100\n",
       "2153 2023-11-06 18:23:00        90\n",
       "2156 2023-11-09 19:49:00        60\n",
       "2433 2023-11-10 19:59:00        50\n",
       "2435 2023-11-13 21:41:00        90\n",
       "2453 2023-11-15 17:43:00        70\n",
       "2633 2023-11-16 19:06:00        90\n",
       "2636 2023-11-17 19:18:00        70"
      ]
     },
     "execution_count": 64,
     "metadata": {},
     "output_type": "execute_result"
    }
   ],
   "source": [
    "fullness_assessments[fullness_assessments['bin'] == '8be0c432-00b4-41ff-976b-5adf1e7670d7'][['date', 'fullness']]"
   ]
  },
  {
   "cell_type": "markdown",
   "metadata": {},
   "source": [
    "## 3.4 Example Bin Plot for bin with baseline shift (with Fullness)"
   ]
  },
  {
   "cell_type": "code",
   "execution_count": 65,
   "metadata": {},
   "outputs": [
    {
     "data": {
      "image/png": "[encoded data removed]",
      "text/plain": [
       "<Figure size 864x432 with 1 Axes>"
      ]
     },
     "metadata": {
      "needs_background": "light"
     },
     "output_type": "display_data"
    }
   ],
   "source": [
    "import matplotlib.pyplot as plt\n",
    "import random\n",
    "\n",
    "# Replace 'your_bin_id' with the actual ID of the bin you want to plot\n",
    "#your_bin_id = random.choice(merged_data_filt['bin'].unique())\n",
    "your_bin_id = '8e49c79d-6fad-46f1-9c4d-287c07f36c95'\n",
    "# Filter the DataFrame for the specific bin\n",
    "specific_bin_data = merged_data_filt[merged_data_filt['bin'] == your_bin_id]\n",
    "\n",
    "# Check if the bin has data to plot\n",
    "if not specific_bin_data.empty:\n",
    "    plt.figure(figsize=(12, 6))\n",
    "\n",
    "    # Plotting weight\n",
    "    plt.plot(specific_bin_data['createdat'], specific_bin_data['weight'], label='Weight', color='blue')\n",
    "\n",
    "    # Plotting baseline\n",
    "    plt.plot(specific_bin_data['createdat'], specific_bin_data['baseline_rolling'], label='Baseline', color='red')\n",
    "\n",
    "    # Adding title and labels\n",
    "    plt.title(f'Weight and Baseline for Bin {your_bin_id}')\n",
    "    plt.xlabel('Date')\n",
    "    plt.ylabel('Weight')\n",
    "    plt.legend()\n",
    "\n",
    "    plt.show()\n",
    "else:\n",
    "    print(f\"No data available for bin {your_bin_id}\")"
   ]
  },
  {
   "cell_type": "markdown",
   "metadata": {},
   "source": [
    "## 3.5 Finding the relationship between (weight-baseline) to fullness"
   ]
  },
  {
   "cell_type": "code",
   "execution_count": 66,
   "metadata": {},
   "outputs": [
    {
     "data": {
      "text/plain": [
       "(2694, 20)"
      ]
     },
     "execution_count": 66,
     "metadata": {},
     "output_type": "execute_result"
    }
   ],
   "source": [
    "merged_data_clean = merged_data_filt.dropna(subset=['fullness'])\n",
    "merged_data_clean.shape"
   ]
  },
  {
   "cell_type": "code",
   "execution_count": 67,
   "metadata": {},
   "outputs": [],
   "source": [
    "merged_data_clean['weight_minus_baseline'] = merged_data_clean['weight'] - merged_data_clean['baseline_rolling']"
   ]
  },
  {
   "cell_type": "code",
   "execution_count": 68,
   "metadata": {},
   "outputs": [
    {
     "ename": "AttributeError",
     "evalue": "'float' object has no attribute 'shape'",
     "output_type": "error",
     "traceback": [
      "\u001b[0;31m---------------------------------------------------------------------------\u001b[0m",
      "\u001b[0;31mAttributeError\u001b[0m                            Traceback (most recent call last)",
      "Input \u001b[0;32mIn [68]\u001b[0m, in \u001b[0;36m<cell line: 1>\u001b[0;34m()\u001b[0m\n\u001b[0;32m----> 1\u001b[0m correlation \u001b[38;5;241m=\u001b[39m \u001b[43mmerged_data_clean\u001b[49m\u001b[43m[\u001b[49m\u001b[38;5;124;43m'\u001b[39;49m\u001b[38;5;124;43mweight_minus_baseline\u001b[39;49m\u001b[38;5;124;43m'\u001b[39;49m\u001b[43m]\u001b[49m\u001b[38;5;241;43m.\u001b[39;49m\u001b[43mcorr\u001b[49m\u001b[43m(\u001b[49m\u001b[43mmerged_data_clean\u001b[49m\u001b[43m[\u001b[49m\u001b[38;5;124;43m'\u001b[39;49m\u001b[38;5;124;43mfullness\u001b[39;49m\u001b[38;5;124;43m'\u001b[39;49m\u001b[43m]\u001b[49m\u001b[43m)\u001b[49m\n\u001b[1;32m      2\u001b[0m \u001b[38;5;28mprint\u001b[39m(\u001b[38;5;124m\"\u001b[39m\u001b[38;5;124mCorrelation coefficient:\u001b[39m\u001b[38;5;124m\"\u001b[39m, correlation)\n",
      "File \u001b[0;32m~/opt/anaconda3/lib/python3.9/site-packages/pandas/core/series.py:2557\u001b[0m, in \u001b[0;36mSeries.corr\u001b[0;34m(self, other, method, min_periods)\u001b[0m\n\u001b[1;32m   2554\u001b[0m     \u001b[38;5;28;01mreturn\u001b[39;00m np\u001b[38;5;241m.\u001b[39mnan\n\u001b[1;32m   2556\u001b[0m \u001b[38;5;28;01mif\u001b[39;00m method \u001b[38;5;129;01min\u001b[39;00m [\u001b[38;5;124m\"\u001b[39m\u001b[38;5;124mpearson\u001b[39m\u001b[38;5;124m\"\u001b[39m, \u001b[38;5;124m\"\u001b[39m\u001b[38;5;124mspearman\u001b[39m\u001b[38;5;124m\"\u001b[39m, \u001b[38;5;124m\"\u001b[39m\u001b[38;5;124mkendall\u001b[39m\u001b[38;5;124m\"\u001b[39m] \u001b[38;5;129;01mor\u001b[39;00m callable(method):\n\u001b[0;32m-> 2557\u001b[0m     \u001b[38;5;28;01mreturn\u001b[39;00m \u001b[43mnanops\u001b[49m\u001b[38;5;241;43m.\u001b[39;49m\u001b[43mnancorr\u001b[49m\u001b[43m(\u001b[49m\n\u001b[1;32m   2558\u001b[0m \u001b[43m        \u001b[49m\u001b[43mthis\u001b[49m\u001b[38;5;241;43m.\u001b[39;49m\u001b[43mvalues\u001b[49m\u001b[43m,\u001b[49m\u001b[43m \u001b[49m\u001b[43mother\u001b[49m\u001b[38;5;241;43m.\u001b[39;49m\u001b[43mvalues\u001b[49m\u001b[43m,\u001b[49m\u001b[43m \u001b[49m\u001b[43mmethod\u001b[49m\u001b[38;5;241;43m=\u001b[39;49m\u001b[43mmethod\u001b[49m\u001b[43m,\u001b[49m\u001b[43m \u001b[49m\u001b[43mmin_periods\u001b[49m\u001b[38;5;241;43m=\u001b[39;49m\u001b[43mmin_periods\u001b[49m\n\u001b[1;32m   2559\u001b[0m \u001b[43m    \u001b[49m\u001b[43m)\u001b[49m\n\u001b[1;32m   2561\u001b[0m \u001b[38;5;28;01mraise\u001b[39;00m \u001b[38;5;167;01mValueError\u001b[39;00m(\n\u001b[1;32m   2562\u001b[0m     \u001b[38;5;124m\"\u001b[39m\u001b[38;5;124mmethod must be either \u001b[39m\u001b[38;5;124m'\u001b[39m\u001b[38;5;124mpearson\u001b[39m\u001b[38;5;124m'\u001b[39m\u001b[38;5;124m, \u001b[39m\u001b[38;5;124m\"\u001b[39m\n\u001b[1;32m   2563\u001b[0m     \u001b[38;5;124m\"\u001b[39m\u001b[38;5;124m'\u001b[39m\u001b[38;5;124mspearman\u001b[39m\u001b[38;5;124m'\u001b[39m\u001b[38;5;124m, \u001b[39m\u001b[38;5;124m'\u001b[39m\u001b[38;5;124mkendall\u001b[39m\u001b[38;5;124m'\u001b[39m\u001b[38;5;124m, or a callable, \u001b[39m\u001b[38;5;124m\"\u001b[39m\n\u001b[1;32m   2564\u001b[0m     \u001b[38;5;124mf\u001b[39m\u001b[38;5;124m\"\u001b[39m\u001b[38;5;124m'\u001b[39m\u001b[38;5;132;01m{\u001b[39;00mmethod\u001b[38;5;132;01m}\u001b[39;00m\u001b[38;5;124m'\u001b[39m\u001b[38;5;124m was supplied\u001b[39m\u001b[38;5;124m\"\u001b[39m\n\u001b[1;32m   2565\u001b[0m )\n",
      "File \u001b[0;32m~/opt/anaconda3/lib/python3.9/site-packages/pandas/core/nanops.py:93\u001b[0m, in \u001b[0;36mdisallow.__call__.<locals>._f\u001b[0;34m(*args, **kwargs)\u001b[0m\n\u001b[1;32m     91\u001b[0m \u001b[38;5;28;01mtry\u001b[39;00m:\n\u001b[1;32m     92\u001b[0m     \u001b[38;5;28;01mwith\u001b[39;00m np\u001b[38;5;241m.\u001b[39merrstate(invalid\u001b[38;5;241m=\u001b[39m\u001b[38;5;124m\"\u001b[39m\u001b[38;5;124mignore\u001b[39m\u001b[38;5;124m\"\u001b[39m):\n\u001b[0;32m---> 93\u001b[0m         \u001b[38;5;28;01mreturn\u001b[39;00m \u001b[43mf\u001b[49m\u001b[43m(\u001b[49m\u001b[38;5;241;43m*\u001b[39;49m\u001b[43margs\u001b[49m\u001b[43m,\u001b[49m\u001b[43m \u001b[49m\u001b[38;5;241;43m*\u001b[39;49m\u001b[38;5;241;43m*\u001b[39;49m\u001b[43mkwargs\u001b[49m\u001b[43m)\u001b[49m\n\u001b[1;32m     94\u001b[0m \u001b[38;5;28;01mexcept\u001b[39;00m \u001b[38;5;167;01mValueError\u001b[39;00m \u001b[38;5;28;01mas\u001b[39;00m e:\n\u001b[1;32m     95\u001b[0m     \u001b[38;5;66;03m# we want to transform an object array\u001b[39;00m\n\u001b[1;32m     96\u001b[0m     \u001b[38;5;66;03m# ValueError message to the more typical TypeError\u001b[39;00m\n\u001b[1;32m     97\u001b[0m     \u001b[38;5;66;03m# e.g. this is normally a disallowed function on\u001b[39;00m\n\u001b[1;32m     98\u001b[0m     \u001b[38;5;66;03m# object arrays that contain strings\u001b[39;00m\n\u001b[1;32m     99\u001b[0m     \u001b[38;5;28;01mif\u001b[39;00m is_object_dtype(args[\u001b[38;5;241m0\u001b[39m]):\n",
      "File \u001b[0;32m~/opt/anaconda3/lib/python3.9/site-packages/pandas/core/nanops.py:1546\u001b[0m, in \u001b[0;36mnancorr\u001b[0;34m(a, b, method, min_periods)\u001b[0m\n\u001b[1;32m   1543\u001b[0m     \u001b[38;5;28;01mreturn\u001b[39;00m np\u001b[38;5;241m.\u001b[39mnan\n\u001b[1;32m   1545\u001b[0m f \u001b[38;5;241m=\u001b[39m get_corr_func(method)\n\u001b[0;32m-> 1546\u001b[0m \u001b[38;5;28;01mreturn\u001b[39;00m \u001b[43mf\u001b[49m\u001b[43m(\u001b[49m\u001b[43ma\u001b[49m\u001b[43m,\u001b[49m\u001b[43m \u001b[49m\u001b[43mb\u001b[49m\u001b[43m)\u001b[49m\n",
      "File \u001b[0;32m~/opt/anaconda3/lib/python3.9/site-packages/pandas/core/nanops.py:1567\u001b[0m, in \u001b[0;36mget_corr_func.<locals>.func\u001b[0;34m(a, b)\u001b[0m\n\u001b[1;32m   1566\u001b[0m \u001b[38;5;28;01mdef\u001b[39;00m \u001b[38;5;21mfunc\u001b[39m(a, b):\n\u001b[0;32m-> 1567\u001b[0m     \u001b[38;5;28;01mreturn\u001b[39;00m \u001b[43mnp\u001b[49m\u001b[38;5;241;43m.\u001b[39;49m\u001b[43mcorrcoef\u001b[49m\u001b[43m(\u001b[49m\u001b[43ma\u001b[49m\u001b[43m,\u001b[49m\u001b[43m \u001b[49m\u001b[43mb\u001b[49m\u001b[43m)\u001b[49m[\u001b[38;5;241m0\u001b[39m, \u001b[38;5;241m1\u001b[39m]\n",
      "File \u001b[0;32m<__array_function__ internals>:5\u001b[0m, in \u001b[0;36mcorrcoef\u001b[0;34m(*args, **kwargs)\u001b[0m\n",
      "File \u001b[0;32m~/opt/anaconda3/lib/python3.9/site-packages/numpy/lib/function_base.py:2683\u001b[0m, in \u001b[0;36mcorrcoef\u001b[0;34m(x, y, rowvar, bias, ddof, dtype)\u001b[0m\n\u001b[1;32m   2679\u001b[0m \u001b[38;5;28;01mif\u001b[39;00m bias \u001b[38;5;129;01mis\u001b[39;00m \u001b[38;5;129;01mnot\u001b[39;00m np\u001b[38;5;241m.\u001b[39m_NoValue \u001b[38;5;129;01mor\u001b[39;00m ddof \u001b[38;5;129;01mis\u001b[39;00m \u001b[38;5;129;01mnot\u001b[39;00m np\u001b[38;5;241m.\u001b[39m_NoValue:\n\u001b[1;32m   2680\u001b[0m     \u001b[38;5;66;03m# 2015-03-15, 1.10\u001b[39;00m\n\u001b[1;32m   2681\u001b[0m     warnings\u001b[38;5;241m.\u001b[39mwarn(\u001b[38;5;124m'\u001b[39m\u001b[38;5;124mbias and ddof have no effect and are deprecated\u001b[39m\u001b[38;5;124m'\u001b[39m,\n\u001b[1;32m   2682\u001b[0m                   \u001b[38;5;167;01mDeprecationWarning\u001b[39;00m, stacklevel\u001b[38;5;241m=\u001b[39m\u001b[38;5;241m3\u001b[39m)\n\u001b[0;32m-> 2683\u001b[0m c \u001b[38;5;241m=\u001b[39m \u001b[43mcov\u001b[49m\u001b[43m(\u001b[49m\u001b[43mx\u001b[49m\u001b[43m,\u001b[49m\u001b[43m \u001b[49m\u001b[43my\u001b[49m\u001b[43m,\u001b[49m\u001b[43m \u001b[49m\u001b[43mrowvar\u001b[49m\u001b[43m,\u001b[49m\u001b[43m \u001b[49m\u001b[43mdtype\u001b[49m\u001b[38;5;241;43m=\u001b[39;49m\u001b[43mdtype\u001b[49m\u001b[43m)\u001b[49m\n\u001b[1;32m   2684\u001b[0m \u001b[38;5;28;01mtry\u001b[39;00m:\n\u001b[1;32m   2685\u001b[0m     d \u001b[38;5;241m=\u001b[39m diag(c)\n",
      "File \u001b[0;32m<__array_function__ internals>:5\u001b[0m, in \u001b[0;36mcov\u001b[0;34m(*args, **kwargs)\u001b[0m\n",
      "File \u001b[0;32m~/opt/anaconda3/lib/python3.9/site-packages/numpy/lib/function_base.py:2518\u001b[0m, in \u001b[0;36mcov\u001b[0;34m(m, y, rowvar, bias, ddof, fweights, aweights, dtype)\u001b[0m\n\u001b[1;32m   2515\u001b[0m     \u001b[38;5;28;01melse\u001b[39;00m:\n\u001b[1;32m   2516\u001b[0m         w \u001b[38;5;241m*\u001b[39m\u001b[38;5;241m=\u001b[39m aweights\n\u001b[0;32m-> 2518\u001b[0m avg, w_sum \u001b[38;5;241m=\u001b[39m \u001b[43maverage\u001b[49m\u001b[43m(\u001b[49m\u001b[43mX\u001b[49m\u001b[43m,\u001b[49m\u001b[43m \u001b[49m\u001b[43maxis\u001b[49m\u001b[38;5;241;43m=\u001b[39;49m\u001b[38;5;241;43m1\u001b[39;49m\u001b[43m,\u001b[49m\u001b[43m \u001b[49m\u001b[43mweights\u001b[49m\u001b[38;5;241;43m=\u001b[39;49m\u001b[43mw\u001b[49m\u001b[43m,\u001b[49m\u001b[43m \u001b[49m\u001b[43mreturned\u001b[49m\u001b[38;5;241;43m=\u001b[39;49m\u001b[38;5;28;43;01mTrue\u001b[39;49;00m\u001b[43m)\u001b[49m\n\u001b[1;32m   2519\u001b[0m w_sum \u001b[38;5;241m=\u001b[39m w_sum[\u001b[38;5;241m0\u001b[39m]\n\u001b[1;32m   2521\u001b[0m \u001b[38;5;66;03m# Determine the normalization\u001b[39;00m\n",
      "File \u001b[0;32m<__array_function__ internals>:5\u001b[0m, in \u001b[0;36maverage\u001b[0;34m(*args, **kwargs)\u001b[0m\n",
      "File \u001b[0;32m~/opt/anaconda3/lib/python3.9/site-packages/numpy/lib/function_base.py:415\u001b[0m, in \u001b[0;36maverage\u001b[0;34m(a, axis, weights, returned)\u001b[0m\n\u001b[1;32m    412\u001b[0m     avg \u001b[38;5;241m=\u001b[39m np\u001b[38;5;241m.\u001b[39mmultiply(a, wgt, dtype\u001b[38;5;241m=\u001b[39mresult_dtype)\u001b[38;5;241m.\u001b[39msum(axis)\u001b[38;5;241m/\u001b[39mscl\n\u001b[1;32m    414\u001b[0m \u001b[38;5;28;01mif\u001b[39;00m returned:\n\u001b[0;32m--> 415\u001b[0m     \u001b[38;5;28;01mif\u001b[39;00m \u001b[43mscl\u001b[49m\u001b[38;5;241;43m.\u001b[39;49m\u001b[43mshape\u001b[49m \u001b[38;5;241m!=\u001b[39m avg\u001b[38;5;241m.\u001b[39mshape:\n\u001b[1;32m    416\u001b[0m         scl \u001b[38;5;241m=\u001b[39m np\u001b[38;5;241m.\u001b[39mbroadcast_to(scl, avg\u001b[38;5;241m.\u001b[39mshape)\u001b[38;5;241m.\u001b[39mcopy()\n\u001b[1;32m    417\u001b[0m     \u001b[38;5;28;01mreturn\u001b[39;00m avg, scl\n",
      "\u001b[0;31mAttributeError\u001b[0m: 'float' object has no attribute 'shape'"
     ]
    }
   ],
   "source": [
    "correlation = merged_data_clean['weight_minus_baseline'].corr(merged_data_clean['fullness'])\n",
    "print(\"Correlation coefficient:\", correlation)"
   ]
  },
  {
   "cell_type": "code",
   "execution_count": null,
   "metadata": {},
   "outputs": [],
   "source": [
    "import matplotlib.pyplot as plt\n",
    "\n",
    "# Scatter plot of weight vs fullness\n",
    "plt.scatter(merged_data_clean['weight_minus_baseline'], merged_data_clean['fullness'])\n",
    "plt.xlabel('Weight minus baseline')\n",
    "plt.ylabel('Fullness')\n",
    "plt.title('Scatter Plot of Weight minus baseline vs Fullness')\n",
    "plt.show()"
   ]
  },
  {
   "cell_type": "markdown",
   "metadata": {},
   "source": [
    "# 4. Bin weight anomaly detection"
   ]
  },
  {
   "cell_type": "markdown",
   "metadata": {},
   "source": [
    "## 4.1 Data Cleaning"
   ]
  },
  {
   "cell_type": "code",
   "execution_count": null,
   "metadata": {},
   "outputs": [],
   "source": [
    "import numpy as np\n",
    "import pandas as pd\n",
    "import matplotlib.pyplot as plt\n",
    "import seaborn as sns\n",
    "from collections import defaultdict\n",
    "from tqdm import tqdm\n",
    "from copy import deepcopy"
   ]
  },
  {
   "cell_type": "code",
   "execution_count": null,
   "metadata": {},
   "outputs": [],
   "source": [
    "v5 = pd.read_csv(\"/Users/charliechou/Downloads/Spare-it V5 scale records Jan 1 to Oct 16 2023-001.csv\")"
   ]
  },
  {
   "cell_type": "code",
   "execution_count": null,
   "metadata": {},
   "outputs": [],
   "source": [
    "# Drop duplicates\n",
    "v5.drop_duplicates(inplace=True) \n",
    "\n",
    "# Change the type of ‘createdat’ to datetime and create a new column of ‘createdat_ns’\n",
    "v5['createdat_ns'] = pd.to_datetime(v5[\"createdat\"])\n",
    "\n",
    "# Drop the rows where the ‘hide’ value is True\n",
    "v5.drop(v5[v5.hide].index, axis=0, inplace=True)\n",
    "\n",
    "# Drop unnecessary columns\n",
    "v5.drop(['createdat','updatedat','year','month','day','errorcode',\"hide\",\"weightdiff\",\"battery\"], axis=1, inplace=True)\n",
    "\n",
    "# Group by \"bin\" and sort by \"createdat_ns\"\n",
    "v5 = v5.groupby(by='bin').apply(lambda x: x.sort_values([\"createdat_ns\"],ascending= True))\n",
    "\n",
    "# Reset index\n",
    "v5.reset_index(drop=True,inplace=True)\n",
    "\n",
    "# Caculate time interval\n",
    "v5['interval'] = np.nan\n",
    "same_bin = v5.bin == v5.bin.shift(1)\n",
    "v5.interval = v5.createdat_ns[same_bin] - v5.createdat_ns.shift(1)[same_bin]\n",
    "\n",
    "v5.head()"
   ]
  },
  {
   "cell_type": "markdown",
   "metadata": {},
   "source": [
    "## 4.2 Data Exploration"
   ]
  },
  {
   "cell_type": "code",
   "execution_count": null,
   "metadata": {},
   "outputs": [],
   "source": [
    "# Plot the bar chart of the top 10 intervals\n",
    "interval_counts = v5['interval'].value_counts()\n",
    "top_intervals = interval_counts.head(10)\n",
    "\n",
    "plt.figure(figsize=(10, 5))\n",
    "sns.barplot(x=top_intervals.index, y=top_intervals.values)\n",
    "plt.ylabel('Frequency', fontsize=15)\n",
    "plt.xlabel('Interval', fontsize=15)\n",
    "plt.xticks(fontsize=12, rotation=60)\n",
    "plt.yticks(fontsize=12)\n",
    "plt.title(\"Top 10 time intervals\",fontsize=17)\n",
    "plt.show()\n",
    "\n",
    "# 30-minute intervals have the highest number of occurrences"
   ]
  },
  {
   "cell_type": "code",
   "execution_count": null,
   "metadata": {},
   "outputs": [],
   "source": [
    "# Create a dictionary to find the relationship between iotid, bin and the number of records\n",
    "iotid_bin = defaultdict(lambda: defaultdict(int))\n",
    "\n",
    "for j in tqdm(range(len(v5))):\n",
    "    iotid_bin[v5.iotid[j]][v5.bin[j]]+=1\n",
    "    \n",
    "iotid_bin\n",
    "\n",
    "# One scale can be used to weigh different bins and one bin can be weighed by different scales."
   ]
  },
  {
   "cell_type": "code",
   "execution_count": null,
   "metadata": {},
   "outputs": [],
   "source": [
    "# Create a dictionary whose keys are the IDs of scales that weigh multiple bins and whose values are the IDs of the bins\n",
    "iotid_special = {}\n",
    "for k, v in iotid_bin.items():\n",
    "    if len(v)>1:\n",
    "        iotid_special[k]=list(v.keys())\n",
    "\n",
    "len(iotid_special)\n",
    "#There are 172 scales used to weigh more than one bin."
   ]
  },
  {
   "cell_type": "markdown",
   "metadata": {},
   "source": [
    "## 4.3 Moving Average Method"
   ]
  },
  {
   "cell_type": "code",
   "execution_count": null,
   "metadata": {},
   "outputs": [],
   "source": [
    "v5_1 = deepcopy(v5)\n",
    "\n",
    "v5_1.index = v5_1.createdat_ns\n",
    "\n",
    "#Compute moving averages for each bin\n",
    "v5_1['rolling_weight'] = v5_1.groupby('bin')['weight'].transform(lambda x: x.rolling('2h', min_periods=1).mean())\n",
    "v5_1['std_dev'] = v5_1.groupby('bin')['rolling_weight'].transform('std')\n",
    "\n",
    "v5_1.reset_index(drop=True,inplace=True)\n",
    "\n",
    "#Create confidence bands for anomalies using rolling_weight\n",
    "v5_1['upper_bound'] = v5_1['rolling_weight'] + 2 * v5_1['std_dev']\n",
    "v5_1['lower_bound'] = v5_1['rolling_weight'] - 2 * v5_1['std_dev']\n",
    "\n",
    "v5_1['anomaly_flag'] = (v5_1['weight'] > v5_1['upper_bound']) | (v5_1['weight'] < v5_1['lower_bound'])"
   ]
  },
  {
   "cell_type": "code",
   "execution_count": null,
   "metadata": {},
   "outputs": [],
   "source": [
    "#Anomalies plot\n",
    "plt.figure(figsize=(25,8))\n",
    "\n",
    "anomaly_points = v5_1[(v5_1['bin'] == '3d846cc5-fd15-44f5-88ba-5a5eecd24b03') & v5_1['anomaly_flag']]\n",
    "\n",
    "sns.lineplot(data=v5_1[v5_1['bin']=='3d846cc5-fd15-44f5-88ba-5a5eecd24b03'],x='createdat_ns',y='weight')\n",
    "plt.scatter(anomaly_points['createdat_ns'], anomaly_points['weight'], marker='x', color='red', label='Anomaly')\n",
    "plt.title('Detecting anomalies for bin 3d846cc5-fd15-44f5-88ba-5a5eecd24b03')\n",
    "plt.xticks(rotation=90)\n",
    "plt.show()"
   ]
  },
  {
   "cell_type": "markdown",
   "metadata": {},
   "source": [
    "## 4.4 ARIMA Method"
   ]
  },
  {
   "cell_type": "code",
   "execution_count": null,
   "metadata": {},
   "outputs": [],
   "source": [
    "from statsmodels.tsa.stattools import adfuller\n",
    "from statsmodels.graphics.tsaplots import plot_acf, plot_pacf\n",
    "from statsmodels.tsa.arima.model import ARIMA\n",
    "\n",
    "#Check ADF score for specific bins (Apply differencing if bin not stationary)\n",
    "\n",
    "bin1= v5[v5['bin']=='3d846cc5-fd15-44f5-88ba-5a5eecd24b03'].set_index('createdat_ns')\n",
    "\n",
    "test_result = adfuller(bin1['weight'])\n",
    "print(f'ADF  {test_result[0]}')\n",
    "print(f'p-value : {test_result[1]}')"
   ]
  },
  {
   "cell_type": "code",
   "execution_count": null,
   "metadata": {},
   "outputs": [],
   "source": [
    "# Subset data for the specified bin\n",
    "bin_id = '3d846cc5-fd15-44f5-88ba-5a5eecd24b03'\n",
    "\n",
    "subset = v5[v5['bin'] == bin_id]\n",
    "series = subset['weight']\n",
    "\n",
    "# Plot ACF and PACF\n",
    "plt.figure(figsize=(12, 6))\n",
    "plt.subplot(2, 1, 1)\n",
    "plot_acf(series, lags=30, ax=plt.gca(), title='ACF')\n",
    "\n",
    "plt.subplot(2, 1, 2)\n",
    "plot_pacf(series, lags=30, ax=plt.gca(), title='PACF')\n",
    "\n",
    "plt.show()"
   ]
  },
  {
   "cell_type": "code",
   "execution_count": null,
   "metadata": {},
   "outputs": [],
   "source": [
    "# Fit ARIMA model\n",
    "order = (1, 0, 5)  #Adjust order for different bins\n",
    "model = ARIMA(subset['weight'], order=order)\n",
    "fit_model = model.fit()\n",
    "\n",
    "# Get predictions and residuals\n",
    "subset['predicted_weight'] = fit_model.predict(start=subset.index.min(), end=subset.index.max(), dynamic=False)\n",
    "subset['residuals'] = subset['weight'] - subset['predicted_weight']\n",
    "residual_mean = np.mean(subset['residuals'])\n",
    "\n",
    "\n",
    "# Set a threshold for anomaly detection \n",
    "threshold = residual_mean+2.0 * subset['residuals'].std()\n",
    "\n",
    "# Identify anomalies based on residuals\n",
    "subset['anomaly_flag'] = (np.abs(subset['residuals']) > threshold).astype(int)"
   ]
  },
  {
   "cell_type": "code",
   "execution_count": null,
   "metadata": {},
   "outputs": [],
   "source": [
    "#Anomalies plot\n",
    "plt.figure(figsize=(25,8))\n",
    "anomaly_points = subset[(subset['bin'] == '3d846cc5-fd15-44f5-88ba-5a5eecd24b03') & subset['anomaly_flag']]\n",
    "plt.scatter(anomaly_points['createdat_ns'], anomaly_points['weight'], marker='x', color='red', label='Anomaly')\n",
    "sns.lineplot(data=subset,x='createdat_ns',y='weight')"
   ]
  },
  {
   "cell_type": "markdown",
   "metadata": {},
   "source": [
    "## 4.5 PCA Method"
   ]
  },
  {
   "cell_type": "markdown",
   "metadata": {},
   "source": [
    "### 4.5.1 Analysis of Data over a One-Month Time Period"
   ]
  },
  {
   "cell_type": "code",
   "execution_count": null,
   "metadata": {},
   "outputs": [],
   "source": [
    "v5_3 = deepcopy(v5)\n",
    "\n",
    "# Select the records for January 2023\n",
    "v5_jan = v5_3.loc[(v5_3.createdat_ns<'2023-02-01 00:00:00') & (v5_3.createdat_ns>='2023-01-01 00:00:00')]\n",
    "\n",
    "v5_jan.reset_index(drop=True,inplace=True)\n",
    "\n",
    "print(f\"In January 2023, there were {len(v5_jan)} records for {len(v5_jan.bin.unique())} bins.\")"
   ]
  },
  {
   "cell_type": "markdown",
   "metadata": {},
   "source": [
    "To avoid errors caused by filling NaN, we dropped the bins that have few records."
   ]
  },
  {
   "cell_type": "code",
   "execution_count": null,
   "metadata": {},
   "outputs": [],
   "source": [
    "# Get unique bin IDs and their corresponding counts\n",
    "bin_id, count = np.unique(v5_jan.bin, return_counts=True)\n",
    "\n",
    "# Set the threshold for the minimum number of records\n",
    "n = 2000\n",
    "\n",
    "# Identify the bins with less than n records\n",
    "bin_d = bin_id[count<n]\n",
    "bin_d_ind = v5_jan[v5_jan['bin'].isin(bin_d)].index \n",
    "\n",
    "# Drop the bins that have less than n records.\n",
    "v5_jan.drop(bin_d_ind, axis=0, inplace=True)\n",
    "v5_jan.reset_index(drop=True,inplace=True)\n",
    "\n",
    "print(f\"There are {len(bin_d)} bins with less than {n} records.\")\n",
    "print(f\"These {len(bin_d)} bins have a total of {len(bin_d_ind)} records.\")"
   ]
  },
  {
   "cell_type": "markdown",
   "metadata": {},
   "source": [
    "Create a dataframe where the index represents the bin IDs and each column represents a timestamp in January 2023. \n",
    "The values in the dataframe represent the bin weights at each time point. \n",
    "If no record is available for a bin at a specific time, the corresponding cell will have NaN as the value."
   ]
  },
  {
   "cell_type": "code",
   "execution_count": null,
   "metadata": {},
   "outputs": [],
   "source": [
    "# Get unique time and bin values\n",
    "bin = v5_jan.bin.unique()\n",
    "time = sorted(set(v5_jan['createdat_ns']))\n",
    "\n",
    "# Create a defaultdict to store bin weights for each time point\n",
    "bin_time = defaultdict(lambda: defaultdict(list))\n",
    "\n",
    "# Initialize bin_time dictionary with NaN values\n",
    "for i in bin:\n",
    "    for j in time:\n",
    "        bin_time[i][j] = float('nan')\n",
    "\n",
    "# Fill in bin weights\n",
    "for i in range(len(v5_jan)):\n",
    "    bin_time[v5_jan.bin[i]][v5_jan.createdat_ns[i]] = v5_jan.weight[i]\n",
    "\n",
    "# Convert the bin_time dictionary to a DataFrame, with bin IDs as the index\n",
    "df = pd.DataFrame.from_dict(bin_time, orient='index')\n",
    "\n",
    "df.head()"
   ]
  },
  {
   "cell_type": "code",
   "execution_count": null,
   "metadata": {},
   "outputs": [],
   "source": [
    "# Fill the NaN values\n",
    "df_fill = df.interpolate(method='linear',axis=1)\n",
    "df_fill = df_fill.fillna(method='bfill',axis=1)\n",
    "df_fill.head()"
   ]
  },
  {
   "cell_type": "code",
   "execution_count": null,
   "metadata": {},
   "outputs": [],
   "source": [
    "# Convert dataframe to numpy array\n",
    "df_fill_v = df_fill.values\n",
    "\n",
    "# Calculate norm of each bin\n",
    "norm = np.linalg.norm(df_fill_v, axis=1, ord=1)\n",
    "\n",
    "# Perform SVD\n",
    "u,s,vt = np.linalg.svd(df_fill_v ,full_matrices=False)\n",
    "\n",
    "# Plot the normalized singular values\n",
    "plt.plot(range(1, 31), s[0:30]/np.linalg.norm(df_fill_v))\n"
   ]
  },
  {
   "cell_type": "code",
   "execution_count": null,
   "metadata": {},
   "outputs": [],
   "source": [
    "# choose the top 10 columns of U for the normal space\n",
    "unorm = u[:,0:9]\n",
    "P = unorm.dot(unorm.T)\n",
    "N = P.dot(df_fill)\n",
    "O = df_fill - N\n",
    "Onorm = np.linalg.norm(O,axis=1)\n",
    "# get top 30 anomalies\n",
    "anomSet = np.argsort(Onorm)[-30:]\n",
    "plt.plot(norm)\n",
    "plt.plot(anomSet,norm[anomSet],'ro')"
   ]
  },
  {
   "cell_type": "code",
   "execution_count": null,
   "metadata": {},
   "outputs": [],
   "source": [
    "#sample anomalous\n",
    "plt.figure(figsize=(9,6))\n",
    "for i in range(1,10):\n",
    "    ax = plt.subplot(3,3,i)\n",
    "    plt.plot(df_fill_v[anomSet[i-1],:])\n",
    "    plt.xlabel('createdat_ns')\n",
    "plt.subplots_adjust(wspace=0.25,hspace=0.45)\n",
    "plt.suptitle('Nine Example Anomalous Bins',size=20)"
   ]
  },
  {
   "cell_type": "code",
   "execution_count": null,
   "metadata": {},
   "outputs": [],
   "source": [
    "# choose non-anomalous bins\n",
    "set = np.argsort(Onorm)[0:70]\n",
    "# that have high overall volume\n",
    "max = np.argsort(norm[set])[::-1]\n",
    "plt.figure(figsize=(9,6))\n",
    "for i in range(1,10):\n",
    "    ax = plt.subplot(3,3,i)\n",
    "    plt.plot(df_fill_v[set[max[i-1]],:])\n",
    "    plt.xlabel('createdat_ns')\n",
    "plt.subplots_adjust(wspace=0.25,hspace=0.45)\n",
    "plt.suptitle('Nine Example Normal Bins',size=20)"
   ]
  },
  {
   "cell_type": "markdown",
   "metadata": {},
   "source": [
    "### 4.5.2 Analysis of Data over a One-Week Time Period"
   ]
  },
  {
   "cell_type": "code",
   "execution_count": null,
   "metadata": {},
   "outputs": [],
   "source": [
    "v5_4 = deepcopy(v5)\n",
    "\n",
    "# Select the records for January 2023\n",
    "v5_week = v5_4.loc[(v5_4.createdat_ns<'2023-01-08 00:00:00') & (v5_4.createdat_ns>='2023-01-01 00:00:00')]\n",
    "\n",
    "v5_week.reset_index(drop=True,inplace=True)\n",
    "\n",
    "print(f\"In the first week of January 2023, there were {len(v5_week)} records for {len(v5_week.bin.unique())} bins.\")"
   ]
  },
  {
   "cell_type": "markdown",
   "metadata": {},
   "source": [
    "To avoid errors caused by filling NaN, we dropped the bins that have few records."
   ]
  },
  {
   "cell_type": "code",
   "execution_count": null,
   "metadata": {},
   "outputs": [],
   "source": [
    "# Get unique bin IDs and their corresponding counts\n",
    "bin_id, count = np.unique(v5_week.bin, return_counts=True)\n",
    "\n",
    "# Set the threshold for the minimum number of records\n",
    "n = 300\n",
    "\n",
    "# Identify the bins with less than n records\n",
    "bin_d = bin_id[count<n]\n",
    "bin_d_ind = v5_week[v5_week['bin'].isin(bin_d)].index \n",
    "\n",
    "# Drop the bins that have less than n records.\n",
    "v5_week.drop(bin_d_ind, axis=0, inplace=True)\n",
    "v5_week.reset_index(drop=True,inplace=True)\n",
    "\n",
    "print(f\"There are {len(bin_d)} bins with less than {n} records.\")\n",
    "print(f\"These {len(bin_d)} bins have a total of {len(bin_d_ind)} records.\")"
   ]
  },
  {
   "cell_type": "markdown",
   "metadata": {},
   "source": [
    "Create a dataframe where the index represents the bin IDs and each column represents a timestamp in January 2023. \n",
    "The values in the dataframe represent the bin weights at each time point. \n",
    "If no record is available for a bin at a specific time, the corresponding cell will have NaN as the value."
   ]
  },
  {
   "cell_type": "code",
   "execution_count": null,
   "metadata": {},
   "outputs": [],
   "source": [
    "# Get unique time and bin values\n",
    "bin = v5_week.bin.unique()\n",
    "time = sorted(set(v5_week['createdat_ns']))\n",
    "\n",
    "# Create a defaultdict to store bin weights for each time point\n",
    "bin_time = defaultdict(lambda: defaultdict(list))\n",
    "\n",
    "# Initialize bin_time dictionary with NaN values\n",
    "for i in bin:\n",
    "    for j in time:\n",
    "        bin_time[i][j] = float('nan')\n",
    "\n",
    "# Fill in bin weights\n",
    "for i in range(len(v5_week)):\n",
    "    bin_time[v5_week.bin[i]][v5_week.createdat_ns[i]] = v5_week.weight[i]\n",
    "\n",
    "# Convert the bin_time dictionary to a DataFrame, with bin IDs as the index\n",
    "df = pd.DataFrame.from_dict(bin_time, orient='index')\n",
    "\n",
    "df.head()"
   ]
  },
  {
   "cell_type": "code",
   "execution_count": null,
   "metadata": {},
   "outputs": [],
   "source": [
    "# Fill the NaN values\n",
    "df_fill = df.interpolate(method='linear',axis=1)\n",
    "df_fill = df_fill.fillna(method='bfill',axis=1)\n",
    "df_fill.head()"
   ]
  },
  {
   "cell_type": "code",
   "execution_count": null,
   "metadata": {},
   "outputs": [],
   "source": [
    "# Convert dataframe to numpy array\n",
    "df_fill_v = df_fill.values\n",
    "\n",
    "# Calculate norm of each bin\n",
    "norm = np.linalg.norm(df_fill_v, axis=1, ord=1)\n",
    "\n",
    "# Perform SVD\n",
    "u,s,vt = np.linalg.svd(df_fill_v ,full_matrices=False)\n",
    "\n",
    "# Plot the normalized singular values\n",
    "plt.plot(range(1,11),s[:10]/np.linalg.norm(df_fill_v ))\n"
   ]
  },
  {
   "cell_type": "code",
   "execution_count": null,
   "metadata": {},
   "outputs": [],
   "source": [
    "# choose the top 4 columns of U for the normal space\n",
    "unorm = u[:,0:3]\n",
    "P = unorm.dot(unorm.T)\n",
    "N = P.dot(df_fill)\n",
    "O = df_fill - N\n",
    "Onorm = np.linalg.norm(O,axis=1)\n",
    "# get top 30 anomalies\n",
    "anomSet = np.argsort(Onorm)[-30:]\n",
    "plt.plot(norm)\n",
    "plt.plot(anomSet,norm[anomSet],'ro')"
   ]
  },
  {
   "cell_type": "code",
   "execution_count": null,
   "metadata": {},
   "outputs": [],
   "source": [
    "#sample anomalous\n",
    "plt.figure(figsize=(9,6))\n",
    "for i in range(1,10):\n",
    "    ax = plt.subplot(3,3,i)\n",
    "    plt.plot(df_fill_v[anomSet[i-1],:])\n",
    "    plt.xlabel('createdat_ns')\n",
    "plt.subplots_adjust(wspace=0.25,hspace=0.45)\n",
    "plt.suptitle('Nine Example Anomalous Bins',size=20)"
   ]
  },
  {
   "cell_type": "code",
   "execution_count": null,
   "metadata": {},
   "outputs": [],
   "source": [
    "# choose non-anomalous bins\n",
    "set = np.argsort(Onorm)[0:80]\n",
    "# that have high overall volume\n",
    "max = np.argsort(norm[set])[::-1]\n",
    "plt.figure(figsize=(9,6))\n",
    "for i in range(1,10):\n",
    "    ax = plt.subplot(3,3,i)\n",
    "    plt.plot(df_fill_v[set[max[i-1]],:])\n",
    "    plt.xlabel('createdat_ns')\n",
    "plt.subplots_adjust(wspace=0.25,hspace=0.45)\n",
    "plt.suptitle('Nine Example Normal Bins',size=20)"
   ]
  },
  {
   "cell_type": "markdown",
   "metadata": {},
   "source": [
    "# 5. Limitations and Potential Risks"
   ]
  },
  {
   "cell_type": "markdown",
   "metadata": {},
   "source": [
    "**Task 1: Comparative Analysis of Manual Versus Scale Weight Measurements**\n",
    "\n",
    "1. **Accuracy of Manual Measurements for fullness measures:** Manual measurements can be highly subjective and prone to human error. Factors like the skill level of the students, their understanding of the measurement process, and physical variations in measuring can introduce significant inaccuracies. This can lead to unreliable data, affecting the overall analysis of waste management effectiveness.\n",
    "\n",
    "2. **Consistency Across Different Individuals:** Different individuals may have varying perceptions of weight, leading to inconsistencies in manual measurements. Inconsistencies can skew data, making it difficult to establish a reliable baseline for comparison with scale measurements.\n",
    "\n",
    "3. **Scale Calibration and Maintenance:** Scales require regular calibration and maintenance to ensure accurate readings. Any neglect in this aspect can result in faulty data. Inaccurate scale readings could lead to incorrect conclusions about the effectiveness of waste management strategies."
   ]
  },
  {
   "cell_type": "markdown",
   "metadata": {},
   "source": [
    "**Task 2: Noise and Signal Ratio Analysis for Scales**\n",
    "\n",
    "1. **Technical Challenges in Signal Processing:** Analyzing noise levels in weight measurements requires sophisticated signal processing techniques, which can be technically challenging.Inadequate analysis might result in overlooking subtle noise characteristics, affecting the accuracy of the findings.\n",
    "\n",
    "2. **Scale Variation:** Variations in scale models, manufacturing standards, and age can lead to differences in measurement accuracy. This variability could complicate the analysis, making it hard to generalize findings across all scales.\n",
    "\n",
    "3. **Impact of Environmental Vibrations:** External environmental factors, such as vibrations,  or electrical interference, can affect scale readings. Failing to account for these factors can lead to misinterpretation of the noise levels as intrinsic to the scales themselves.\n",
    "\n",
    "4. **Physical Interactions with Scales:** Accidental physical interactions, such as students inadvertently stepping on scales, can lead to sudden spikes or anomalies in the data. These instances can significantly skew the average measurements and introduce outliers\n"
   ]
  },
  {
   "cell_type": "markdown",
   "metadata": {},
   "source": [
    "**In conclusion, while both tasks offer valuable insights into waste management practices, it's crucial to be aware of these limitations and risks to ensure accurate, reliable, and ethical use of the data.**"
   ]
  },
  {
   "cell_type": "markdown",
   "metadata": {},
   "source": []
  }
 ],
 "metadata": {
  "kernelspec": {
   "display_name": "Python 3 (ipykernel)",
   "language": "python",
   "name": "python3"
  },
  "language_info": {
   "codemirror_mode": {
    "name": "ipython",
    "version": 3
   },
   "file_extension": ".py",
   "mimetype": "text/x-python",
   "name": "python",
   "nbconvert_exporter": "python",
   "pygments_lexer": "ipython3",
   "version": "3.9.12"
  }
 },
 "nbformat": 4,
 "nbformat_minor": 2
}
