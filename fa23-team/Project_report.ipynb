{
 "cells": [
  {
   "cell_type": "markdown",
   "metadata": {},
   "source": [
    "# Spare-it DS701 Project"
   ]
  },
  {
   "cell_type": "code",
   "execution_count": 3,
   "metadata": {},
   "outputs": [],
   "source": [
    "import pandas as pd\n",
    "import matplotlib.pyplot as plt\n",
    "import seaborn as sns"
   ]
  },
  {
   "cell_type": "markdown",
   "metadata": {},
   "source": [
    "# 1. Client Overview and Problem Statement"
   ]
  },
  {
   "cell_type": "markdown",
   "metadata": {},
   "source": [
    "## 1.1 About Spare-it\n",
    "\n",
    "\n",
    "> **Spare-it: Pioneering Sustainable Waste Management with Cutting-Edge Technology**\n",
    "- Spare-it is a leading sustainable waste management company, harnessing technology and environmental stewardship to help businesses, universities, and office owners reduce their environmental impact, save costs, and enhance efficiency. Its core strategy involves a robust technological framework, combining advanced hardware and software, strategic office design, and gamification to develop comprehensive waste management programs. These initiatives not only boost recycling but also aim to significantly cut waste production.\n",
    "- The company’s mission centers on being a sustainability catalyst, driven by the belief that environmental awareness and behavior change require solid data intelligence. Spare-it provides real-time data on various waste management aspects, including general waste, recycling, and resource utilization like energy and water. This approach empowers organizations to make informed decisions and adopt effective waste reduction strategies.\n",
    "- Spare-it's innovative approach, particularly through gamification, fosters a culture of environmental responsibility among employees and students, making waste management an engaging and meaningful endeavor. Ultimately, Spare-it positions itself as more than a waste management company; it's a collaborative partner in shaping a sustainable future, one step at a time."
   ]
  },
  {
   "cell_type": "markdown",
   "metadata": {},
   "source": [
    "## 1.2 Problem Statement"
   ]
  },
  {
   "cell_type": "markdown",
   "metadata": {},
   "source": [
    "### **Task 1 :** Comparative Analysis of Manual (Fullness) Versus Scale Weight Measurements\n",
    "\n",
    "> **Overview:** This detailed comparative analysis aims to meticulously examine the differences between manual weight measurements conducted by students and the measurements obtained from scales, as recorded in our dataset. The objective is to identify and analyze any notable discrepancies between these two methods. Additionally, this analysis will explore the potential causes of these variances, providing insights into the reliability and accuracy of manual versus scale measurements. This investigation is crucial for understanding the effectiveness of manual weight estimation techniques and the precision of scale measurements, ultimately contributing to the enhancement of data collection methods in weight measurement studies."
   ]
  },
  {
   "cell_type": "markdown",
   "metadata": {},
   "source": [
    "### **Task 2:** Noise and Signal Ratio Analysis for Scales"
   ]
  },
  {
   "cell_type": "markdown",
   "metadata": {},
   "source": []
  },
  {
   "cell_type": "markdown",
   "metadata": {},
   "source": [
    "# 2. EDA"
   ]
  },
  {
   "cell_type": "markdown",
   "metadata": {},
   "source": [
    "## 2.1 Data Overview\n",
    "\n",
    "> We have two datasets:\n",
    "- scale_records: This dataset comprises automated scale measurements of waste bins. It includes the weight data along with error codes and other metadata\n",
    "- fullness_assessments: This dataset represents manual assessments of waste bin fullness. Each record includes details about the bin, its location, and the assessment specifics"
   ]
  },
  {
   "cell_type": "code",
   "execution_count": 4,
   "metadata": {},
   "outputs": [],
   "source": [
    "fullness_assessments = pd.read_csv(\"/Users/ishan/Downloads/fullness-assessments CCDS as of Oct 13 2023.csv\")\n",
    "scale_records = pd.read_csv(\"/Users/ishan/Downloads/Spare-it V5 scale records Jan 1 to Oct 16 2023-001.csv\")"
   ]
  },
  {
   "cell_type": "markdown",
   "metadata": {},
   "source": [
    "## 2.2 Data Cleaning"
   ]
  },
  {
   "cell_type": "markdown",
   "metadata": {},
   "source": [
    "### 2.2.1 Missing Values"
   ]
  },
  {
   "cell_type": "code",
   "execution_count": 5,
   "metadata": {},
   "outputs": [
    {
     "name": "stdout",
     "output_type": "stream",
     "text": [
      "bin            0\n",
      "date           0\n",
      "account        0\n",
      "building       0\n",
      "floor          0\n",
      "stationName    0\n",
      "binName        0\n",
      "category       0\n",
      "fullness       0\n",
      "dtype: int64\n",
      "createdat            0\n",
      "iotid                0\n",
      "hide                 0\n",
      "bin                  0\n",
      "errorcode            0\n",
      "weight               0\n",
      "battery              0\n",
      "updatedat            0\n",
      "weightdiff    26979124\n",
      "year                 0\n",
      "month                0\n",
      "day                  0\n",
      "dtype: int64\n"
     ]
    }
   ],
   "source": [
    "print(fullness_assessments.isna().sum())\n",
    "print(scale_records.isna().sum())"
   ]
  },
  {
   "cell_type": "markdown",
   "metadata": {},
   "source": [
    "### 2.2.2 Duplicate records"
   ]
  },
  {
   "cell_type": "code",
   "execution_count": 7,
   "metadata": {},
   "outputs": [
    {
     "data": {
      "text/plain": [
       "(11684870, 12)"
      ]
     },
     "execution_count": 7,
     "metadata": {},
     "output_type": "execute_result"
    }
   ],
   "source": [
    "duplicates = scale_records[scale_records.duplicated()]\n",
    "duplicates.shape # 11.6M Duplicates"
   ]
  },
  {
   "cell_type": "code",
   "execution_count": 8,
   "metadata": {},
   "outputs": [],
   "source": [
    "scale_records_clean = scale_records.drop_duplicates()"
   ]
  },
  {
   "cell_type": "markdown",
   "metadata": {},
   "source": [
    "# 3. Comparative analysis of manual fullness and scale weight measurements"
   ]
  },
  {
   "cell_type": "markdown",
   "metadata": {},
   "source": []
  },
  {
   "cell_type": "markdown",
   "metadata": {},
   "source": [
    "## 4. Bin weight anomaly detection"
   ]
  },
  {
   "cell_type": "markdown",
   "metadata": {},
   "source": [
    "# 5. Limitations and potential risks"
   ]
  },
  {
   "cell_type": "markdown",
   "metadata": {},
   "source": []
  }
 ],
 "metadata": {
  "kernelspec": {
   "display_name": "venv-ds701",
   "language": "python",
   "name": "python3"
  },
  "language_info": {
   "codemirror_mode": {
    "name": "ipython",
    "version": 3
   },
   "file_extension": ".py",
   "mimetype": "text/x-python",
   "name": "python",
   "nbconvert_exporter": "python",
   "pygments_lexer": "ipython3",
   "version": "3.11.2"
  },
  "orig_nbformat": 4
 },
 "nbformat": 4,
 "nbformat_minor": 2
}
