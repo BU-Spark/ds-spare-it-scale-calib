{
 "cells": [
  {
   "cell_type": "code",
   "execution_count": 46,
   "metadata": {},
   "outputs": [],
   "source": [
    "import numpy as np\n",
    "import pandas as pd\n",
    "import matplotlib.pyplot as plt\n",
    "import csv\n",
    "from datetime import datetime"
   ]
  },
  {
   "cell_type": "code",
   "execution_count": 47,
   "metadata": {},
   "outputs": [],
   "source": [
    "v5 = pd.read_csv(\"Spare-it V5 scale records Jan 1 to Oct 16 2023-001.csv\")\n",
    "cds = pd.read_excel(\"fullness-assessments CCDS as of Oct 13 2023.xlsx\")"
   ]
  },
  {
   "cell_type": "markdown",
   "metadata": {},
   "source": [
    "# Spare-it V5 scale records"
   ]
  },
  {
   "cell_type": "markdown",
   "metadata": {},
   "source": [
    "## Data exploration"
   ]
  },
  {
   "cell_type": "code",
   "execution_count": 48,
   "metadata": {},
   "outputs": [
    {
     "data": {
      "text/html": [
       "<div>\n",
       "<style scoped>\n",
       "    .dataframe tbody tr th:only-of-type {\n",
       "        vertical-align: middle;\n",
       "    }\n",
       "\n",
       "    .dataframe tbody tr th {\n",
       "        vertical-align: top;\n",
       "    }\n",
       "\n",
       "    .dataframe thead th {\n",
       "        text-align: right;\n",
       "    }\n",
       "</style>\n",
       "<table border=\"1\" class=\"dataframe\">\n",
       "  <thead>\n",
       "    <tr style=\"text-align: right;\">\n",
       "      <th></th>\n",
       "      <th>createdat</th>\n",
       "      <th>iotid</th>\n",
       "      <th>hide</th>\n",
       "      <th>bin</th>\n",
       "      <th>errorcode</th>\n",
       "      <th>weight</th>\n",
       "      <th>battery</th>\n",
       "      <th>updatedat</th>\n",
       "      <th>weightdiff</th>\n",
       "      <th>year</th>\n",
       "      <th>month</th>\n",
       "      <th>day</th>\n",
       "    </tr>\n",
       "  </thead>\n",
       "  <tbody>\n",
       "    <tr>\n",
       "      <th>0</th>\n",
       "      <td>2023-01-02 12:41:00.000</td>\n",
       "      <td>lora-000060</td>\n",
       "      <td>False</td>\n",
       "      <td>95171614-b019-4eb9-b726-0af6674a9451</td>\n",
       "      <td>NO_ERROR</td>\n",
       "      <td>14100.862135</td>\n",
       "      <td>2596.017395</td>\n",
       "      <td>2023-01-02 12:41:00.000</td>\n",
       "      <td>NaN</td>\n",
       "      <td>2023</td>\n",
       "      <td>1</td>\n",
       "      <td>2</td>\n",
       "    </tr>\n",
       "    <tr>\n",
       "      <th>1</th>\n",
       "      <td>2023-01-02 13:02:00.000</td>\n",
       "      <td>lora-000060</td>\n",
       "      <td>False</td>\n",
       "      <td>95171614-b019-4eb9-b726-0af6674a9451</td>\n",
       "      <td>NO_ERROR</td>\n",
       "      <td>14100.862135</td>\n",
       "      <td>2595.101854</td>\n",
       "      <td>2023-01-02 13:02:00.000</td>\n",
       "      <td>NaN</td>\n",
       "      <td>2023</td>\n",
       "      <td>1</td>\n",
       "      <td>2</td>\n",
       "    </tr>\n",
       "    <tr>\n",
       "      <th>2</th>\n",
       "      <td>2023-01-02 13:53:00.000</td>\n",
       "      <td>lora-000060</td>\n",
       "      <td>False</td>\n",
       "      <td>95171614-b019-4eb9-b726-0af6674a9451</td>\n",
       "      <td>NO_ERROR</td>\n",
       "      <td>14100.862135</td>\n",
       "      <td>2596.169986</td>\n",
       "      <td>2023-01-02 13:53:00.000</td>\n",
       "      <td>NaN</td>\n",
       "      <td>2023</td>\n",
       "      <td>1</td>\n",
       "      <td>2</td>\n",
       "    </tr>\n",
       "    <tr>\n",
       "      <th>3</th>\n",
       "      <td>2023-01-02 16:30:00.000</td>\n",
       "      <td>lora-000060</td>\n",
       "      <td>False</td>\n",
       "      <td>95171614-b019-4eb9-b726-0af6674a9451</td>\n",
       "      <td>NO_ERROR</td>\n",
       "      <td>14100.862135</td>\n",
       "      <td>2595.559625</td>\n",
       "      <td>2023-01-02 16:30:00.000</td>\n",
       "      <td>NaN</td>\n",
       "      <td>2023</td>\n",
       "      <td>1</td>\n",
       "      <td>2</td>\n",
       "    </tr>\n",
       "    <tr>\n",
       "      <th>4</th>\n",
       "      <td>2023-01-02 16:39:00.000</td>\n",
       "      <td>lora-000060</td>\n",
       "      <td>False</td>\n",
       "      <td>95171614-b019-4eb9-b726-0af6674a9451</td>\n",
       "      <td>NO_ERROR</td>\n",
       "      <td>14100.862135</td>\n",
       "      <td>2594.186313</td>\n",
       "      <td>2023-01-02 16:39:00.000</td>\n",
       "      <td>NaN</td>\n",
       "      <td>2023</td>\n",
       "      <td>1</td>\n",
       "      <td>2</td>\n",
       "    </tr>\n",
       "  </tbody>\n",
       "</table>\n",
       "</div>"
      ],
      "text/plain": [
       "                 createdat        iotid   hide  \\\n",
       "0  2023-01-02 12:41:00.000  lora-000060  False   \n",
       "1  2023-01-02 13:02:00.000  lora-000060  False   \n",
       "2  2023-01-02 13:53:00.000  lora-000060  False   \n",
       "3  2023-01-02 16:30:00.000  lora-000060  False   \n",
       "4  2023-01-02 16:39:00.000  lora-000060  False   \n",
       "\n",
       "                                    bin errorcode        weight      battery  \\\n",
       "0  95171614-b019-4eb9-b726-0af6674a9451  NO_ERROR  14100.862135  2596.017395   \n",
       "1  95171614-b019-4eb9-b726-0af6674a9451  NO_ERROR  14100.862135  2595.101854   \n",
       "2  95171614-b019-4eb9-b726-0af6674a9451  NO_ERROR  14100.862135  2596.169986   \n",
       "3  95171614-b019-4eb9-b726-0af6674a9451  NO_ERROR  14100.862135  2595.559625   \n",
       "4  95171614-b019-4eb9-b726-0af6674a9451  NO_ERROR  14100.862135  2594.186313   \n",
       "\n",
       "                 updatedat  weightdiff  year  month  day  \n",
       "0  2023-01-02 12:41:00.000         NaN  2023      1    2  \n",
       "1  2023-01-02 13:02:00.000         NaN  2023      1    2  \n",
       "2  2023-01-02 13:53:00.000         NaN  2023      1    2  \n",
       "3  2023-01-02 16:30:00.000         NaN  2023      1    2  \n",
       "4  2023-01-02 16:39:00.000         NaN  2023      1    2  "
      ]
     },
     "execution_count": 48,
     "metadata": {},
     "output_type": "execute_result"
    }
   ],
   "source": [
    "v5.head()"
   ]
  },
  {
   "cell_type": "code",
   "execution_count": 49,
   "metadata": {},
   "outputs": [
    {
     "data": {
      "text/plain": [
       "(26979124, 12)"
      ]
     },
     "execution_count": 49,
     "metadata": {},
     "output_type": "execute_result"
    }
   ],
   "source": [
    "v5.shape"
   ]
  },
  {
   "cell_type": "code",
   "execution_count": 50,
   "metadata": {},
   "outputs": [
    {
     "name": "stdout",
     "output_type": "stream",
     "text": [
      "<class 'pandas.core.frame.DataFrame'>\n",
      "RangeIndex: 26979124 entries, 0 to 26979123\n",
      "Data columns (total 12 columns):\n",
      " #   Column      Dtype  \n",
      "---  ------      -----  \n",
      " 0   createdat   object \n",
      " 1   iotid       object \n",
      " 2   hide        bool   \n",
      " 3   bin         object \n",
      " 4   errorcode   object \n",
      " 5   weight      float64\n",
      " 6   battery     float64\n",
      " 7   updatedat   object \n",
      " 8   weightdiff  float64\n",
      " 9   year        int64  \n",
      " 10  month       int64  \n",
      " 11  day         int64  \n",
      "dtypes: bool(1), float64(3), int64(3), object(5)\n",
      "memory usage: 2.2+ GB\n"
     ]
    }
   ],
   "source": [
    "v5.info()"
   ]
  },
  {
   "cell_type": "code",
   "execution_count": 51,
   "metadata": {},
   "outputs": [
    {
     "data": {
      "text/plain": [
       "createdat            0\n",
       "iotid                0\n",
       "hide                 0\n",
       "bin                  0\n",
       "errorcode            0\n",
       "weight               0\n",
       "battery              0\n",
       "updatedat            0\n",
       "weightdiff    26979124\n",
       "year                 0\n",
       "month                0\n",
       "day                  0\n",
       "dtype: int64"
      ]
     },
     "execution_count": 51,
     "metadata": {},
     "output_type": "execute_result"
    }
   ],
   "source": [
    "v5.isna().sum()"
   ]
  },
  {
   "cell_type": "code",
   "execution_count": 52,
   "metadata": {},
   "outputs": [
    {
     "data": {
      "text/html": [
       "<div>\n",
       "<style scoped>\n",
       "    .dataframe tbody tr th:only-of-type {\n",
       "        vertical-align: middle;\n",
       "    }\n",
       "\n",
       "    .dataframe tbody tr th {\n",
       "        vertical-align: top;\n",
       "    }\n",
       "\n",
       "    .dataframe thead th {\n",
       "        text-align: right;\n",
       "    }\n",
       "</style>\n",
       "<table border=\"1\" class=\"dataframe\">\n",
       "  <thead>\n",
       "    <tr style=\"text-align: right;\">\n",
       "      <th></th>\n",
       "      <th>weight</th>\n",
       "      <th>battery</th>\n",
       "      <th>weightdiff</th>\n",
       "      <th>year</th>\n",
       "      <th>month</th>\n",
       "      <th>day</th>\n",
       "    </tr>\n",
       "  </thead>\n",
       "  <tbody>\n",
       "    <tr>\n",
       "      <th>count</th>\n",
       "      <td>2.697912e+07</td>\n",
       "      <td>2.697912e+07</td>\n",
       "      <td>0.0</td>\n",
       "      <td>26979124.0</td>\n",
       "      <td>2.697912e+07</td>\n",
       "      <td>2.697912e+07</td>\n",
       "    </tr>\n",
       "    <tr>\n",
       "      <th>mean</th>\n",
       "      <td>3.965010e+03</td>\n",
       "      <td>2.891115e+03</td>\n",
       "      <td>NaN</td>\n",
       "      <td>2023.0</td>\n",
       "      <td>5.119058e+00</td>\n",
       "      <td>1.541971e+01</td>\n",
       "    </tr>\n",
       "    <tr>\n",
       "      <th>std</th>\n",
       "      <td>7.578254e+03</td>\n",
       "      <td>1.583904e+02</td>\n",
       "      <td>NaN</td>\n",
       "      <td>0.0</td>\n",
       "      <td>2.526648e+00</td>\n",
       "      <td>8.707518e+00</td>\n",
       "    </tr>\n",
       "    <tr>\n",
       "      <th>min</th>\n",
       "      <td>-1.000000e+05</td>\n",
       "      <td>1.334859e+03</td>\n",
       "      <td>NaN</td>\n",
       "      <td>2023.0</td>\n",
       "      <td>1.000000e+00</td>\n",
       "      <td>1.000000e+00</td>\n",
       "    </tr>\n",
       "    <tr>\n",
       "      <th>25%</th>\n",
       "      <td>7.644770e+02</td>\n",
       "      <td>2.860304e+03</td>\n",
       "      <td>NaN</td>\n",
       "      <td>2023.0</td>\n",
       "      <td>3.000000e+00</td>\n",
       "      <td>8.000000e+00</td>\n",
       "    </tr>\n",
       "    <tr>\n",
       "      <th>50%</th>\n",
       "      <td>2.128634e+03</td>\n",
       "      <td>2.917983e+03</td>\n",
       "      <td>NaN</td>\n",
       "      <td>2023.0</td>\n",
       "      <td>5.000000e+00</td>\n",
       "      <td>1.500000e+01</td>\n",
       "    </tr>\n",
       "    <tr>\n",
       "      <th>75%</th>\n",
       "      <td>4.618906e+03</td>\n",
       "      <td>2.974899e+03</td>\n",
       "      <td>NaN</td>\n",
       "      <td>2023.0</td>\n",
       "      <td>7.000000e+00</td>\n",
       "      <td>2.300000e+01</td>\n",
       "    </tr>\n",
       "    <tr>\n",
       "      <th>max</th>\n",
       "      <td>1.000000e+05</td>\n",
       "      <td>3.251240e+03</td>\n",
       "      <td>NaN</td>\n",
       "      <td>2023.0</td>\n",
       "      <td>1.000000e+01</td>\n",
       "      <td>3.100000e+01</td>\n",
       "    </tr>\n",
       "  </tbody>\n",
       "</table>\n",
       "</div>"
      ],
      "text/plain": [
       "             weight       battery  weightdiff        year         month  \\\n",
       "count  2.697912e+07  2.697912e+07         0.0  26979124.0  2.697912e+07   \n",
       "mean   3.965010e+03  2.891115e+03         NaN      2023.0  5.119058e+00   \n",
       "std    7.578254e+03  1.583904e+02         NaN         0.0  2.526648e+00   \n",
       "min   -1.000000e+05  1.334859e+03         NaN      2023.0  1.000000e+00   \n",
       "25%    7.644770e+02  2.860304e+03         NaN      2023.0  3.000000e+00   \n",
       "50%    2.128634e+03  2.917983e+03         NaN      2023.0  5.000000e+00   \n",
       "75%    4.618906e+03  2.974899e+03         NaN      2023.0  7.000000e+00   \n",
       "max    1.000000e+05  3.251240e+03         NaN      2023.0  1.000000e+01   \n",
       "\n",
       "                day  \n",
       "count  2.697912e+07  \n",
       "mean   1.541971e+01  \n",
       "std    8.707518e+00  \n",
       "min    1.000000e+00  \n",
       "25%    8.000000e+00  \n",
       "50%    1.500000e+01  \n",
       "75%    2.300000e+01  \n",
       "max    3.100000e+01  "
      ]
     },
     "execution_count": 52,
     "metadata": {},
     "output_type": "execute_result"
    }
   ],
   "source": [
    "v5.describe()"
   ]
  },
  {
   "cell_type": "code",
   "execution_count": 53,
   "metadata": {},
   "outputs": [
    {
     "data": {
      "text/plain": [
       "array([24, 24, 14, 20, 18], dtype=int64)"
      ]
     },
     "execution_count": 53,
     "metadata": {},
     "output_type": "execute_result"
    }
   ],
   "source": [
    "createdat_count = np.unique(v5.createdat, return_counts=True)\n",
    "createdat_count[1][:5]\n",
    "# Each record has a different number of creation timestamps"
   ]
  },
  {
   "cell_type": "code",
   "execution_count": 54,
   "metadata": {},
   "outputs": [
    {
     "data": {
      "text/plain": [
       "cc839327-7806-49cb-8fa6-19391570065a        20\n",
       "fc67ba54-64df-47ac-bd15-019414ba2483       101\n",
       "1595ad8a-7fbe-487f-88e1-f25001a0becd       102\n",
       "578aa921-5dfb-4a95-a97e-a96b88b0ad4b       192\n",
       "a68ab306-a1c9-467d-a1dd-f080e675b45c       231\n",
       "                                         ...  \n",
       "d76953e9-3f48-4900-8c12-1b85a777360f    271038\n",
       "8c9ae9cf-89ba-4dc4-95a6-cacba215b27a    274660\n",
       "e89c0fc0-e814-4bb7-884a-b8cc1345a4ce    377254\n",
       "95171614-b019-4eb9-b726-0af6674a9451    445484\n",
       "09b1ece7-5aaa-4c66-a89a-ac6a99bae6ed    468728\n",
       "Name: bin, Length: 1188, dtype: int64"
      ]
     },
     "execution_count": 54,
     "metadata": {},
     "output_type": "execute_result"
    }
   ],
   "source": [
    "v5.bin.value_counts().sort_values(ascending=True)"
   ]
  },
  {
   "cell_type": "code",
   "execution_count": 55,
   "metadata": {},
   "outputs": [
    {
     "data": {
      "text/plain": [
       "iotid        bin                                 \n",
       "lora-000014  65fdffd5-af50-4157-adfa-582251a1b27d    19136\n",
       "lora-000015  4f56d445-de55-4578-86bc-9a61bceb2c7a    21459\n",
       "lora-000017  d08c0976-ceb0-4bf3-8d54-23e21eb5e28a    19087\n",
       "lora-000051  e8324a97-0523-44aa-a4a4-3e9aae344d24    44400\n",
       "lora-000052  9513caf9-ea3a-4486-8e94-59ce2094c73c    21360\n",
       "                                                     ...  \n",
       "lora-001802  bca1fba1-5d12-484d-a1e6-fe8cad3027ab     1143\n",
       "lora-001803  12a5e0fa-e9f2-4978-aba8-757f66ae5e5a     5416\n",
       "lora-001815  2cfd5943-277e-4d6f-a172-c304d990c2d8     1130\n",
       "             f0812a21-ab64-4f8e-9cda-3b7bd81b0dc5    12052\n",
       "lora-001825  e9d32794-2a58-4321-8acd-1788b9ed704e      541\n",
       "Length: 1326, dtype: int64"
      ]
     },
     "execution_count": 55,
     "metadata": {},
     "output_type": "execute_result"
    }
   ],
   "source": [
    "cols = ['iotid','bin']\n",
    "v5.groupby(cols).size()\n",
    "# the number of records for each bin is different\n",
    "# iotid and bin do not have a one-to-one correspondence."
   ]
  },
  {
   "cell_type": "code",
   "execution_count": 56,
   "metadata": {},
   "outputs": [
    {
     "data": {
      "text/plain": [
       "(array([False,  True]), array([26765177,   213947], dtype=int64))"
      ]
     },
     "execution_count": 56,
     "metadata": {},
     "output_type": "execute_result"
    }
   ],
   "source": [
    "np.unique(v5.hide, return_counts=True)"
   ]
  },
  {
   "cell_type": "code",
   "execution_count": 57,
   "metadata": {},
   "outputs": [
    {
     "data": {
      "text/plain": [
       "(array(['NO_ERROR', 'OUT_OF_RANGE', 'UNSTABLE'], dtype=object),\n",
       " array([26763900,   201405,    13819], dtype=int64))"
      ]
     },
     "execution_count": 57,
     "metadata": {},
     "output_type": "execute_result"
    }
   ],
   "source": [
    "np.unique(v5.errorcode, return_counts=True)"
   ]
  },
  {
   "cell_type": "code",
   "execution_count": 58,
   "metadata": {},
   "outputs": [
    {
     "data": {
      "text/plain": [
       "(array([False,  True]), array([   19973, 26959151], dtype=int64))"
      ]
     },
     "execution_count": 58,
     "metadata": {},
     "output_type": "execute_result"
    }
   ],
   "source": [
    "createdat_ifequal_updatedat = [(v5.createdat[i] == v5.updatedat[i]) for i in range(v5.shape[0])]\n",
    "np.unique(createdat_ifequal_updatedat, return_counts=True)\n",
    "#createdat and updatedat do not have a one-to-one correspondence"
   ]
  },
  {
   "cell_type": "markdown",
   "metadata": {},
   "source": [
    "## Data cleaning"
   ]
  },
  {
   "cell_type": "code",
   "execution_count": 59,
   "metadata": {},
   "outputs": [],
   "source": [
    "v5['createdat_ns'] = pd.to_datetime(v5[\"createdat\"])"
   ]
  },
  {
   "cell_type": "code",
   "execution_count": 60,
   "metadata": {},
   "outputs": [],
   "source": [
    "v5['updatedat_ns'] = pd.to_datetime(v5[\"updatedat\"])"
   ]
  },
  {
   "cell_type": "code",
   "execution_count": 61,
   "metadata": {},
   "outputs": [
    {
     "data": {
      "text/html": [
       "<div>\n",
       "<style scoped>\n",
       "    .dataframe tbody tr th:only-of-type {\n",
       "        vertical-align: middle;\n",
       "    }\n",
       "\n",
       "    .dataframe tbody tr th {\n",
       "        vertical-align: top;\n",
       "    }\n",
       "\n",
       "    .dataframe thead th {\n",
       "        text-align: right;\n",
       "    }\n",
       "</style>\n",
       "<table border=\"1\" class=\"dataframe\">\n",
       "  <thead>\n",
       "    <tr style=\"text-align: right;\">\n",
       "      <th></th>\n",
       "      <th>createdat</th>\n",
       "      <th>iotid</th>\n",
       "      <th>hide</th>\n",
       "      <th>bin</th>\n",
       "      <th>errorcode</th>\n",
       "      <th>weight</th>\n",
       "      <th>battery</th>\n",
       "      <th>updatedat</th>\n",
       "      <th>weightdiff</th>\n",
       "      <th>year</th>\n",
       "      <th>month</th>\n",
       "      <th>day</th>\n",
       "      <th>createdat_ns</th>\n",
       "      <th>updatedat_ns</th>\n",
       "    </tr>\n",
       "  </thead>\n",
       "  <tbody>\n",
       "    <tr>\n",
       "      <th>0</th>\n",
       "      <td>2023-01-02 12:41:00.000</td>\n",
       "      <td>lora-000060</td>\n",
       "      <td>False</td>\n",
       "      <td>95171614-b019-4eb9-b726-0af6674a9451</td>\n",
       "      <td>NO_ERROR</td>\n",
       "      <td>14100.862135</td>\n",
       "      <td>2596.017395</td>\n",
       "      <td>2023-01-02 12:41:00.000</td>\n",
       "      <td>NaN</td>\n",
       "      <td>2023</td>\n",
       "      <td>1</td>\n",
       "      <td>2</td>\n",
       "      <td>2023-01-02 12:41:00</td>\n",
       "      <td>2023-01-02 12:41:00</td>\n",
       "    </tr>\n",
       "    <tr>\n",
       "      <th>1</th>\n",
       "      <td>2023-01-02 13:02:00.000</td>\n",
       "      <td>lora-000060</td>\n",
       "      <td>False</td>\n",
       "      <td>95171614-b019-4eb9-b726-0af6674a9451</td>\n",
       "      <td>NO_ERROR</td>\n",
       "      <td>14100.862135</td>\n",
       "      <td>2595.101854</td>\n",
       "      <td>2023-01-02 13:02:00.000</td>\n",
       "      <td>NaN</td>\n",
       "      <td>2023</td>\n",
       "      <td>1</td>\n",
       "      <td>2</td>\n",
       "      <td>2023-01-02 13:02:00</td>\n",
       "      <td>2023-01-02 13:02:00</td>\n",
       "    </tr>\n",
       "    <tr>\n",
       "      <th>2</th>\n",
       "      <td>2023-01-02 13:53:00.000</td>\n",
       "      <td>lora-000060</td>\n",
       "      <td>False</td>\n",
       "      <td>95171614-b019-4eb9-b726-0af6674a9451</td>\n",
       "      <td>NO_ERROR</td>\n",
       "      <td>14100.862135</td>\n",
       "      <td>2596.169986</td>\n",
       "      <td>2023-01-02 13:53:00.000</td>\n",
       "      <td>NaN</td>\n",
       "      <td>2023</td>\n",
       "      <td>1</td>\n",
       "      <td>2</td>\n",
       "      <td>2023-01-02 13:53:00</td>\n",
       "      <td>2023-01-02 13:53:00</td>\n",
       "    </tr>\n",
       "    <tr>\n",
       "      <th>3</th>\n",
       "      <td>2023-01-02 16:30:00.000</td>\n",
       "      <td>lora-000060</td>\n",
       "      <td>False</td>\n",
       "      <td>95171614-b019-4eb9-b726-0af6674a9451</td>\n",
       "      <td>NO_ERROR</td>\n",
       "      <td>14100.862135</td>\n",
       "      <td>2595.559625</td>\n",
       "      <td>2023-01-02 16:30:00.000</td>\n",
       "      <td>NaN</td>\n",
       "      <td>2023</td>\n",
       "      <td>1</td>\n",
       "      <td>2</td>\n",
       "      <td>2023-01-02 16:30:00</td>\n",
       "      <td>2023-01-02 16:30:00</td>\n",
       "    </tr>\n",
       "    <tr>\n",
       "      <th>4</th>\n",
       "      <td>2023-01-02 16:39:00.000</td>\n",
       "      <td>lora-000060</td>\n",
       "      <td>False</td>\n",
       "      <td>95171614-b019-4eb9-b726-0af6674a9451</td>\n",
       "      <td>NO_ERROR</td>\n",
       "      <td>14100.862135</td>\n",
       "      <td>2594.186313</td>\n",
       "      <td>2023-01-02 16:39:00.000</td>\n",
       "      <td>NaN</td>\n",
       "      <td>2023</td>\n",
       "      <td>1</td>\n",
       "      <td>2</td>\n",
       "      <td>2023-01-02 16:39:00</td>\n",
       "      <td>2023-01-02 16:39:00</td>\n",
       "    </tr>\n",
       "  </tbody>\n",
       "</table>\n",
       "</div>"
      ],
      "text/plain": [
       "                 createdat        iotid   hide  \\\n",
       "0  2023-01-02 12:41:00.000  lora-000060  False   \n",
       "1  2023-01-02 13:02:00.000  lora-000060  False   \n",
       "2  2023-01-02 13:53:00.000  lora-000060  False   \n",
       "3  2023-01-02 16:30:00.000  lora-000060  False   \n",
       "4  2023-01-02 16:39:00.000  lora-000060  False   \n",
       "\n",
       "                                    bin errorcode        weight      battery  \\\n",
       "0  95171614-b019-4eb9-b726-0af6674a9451  NO_ERROR  14100.862135  2596.017395   \n",
       "1  95171614-b019-4eb9-b726-0af6674a9451  NO_ERROR  14100.862135  2595.101854   \n",
       "2  95171614-b019-4eb9-b726-0af6674a9451  NO_ERROR  14100.862135  2596.169986   \n",
       "3  95171614-b019-4eb9-b726-0af6674a9451  NO_ERROR  14100.862135  2595.559625   \n",
       "4  95171614-b019-4eb9-b726-0af6674a9451  NO_ERROR  14100.862135  2594.186313   \n",
       "\n",
       "                 updatedat  weightdiff  year  month  day        createdat_ns  \\\n",
       "0  2023-01-02 12:41:00.000         NaN  2023      1    2 2023-01-02 12:41:00   \n",
       "1  2023-01-02 13:02:00.000         NaN  2023      1    2 2023-01-02 13:02:00   \n",
       "2  2023-01-02 13:53:00.000         NaN  2023      1    2 2023-01-02 13:53:00   \n",
       "3  2023-01-02 16:30:00.000         NaN  2023      1    2 2023-01-02 16:30:00   \n",
       "4  2023-01-02 16:39:00.000         NaN  2023      1    2 2023-01-02 16:39:00   \n",
       "\n",
       "         updatedat_ns  \n",
       "0 2023-01-02 12:41:00  \n",
       "1 2023-01-02 13:02:00  \n",
       "2 2023-01-02 13:53:00  \n",
       "3 2023-01-02 16:30:00  \n",
       "4 2023-01-02 16:39:00  "
      ]
     },
     "execution_count": 61,
     "metadata": {},
     "output_type": "execute_result"
    }
   ],
   "source": [
    "v5.head()"
   ]
  },
  {
   "cell_type": "code",
   "execution_count": 62,
   "metadata": {},
   "outputs": [],
   "source": [
    "v5 = v5.groupby(by='bin').apply(lambda x: x.sort_values([\"createdat_ns\"],ascending= True))"
   ]
  },
  {
   "cell_type": "code",
   "execution_count": 63,
   "metadata": {},
   "outputs": [],
   "source": [
    "v5.drop(['createdat','weightdiff','year','month','day'], axis=1, inplace=True)"
   ]
  },
  {
   "cell_type": "code",
   "execution_count": 64,
   "metadata": {},
   "outputs": [],
   "source": [
    "v5.drop(v5[v5.hide].index, axis=0, inplace=True)"
   ]
  },
  {
   "cell_type": "code",
   "execution_count": 65,
   "metadata": {},
   "outputs": [
    {
     "data": {
      "text/html": [
       "<div>\n",
       "<style scoped>\n",
       "    .dataframe tbody tr th:only-of-type {\n",
       "        vertical-align: middle;\n",
       "    }\n",
       "\n",
       "    .dataframe tbody tr th {\n",
       "        vertical-align: top;\n",
       "    }\n",
       "\n",
       "    .dataframe thead th {\n",
       "        text-align: right;\n",
       "    }\n",
       "</style>\n",
       "<table border=\"1\" class=\"dataframe\">\n",
       "  <thead>\n",
       "    <tr style=\"text-align: right;\">\n",
       "      <th></th>\n",
       "      <th></th>\n",
       "      <th>iotid</th>\n",
       "      <th>hide</th>\n",
       "      <th>bin</th>\n",
       "      <th>errorcode</th>\n",
       "      <th>weight</th>\n",
       "      <th>battery</th>\n",
       "      <th>updatedat</th>\n",
       "      <th>createdat_ns</th>\n",
       "      <th>updatedat_ns</th>\n",
       "    </tr>\n",
       "    <tr>\n",
       "      <th>bin</th>\n",
       "      <th></th>\n",
       "      <th></th>\n",
       "      <th></th>\n",
       "      <th></th>\n",
       "      <th></th>\n",
       "      <th></th>\n",
       "      <th></th>\n",
       "      <th></th>\n",
       "      <th></th>\n",
       "      <th></th>\n",
       "    </tr>\n",
       "  </thead>\n",
       "  <tbody>\n",
       "    <tr>\n",
       "      <th rowspan=\"5\" valign=\"top\">002a3bdd-18b3-459f-9377-483249ccf9b6</th>\n",
       "      <th>26291373</th>\n",
       "      <td>lora-001784</td>\n",
       "      <td>False</td>\n",
       "      <td>002a3bdd-18b3-459f-9377-483249ccf9b6</td>\n",
       "      <td>NO_ERROR</td>\n",
       "      <td>4588.387884</td>\n",
       "      <td>2948.348211</td>\n",
       "      <td>2023-09-22 17:02:00.000</td>\n",
       "      <td>2023-09-22 17:02:00</td>\n",
       "      <td>2023-09-22 17:02:00</td>\n",
       "    </tr>\n",
       "    <tr>\n",
       "      <th>25754646</th>\n",
       "      <td>lora-001784</td>\n",
       "      <td>False</td>\n",
       "      <td>002a3bdd-18b3-459f-9377-483249ccf9b6</td>\n",
       "      <td>NO_ERROR</td>\n",
       "      <td>4588.387884</td>\n",
       "      <td>2949.874113</td>\n",
       "      <td>2023-09-22 17:08:00.000</td>\n",
       "      <td>2023-09-22 17:08:00</td>\n",
       "      <td>2023-09-22 17:08:00</td>\n",
       "    </tr>\n",
       "    <tr>\n",
       "      <th>20770982</th>\n",
       "      <td>lora-001784</td>\n",
       "      <td>False</td>\n",
       "      <td>002a3bdd-18b3-459f-9377-483249ccf9b6</td>\n",
       "      <td>NO_ERROR</td>\n",
       "      <td>4585.336080</td>\n",
       "      <td>2947.737850</td>\n",
       "      <td>2023-09-22 17:13:00.000</td>\n",
       "      <td>2023-09-22 17:13:00</td>\n",
       "      <td>2023-09-22 17:13:00</td>\n",
       "    </tr>\n",
       "    <tr>\n",
       "      <th>25514982</th>\n",
       "      <td>lora-001784</td>\n",
       "      <td>False</td>\n",
       "      <td>002a3bdd-18b3-459f-9377-483249ccf9b6</td>\n",
       "      <td>NO_ERROR</td>\n",
       "      <td>4588.387884</td>\n",
       "      <td>2957.808804</td>\n",
       "      <td>2023-09-22 17:18:00.000</td>\n",
       "      <td>2023-09-22 17:18:00</td>\n",
       "      <td>2023-09-22 17:18:00</td>\n",
       "    </tr>\n",
       "    <tr>\n",
       "      <th>24540657</th>\n",
       "      <td>lora-001784</td>\n",
       "      <td>False</td>\n",
       "      <td>002a3bdd-18b3-459f-9377-483249ccf9b6</td>\n",
       "      <td>NO_ERROR</td>\n",
       "      <td>4585.336080</td>\n",
       "      <td>2941.023880</td>\n",
       "      <td>2023-09-22 17:23:00.000</td>\n",
       "      <td>2023-09-22 17:23:00</td>\n",
       "      <td>2023-09-22 17:23:00</td>\n",
       "    </tr>\n",
       "  </tbody>\n",
       "</table>\n",
       "</div>"
      ],
      "text/plain": [
       "                                                     iotid   hide  \\\n",
       "bin                                                                 \n",
       "002a3bdd-18b3-459f-9377-483249ccf9b6 26291373  lora-001784  False   \n",
       "                                     25754646  lora-001784  False   \n",
       "                                     20770982  lora-001784  False   \n",
       "                                     25514982  lora-001784  False   \n",
       "                                     24540657  lora-001784  False   \n",
       "\n",
       "                                                                                bin  \\\n",
       "bin                                                                                   \n",
       "002a3bdd-18b3-459f-9377-483249ccf9b6 26291373  002a3bdd-18b3-459f-9377-483249ccf9b6   \n",
       "                                     25754646  002a3bdd-18b3-459f-9377-483249ccf9b6   \n",
       "                                     20770982  002a3bdd-18b3-459f-9377-483249ccf9b6   \n",
       "                                     25514982  002a3bdd-18b3-459f-9377-483249ccf9b6   \n",
       "                                     24540657  002a3bdd-18b3-459f-9377-483249ccf9b6   \n",
       "\n",
       "                                              errorcode       weight  \\\n",
       "bin                                                                    \n",
       "002a3bdd-18b3-459f-9377-483249ccf9b6 26291373  NO_ERROR  4588.387884   \n",
       "                                     25754646  NO_ERROR  4588.387884   \n",
       "                                     20770982  NO_ERROR  4585.336080   \n",
       "                                     25514982  NO_ERROR  4588.387884   \n",
       "                                     24540657  NO_ERROR  4585.336080   \n",
       "\n",
       "                                                   battery  \\\n",
       "bin                                                          \n",
       "002a3bdd-18b3-459f-9377-483249ccf9b6 26291373  2948.348211   \n",
       "                                     25754646  2949.874113   \n",
       "                                     20770982  2947.737850   \n",
       "                                     25514982  2957.808804   \n",
       "                                     24540657  2941.023880   \n",
       "\n",
       "                                                             updatedat  \\\n",
       "bin                                                                      \n",
       "002a3bdd-18b3-459f-9377-483249ccf9b6 26291373  2023-09-22 17:02:00.000   \n",
       "                                     25754646  2023-09-22 17:08:00.000   \n",
       "                                     20770982  2023-09-22 17:13:00.000   \n",
       "                                     25514982  2023-09-22 17:18:00.000   \n",
       "                                     24540657  2023-09-22 17:23:00.000   \n",
       "\n",
       "                                                     createdat_ns  \\\n",
       "bin                                                                 \n",
       "002a3bdd-18b3-459f-9377-483249ccf9b6 26291373 2023-09-22 17:02:00   \n",
       "                                     25754646 2023-09-22 17:08:00   \n",
       "                                     20770982 2023-09-22 17:13:00   \n",
       "                                     25514982 2023-09-22 17:18:00   \n",
       "                                     24540657 2023-09-22 17:23:00   \n",
       "\n",
       "                                                     updatedat_ns  \n",
       "bin                                                                \n",
       "002a3bdd-18b3-459f-9377-483249ccf9b6 26291373 2023-09-22 17:02:00  \n",
       "                                     25754646 2023-09-22 17:08:00  \n",
       "                                     20770982 2023-09-22 17:13:00  \n",
       "                                     25514982 2023-09-22 17:18:00  \n",
       "                                     24540657 2023-09-22 17:23:00  "
      ]
     },
     "execution_count": 65,
     "metadata": {},
     "output_type": "execute_result"
    }
   ],
   "source": [
    "v5.head()"
   ]
  },
  {
   "cell_type": "code",
   "execution_count": 66,
   "metadata": {},
   "outputs": [
    {
     "name": "stdout",
     "output_type": "stream",
     "text": [
      "<class 'pandas.core.frame.DataFrame'>\n",
      "MultiIndex: 26765177 entries, ('002a3bdd-18b3-459f-9377-483249ccf9b6', 26291373) to ('fff3a4d9-8506-48f4-8387-bfb1890450e9', 25938388)\n",
      "Data columns (total 9 columns):\n",
      " #   Column        Dtype         \n",
      "---  ------        -----         \n",
      " 0   iotid         object        \n",
      " 1   hide          bool          \n",
      " 2   bin           object        \n",
      " 3   errorcode     object        \n",
      " 4   weight        float64       \n",
      " 5   battery       float64       \n",
      " 6   updatedat     object        \n",
      " 7   createdat_ns  datetime64[ns]\n",
      " 8   updatedat_ns  datetime64[ns]\n",
      "dtypes: bool(1), datetime64[ns](2), float64(2), object(4)\n",
      "memory usage: 3.0+ GB\n"
     ]
    }
   ],
   "source": [
    "v5.info()"
   ]
  },
  {
   "cell_type": "markdown",
   "metadata": {},
   "source": [
    "## Analyzing bin 002a3bdd-18b3-459f-9377-483249ccf9b6"
   ]
  },
  {
   "cell_type": "code",
   "execution_count": 70,
   "metadata": {},
   "outputs": [
    {
     "data": {
      "text/plain": [
       "1137"
      ]
     },
     "execution_count": 70,
     "metadata": {},
     "output_type": "execute_result"
    }
   ],
   "source": [
    "v5.bin.value_counts()[\"002a3bdd-18b3-459f-9377-483249ccf9b6\"]"
   ]
  },
  {
   "cell_type": "code",
   "execution_count": 72,
   "metadata": {},
   "outputs": [],
   "source": [
    "v5[:1137].to_csv(\"try.csv\")"
   ]
  },
  {
   "cell_type": "code",
   "execution_count": 77,
   "metadata": {},
   "outputs": [],
   "source": [
    "v5_bin1 = v5[:1137]"
   ]
  },
  {
   "cell_type": "code",
   "execution_count": 78,
   "metadata": {},
   "outputs": [
    {
     "data": {
      "image/png": "[encoded data removed]",
      "text/plain": [
       "<Figure size 1152x576 with 1 Axes>"
      ]
     },
     "metadata": {
      "needs_background": "light"
     },
     "output_type": "display_data"
    }
   ],
   "source": [
    "plt.figure(figsize=(16,8))\n",
    "plt.plot(v5_bin1.createdat_ns, v5_bin1.weight)\n",
    "plt.xlabel('createdate')\n",
    "plt.title('002a3bdd-18b3-459f-9377-483249ccf9b6')\n",
    "plt.ylabel('weight')\n",
    "plt.show()"
   ]
  },
  {
   "cell_type": "code",
   "execution_count": 79,
   "metadata": {},
   "outputs": [
    {
     "data": {
      "text/plain": [
       "(array(['NO_ERROR'], dtype=object), array([1137], dtype=int64))"
      ]
     },
     "execution_count": 79,
     "metadata": {},
     "output_type": "execute_result"
    }
   ],
   "source": [
    "np.unique(v5_bin1.errorcode, return_counts=True)"
   ]
  },
  {
   "cell_type": "markdown",
   "metadata": {},
   "source": [
    "Q: What's the meaning of errorcode? \n",
    "\n",
    "Q: How did you determine the value of errorcode? OUT_OF_RANGE doesn't mean Downward Spikes.\n",
    "\n",
    "Q: Do we need to drop OUT_OF_RANGE and INSTABLE?"
   ]
  },
  {
   "cell_type": "markdown",
   "metadata": {},
   "source": [
    "Q: Why weightdiff is deprecated?"
   ]
  },
  {
   "cell_type": "markdown",
   "metadata": {},
   "source": [
    "# My plan"
   ]
  },
  {
   "cell_type": "markdown",
   "metadata": {},
   "source": [
    "1. Discuss what can cause irregularities(spikes, baseline shift, other anomalies)\n",
    "\n",
    "like trash bin position change, someone pressing, scale itself malfunctioning, foreign objects on scale, network anomalies, battery effects, cleaning up trash, etc."
   ]
  },
  {
   "cell_type": "markdown",
   "metadata": {},
   "source": [
    "2. Distinguish between irregularities and noises\n",
    "\n",
    "Q: Can we use the variable of weightdiff and time interval?\n",
    "\n",
    "Q: How was the scope determined?"
   ]
  },
  {
   "cell_type": "markdown",
   "metadata": {},
   "source": [
    "3. identify problematic scales (noise to signal ratio)"
   ]
  },
  {
   "cell_type": "markdown",
   "metadata": {},
   "source": [
    "4. analyzing the impact between variables\n",
    "\n",
    "like battery and scale"
   ]
  },
  {
   "cell_type": "markdown",
   "metadata": {},
   "source": [
    "5. categorize irregularities\n",
    "\n",
    "Q:If we can categorize irregularities by clustering?\n",
    "\n",
    "Q: In what way can we decide a range of possible weights for a bin?\n",
    "\n",
    "Q: How to find Baseline. Weight after emptying trash cans?\n",
    "\n",
    "I need to learn more about Auto-Regressive (AR) Models and Rolling Averages"
   ]
  },
  {
   "cell_type": "markdown",
   "metadata": {},
   "source": [
    "6. Correlate the causes of irregularities with their categories"
   ]
  },
  {
   "cell_type": "markdown",
   "metadata": {},
   "source": [
    "7. Correct categorized irregularities"
   ]
  }
 ],
 "metadata": {
  "kernelspec": {
   "display_name": "base",
   "language": "python",
   "name": "python3"
  },
  "language_info": {
   "codemirror_mode": {
    "name": "ipython",
    "version": 3
   },
   "file_extension": ".py",
   "mimetype": "text/x-python",
   "name": "python",
   "nbconvert_exporter": "python",
   "pygments_lexer": "ipython3",
   "version": "3.9.12"
  }
 },
 "nbformat": 4,
 "nbformat_minor": 2
}
